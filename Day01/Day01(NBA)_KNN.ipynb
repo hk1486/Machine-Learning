{
 "cells": [
  {
   "cell_type": "markdown",
   "id": "peaceful-native",
   "metadata": {},
   "source": [
    "# NBA 데이터를 가지고 적합한 포지션 판단"
   ]
  },
  {
   "cell_type": "markdown",
   "id": "bright-package",
   "metadata": {},
   "source": [
    "https://www.basketball-reference.com/leagues/NBA_2017_per_game.html"
   ]
  },
  {
   "cell_type": "markdown",
   "id": "lightweight-athletics",
   "metadata": {},
   "source": [
    "% 기호는 리눅스 운영체제의 SHELL을 의미하고\n",
    "\n",
    "! 기호는 윈도우 운영체제의 CMD를 의미한다.\n",
    "\n",
    "예를들어, 현재 위치의 목록을 확인한다.\n",
    "\n",
    "리눅스 : %ls\n",
    "\n",
    "윈도우 : !dir"
   ]
  },
  {
   "cell_type": "code",
   "execution_count": 3,
   "id": "champion-complement",
   "metadata": {},
   "outputs": [
    {
     "data": {
      "text/plain": [
       "'C:\\\\python'"
      ]
     },
     "execution_count": 3,
     "metadata": {},
     "output_type": "execute_result"
    }
   ],
   "source": [
    "# 현재 작업중인 디렉토리의 위치를 알려줌\n",
    "\n",
    "%pwd"
   ]
  },
  {
   "cell_type": "markdown",
   "id": "documentary-drive",
   "metadata": {},
   "source": [
    "## 실제 농구선수의 경기 기록을 바탕으로 임의의 선수 표지션을 예측할 수 있다."
   ]
  },
  {
   "cell_type": "code",
   "execution_count": 5,
   "id": "vocal-allowance",
   "metadata": {},
   "outputs": [],
   "source": [
    "import pandas as pd"
   ]
  },
  {
   "cell_type": "code",
   "execution_count": 6,
   "id": "apparent-qualification",
   "metadata": {},
   "outputs": [],
   "source": [
    "df = pd.read_csv('basketball_stat.csv')"
   ]
  },
  {
   "cell_type": "code",
   "execution_count": 7,
   "id": "likely-blair",
   "metadata": {},
   "outputs": [
    {
     "data": {
      "text/html": [
       "<div>\n",
       "<style scoped>\n",
       "    .dataframe tbody tr th:only-of-type {\n",
       "        vertical-align: middle;\n",
       "    }\n",
       "\n",
       "    .dataframe tbody tr th {\n",
       "        vertical-align: top;\n",
       "    }\n",
       "\n",
       "    .dataframe thead th {\n",
       "        text-align: right;\n",
       "    }\n",
       "</style>\n",
       "<table border=\"1\" class=\"dataframe\">\n",
       "  <thead>\n",
       "    <tr style=\"text-align: right;\">\n",
       "      <th></th>\n",
       "      <th>Player</th>\n",
       "      <th>Pos</th>\n",
       "      <th>3P</th>\n",
       "      <th>2P</th>\n",
       "      <th>TRB</th>\n",
       "      <th>AST</th>\n",
       "      <th>STL</th>\n",
       "      <th>BLK</th>\n",
       "    </tr>\n",
       "  </thead>\n",
       "  <tbody>\n",
       "    <tr>\n",
       "      <th>0</th>\n",
       "      <td>Alex Abrines</td>\n",
       "      <td>SG</td>\n",
       "      <td>1.4</td>\n",
       "      <td>0.6</td>\n",
       "      <td>1.3</td>\n",
       "      <td>0.6</td>\n",
       "      <td>0.5</td>\n",
       "      <td>0.1</td>\n",
       "    </tr>\n",
       "    <tr>\n",
       "      <th>1</th>\n",
       "      <td>Steven Adams</td>\n",
       "      <td>C</td>\n",
       "      <td>0.0</td>\n",
       "      <td>4.7</td>\n",
       "      <td>7.7</td>\n",
       "      <td>1.1</td>\n",
       "      <td>1.1</td>\n",
       "      <td>1.0</td>\n",
       "    </tr>\n",
       "    <tr>\n",
       "      <th>2</th>\n",
       "      <td>Alexis Ajinca</td>\n",
       "      <td>C</td>\n",
       "      <td>0.0</td>\n",
       "      <td>2.3</td>\n",
       "      <td>4.5</td>\n",
       "      <td>0.3</td>\n",
       "      <td>0.5</td>\n",
       "      <td>0.6</td>\n",
       "    </tr>\n",
       "    <tr>\n",
       "      <th>3</th>\n",
       "      <td>Chris Andersen</td>\n",
       "      <td>C</td>\n",
       "      <td>0.0</td>\n",
       "      <td>0.8</td>\n",
       "      <td>2.6</td>\n",
       "      <td>0.4</td>\n",
       "      <td>0.4</td>\n",
       "      <td>0.6</td>\n",
       "    </tr>\n",
       "    <tr>\n",
       "      <th>4</th>\n",
       "      <td>Will Barton</td>\n",
       "      <td>SG</td>\n",
       "      <td>1.5</td>\n",
       "      <td>3.5</td>\n",
       "      <td>4.3</td>\n",
       "      <td>3.4</td>\n",
       "      <td>0.8</td>\n",
       "      <td>0.5</td>\n",
       "    </tr>\n",
       "  </tbody>\n",
       "</table>\n",
       "</div>"
      ],
      "text/plain": [
       "           Player Pos   3P   2P  TRB  AST  STL  BLK\n",
       "0    Alex Abrines  SG  1.4  0.6  1.3  0.6  0.5  0.1\n",
       "1    Steven Adams   C  0.0  4.7  7.7  1.1  1.1  1.0\n",
       "2   Alexis Ajinca   C  0.0  2.3  4.5  0.3  0.5  0.6\n",
       "3  Chris Andersen   C  0.0  0.8  2.6  0.4  0.4  0.6\n",
       "4     Will Barton  SG  1.5  3.5  4.3  3.4  0.8  0.5"
      ]
     },
     "execution_count": 7,
     "metadata": {},
     "output_type": "execute_result"
    }
   ],
   "source": [
    "df.head()"
   ]
  },
  {
   "cell_type": "markdown",
   "id": "reverse-yacht",
   "metadata": {},
   "source": [
    "- (1) Pos : 포지션\n",
    "- (2) 3P : 3점슛\n",
    "- (3) 2P : 2점슛\n",
    "- (4) TRB : 한경기당 평균 리바운드\n",
    "- (5) AST : 한경기당 평균 패스 성공 횟수\n",
    "- (6) STL : 한경기당 평균 가로채기 성공 횟수\n",
    "- (7) BLK : 한경기당 평균 블로킹 성공 횟수"
   ]
  },
  {
   "cell_type": "markdown",
   "id": "micro-crisis",
   "metadata": {},
   "source": [
    "### 데이터 개수 확인"
   ]
  },
  {
   "cell_type": "code",
   "execution_count": 8,
   "id": "hybrid-supplement",
   "metadata": {},
   "outputs": [
    {
     "data": {
      "text/plain": [
       "C     50\n",
       "SG    50\n",
       "Name: Pos, dtype: int64"
      ]
     },
     "execution_count": 8,
     "metadata": {},
     "output_type": "execute_result"
    }
   ],
   "source": [
    "df.Pos.value_counts()"
   ]
  },
  {
   "cell_type": "markdown",
   "id": "disciplinary-summer",
   "metadata": {},
   "source": [
    "- C : 센터\n",
    "- SG : 슈팅가드"
   ]
  },
  {
   "cell_type": "markdown",
   "id": "potential-selling",
   "metadata": {},
   "source": [
    "### 데이터 시각화"
   ]
  },
  {
   "cell_type": "markdown",
   "id": "impressive-foundation",
   "metadata": {},
   "source": [
    "### - 뚜렷한 결정경계선을 찾기 위해서 칼럼별로 2개씩 짝지어서 그래프를 그려보자 "
   ]
  },
  {
   "cell_type": "code",
   "execution_count": 9,
   "id": "mechanical-trademark",
   "metadata": {},
   "outputs": [
    {
     "data": {
      "text/plain": [
       "Text(0.5, 1.0, 'STL and 2P in 2D plane')"
      ]
     },
     "execution_count": 9,
     "metadata": {},
     "output_type": "execute_result"
    },
    {
     "data": {
      "image/png": "[encoded data removed]",
      "text/plain": [
       "<Figure size 410x360 with 1 Axes>"
      ]
     },
     "metadata": {
      "needs_background": "light"
     },
     "output_type": "display_data"
    }
   ],
   "source": [
    "import matplotlib.pyplot as plt\n",
    "import seaborn as sns\n",
    "%matplotlib inline\n",
    "\n",
    "# 2점슛, 스틸 데이터 시각화\n",
    "\n",
    "sns.lmplot(x='STL', y='2P', data=df,\n",
    "           fit_reg=False,\n",
    "           scatter_kws={'s':150},\n",
    "           markers=['o','x'],\n",
    "           hue='Pos')\n",
    "\n",
    "plt.title('STL and 2P in 2D plane')"
   ]
  },
  {
   "cell_type": "code",
   "execution_count": 10,
   "id": "processed-circuit",
   "metadata": {},
   "outputs": [
    {
     "data": {
      "text/plain": [
       "Text(0.5, 1.0, 'AST and 2P in 2D plane')"
      ]
     },
     "execution_count": 10,
     "metadata": {},
     "output_type": "execute_result"
    },
    {
     "data": {
      "image/png": "[encoded data removed]",
      "text/plain": [
       "<Figure size 410x360 with 1 Axes>"
      ]
     },
     "metadata": {
      "needs_background": "light"
     },
     "output_type": "display_data"
    }
   ],
   "source": [
    "# 2점슛, 어시스트 데이터 시각화\n",
    "\n",
    "sns.lmplot(x='AST', y='2P', data=df, fit_reg=False, scatter_kws={'s':150}, markers=['o','x'], hue='Pos')\n",
    "\n",
    "plt.title('AST and 2P in 2D plane')"
   ]
  },
  {
   "cell_type": "code",
   "execution_count": 11,
   "id": "fiscal-motel",
   "metadata": {},
   "outputs": [
    {
     "data": {
      "text/plain": [
       "Text(0.5, 1.0, 'AST and 2P in 2D plane')"
      ]
     },
     "execution_count": 11,
     "metadata": {},
     "output_type": "execute_result"
    },
    {
     "data": {
      "image/png": "[encoded data removed]",
      "text/plain": [
       "<Figure size 410x360 with 1 Axes>"
      ]
     },
     "metadata": {
      "needs_background": "light"
     },
     "output_type": "display_data"
    }
   ],
   "source": [
    "# 3점슛, 블로킹 데이터 시각화\n",
    "\n",
    "sns.lmplot(x='BLK', y='3P', data=df, fit_reg=False, scatter_kws={'s':150}, markers=['o','x'], hue='Pos')\n",
    "\n",
    "plt.title('AST and 2P in 2D plane')"
   ]
  },
  {
   "cell_type": "code",
   "execution_count": 12,
   "id": "furnished-smooth",
   "metadata": {},
   "outputs": [
    {
     "data": {
      "text/plain": [
       "Text(0.5, 1.0, 'STL and 3P in 2D plane')"
      ]
     },
     "execution_count": 12,
     "metadata": {},
     "output_type": "execute_result"
    },
    {
     "data": {
      "image/png": "[encoded data removed]",
      "text/plain": [
       "<Figure size 410x360 with 1 Axes>"
      ]
     },
     "metadata": {
      "needs_background": "light"
     },
     "output_type": "display_data"
    }
   ],
   "source": [
    "sns.lmplot(x='STL', y='3P', data=df,\n",
    "           fit_reg=False,\n",
    "           scatter_kws={'s':150},\n",
    "           markers=['o','x'],\n",
    "           hue='Pos')\n",
    "\n",
    "plt.title('STL and 3P in 2D plane')"
   ]
  },
  {
   "cell_type": "code",
   "execution_count": 13,
   "id": "technical-cardiff",
   "metadata": {},
   "outputs": [
    {
     "data": {
      "text/plain": [
       "Text(0.5, 1.0, 'BLK and 3P in 2D plane')"
      ]
     },
     "execution_count": 13,
     "metadata": {},
     "output_type": "execute_result"
    },
    {
     "data": {
      "image/png": "[encoded data removed]",
      "text/plain": [
       "<Figure size 410x360 with 1 Axes>"
      ]
     },
     "metadata": {
      "needs_background": "light"
     },
     "output_type": "display_data"
    }
   ],
   "source": [
    "sns.lmplot(x='AST', y='3P', data=df,\n",
    "           fit_reg=False,\n",
    "           scatter_kws={'s':150},\n",
    "           markers=['o','x'],\n",
    "           hue='Pos')\n",
    "\n",
    "plt.title('BLK and 3P in 2D plane')"
   ]
  },
  {
   "cell_type": "code",
   "execution_count": 14,
   "id": "spatial-george",
   "metadata": {
    "scrolled": true
   },
   "outputs": [
    {
     "data": {
      "text/plain": [
       "Text(0.5, 1.0, 'TRB and 3P in 2D plane')"
      ]
     },
     "execution_count": 14,
     "metadata": {},
     "output_type": "execute_result"
    },
    {
     "data": {
      "image/png": "[encoded data removed]",
      "text/plain": [
       "<Figure size 410x360 with 1 Axes>"
      ]
     },
     "metadata": {
      "needs_background": "light"
     },
     "output_type": "display_data"
    }
   ],
   "source": [
    "sns.lmplot(x='TRB', y='3P', data=df,\n",
    "           fit_reg=False,\n",
    "           scatter_kws={'s':150},\n",
    "           markers=['o','x'],\n",
    "           hue='Pos')\n",
    "\n",
    "plt.title('TRB and 3P in 2D plane')"
   ]
  },
  {
   "cell_type": "code",
   "execution_count": 15,
   "id": "continental-clear",
   "metadata": {},
   "outputs": [
    {
     "data": {
      "text/plain": [
       "Text(0.5, 1.0, 'BLK and TRB in 2D plane')"
      ]
     },
     "execution_count": 15,
     "metadata": {},
     "output_type": "execute_result"
    },
    {
     "data": {
      "image/png": "[encoded data removed]",
      "text/plain": [
       "<Figure size 410x360 with 1 Axes>"
      ]
     },
     "metadata": {
      "needs_background": "light"
     },
     "output_type": "display_data"
    }
   ],
   "source": [
    "sns.lmplot(x='TRB', y='BLK', data=df,\n",
    "           fit_reg=False,\n",
    "           scatter_kws={'s':150},\n",
    "           markers=['o','x'],\n",
    "           hue='Pos')\n",
    "\n",
    "plt.title('BLK and TRB in 2D plane')"
   ]
  },
  {
   "cell_type": "markdown",
   "id": "mathematical-looking",
   "metadata": {},
   "source": [
    "#### 시각화 자료를 기준으로 포지션을 선택하는데, SG, C를 기준으로 할 경우에는\n",
    "\n",
    "#### 리바운드, 블로킹, 3점슛 항목을 기준으로 선택할 수 있으며,\n",
    "\n",
    "#### 2점슛과 어시스트, 가로채기는 SG, C 포지션 선택항목으로는 부적합함을 알 수 있다."
   ]
  },
  {
   "cell_type": "markdown",
   "id": "suitable-verification",
   "metadata": {},
   "source": [
    "## 정제 : 데이터 다듬기"
   ]
  },
  {
   "cell_type": "markdown",
   "id": "reserved-chance",
   "metadata": {},
   "source": [
    "### 분별력 없는 특징을 데이터에서 제거한다.\n",
    "#### axis = 0 , 데이터 프레임에서 위/아래 행방향으로 작업 진행\n",
    "#### axis = 1 , 데이터 프레임에서 좌/우 열방향으로 작업 진행"
   ]
  },
  {
   "cell_type": "code",
   "execution_count": 16,
   "id": "liberal-deposit",
   "metadata": {},
   "outputs": [],
   "source": [
    "df.drop(['2P', 'AST', 'STL'], axis=1, inplace =True)"
   ]
  },
  {
   "cell_type": "code",
   "execution_count": 17,
   "id": "inappropriate-torture",
   "metadata": {},
   "outputs": [
    {
     "data": {
      "text/html": [
       "<div>\n",
       "<style scoped>\n",
       "    .dataframe tbody tr th:only-of-type {\n",
       "        vertical-align: middle;\n",
       "    }\n",
       "\n",
       "    .dataframe tbody tr th {\n",
       "        vertical-align: top;\n",
       "    }\n",
       "\n",
       "    .dataframe thead th {\n",
       "        text-align: right;\n",
       "    }\n",
       "</style>\n",
       "<table border=\"1\" class=\"dataframe\">\n",
       "  <thead>\n",
       "    <tr style=\"text-align: right;\">\n",
       "      <th></th>\n",
       "      <th>Player</th>\n",
       "      <th>Pos</th>\n",
       "      <th>3P</th>\n",
       "      <th>TRB</th>\n",
       "      <th>BLK</th>\n",
       "    </tr>\n",
       "  </thead>\n",
       "  <tbody>\n",
       "    <tr>\n",
       "      <th>0</th>\n",
       "      <td>Alex Abrines</td>\n",
       "      <td>SG</td>\n",
       "      <td>1.4</td>\n",
       "      <td>1.3</td>\n",
       "      <td>0.1</td>\n",
       "    </tr>\n",
       "    <tr>\n",
       "      <th>1</th>\n",
       "      <td>Steven Adams</td>\n",
       "      <td>C</td>\n",
       "      <td>0.0</td>\n",
       "      <td>7.7</td>\n",
       "      <td>1.0</td>\n",
       "    </tr>\n",
       "    <tr>\n",
       "      <th>2</th>\n",
       "      <td>Alexis Ajinca</td>\n",
       "      <td>C</td>\n",
       "      <td>0.0</td>\n",
       "      <td>4.5</td>\n",
       "      <td>0.6</td>\n",
       "    </tr>\n",
       "    <tr>\n",
       "      <th>3</th>\n",
       "      <td>Chris Andersen</td>\n",
       "      <td>C</td>\n",
       "      <td>0.0</td>\n",
       "      <td>2.6</td>\n",
       "      <td>0.6</td>\n",
       "    </tr>\n",
       "    <tr>\n",
       "      <th>4</th>\n",
       "      <td>Will Barton</td>\n",
       "      <td>SG</td>\n",
       "      <td>1.5</td>\n",
       "      <td>4.3</td>\n",
       "      <td>0.5</td>\n",
       "    </tr>\n",
       "  </tbody>\n",
       "</table>\n",
       "</div>"
      ],
      "text/plain": [
       "           Player Pos   3P  TRB  BLK\n",
       "0    Alex Abrines  SG  1.4  1.3  0.1\n",
       "1    Steven Adams   C  0.0  7.7  1.0\n",
       "2   Alexis Ajinca   C  0.0  4.5  0.6\n",
       "3  Chris Andersen   C  0.0  2.6  0.6\n",
       "4     Will Barton  SG  1.5  4.3  0.5"
      ]
     },
     "execution_count": 17,
     "metadata": {},
     "output_type": "execute_result"
    }
   ],
   "source": [
    "df.head()"
   ]
  },
  {
   "cell_type": "markdown",
   "id": "forward-width",
   "metadata": {},
   "source": [
    "## 데이터 분류 (학습용 / 테스트용으로 구분)"
   ]
  },
  {
   "cell_type": "markdown",
   "id": "psychological-veteran",
   "metadata": {},
   "source": [
    "데이터 분류 시 사이킷런의 train_test_split 사용하여 간단하게 데이터를 분류할 수 있다."
   ]
  },
  {
   "cell_type": "code",
   "execution_count": 18,
   "id": "exterior-improvement",
   "metadata": {},
   "outputs": [],
   "source": [
    "from sklearn.model_selection import train_test_split\n",
    "\n",
    "# 학습용으로 80%, 테스트용으로 20% 데이터 분류한다.\n",
    "train, test = train_test_split(df, test_size=0.2)"
   ]
  },
  {
   "cell_type": "code",
   "execution_count": 19,
   "id": "terminal-cylinder",
   "metadata": {},
   "outputs": [
    {
     "data": {
      "text/plain": [
       "80"
      ]
     },
     "execution_count": 19,
     "metadata": {},
     "output_type": "execute_result"
    }
   ],
   "source": [
    "train.shape[0]"
   ]
  },
  {
   "cell_type": "code",
   "execution_count": 20,
   "id": "thrown-sacramento",
   "metadata": {},
   "outputs": [
    {
     "data": {
      "text/plain": [
       "20"
      ]
     },
     "execution_count": 20,
     "metadata": {},
     "output_type": "execute_result"
    }
   ],
   "source": [
    "test.shape[0]"
   ]
  },
  {
   "cell_type": "markdown",
   "id": "handmade-wallet",
   "metadata": {},
   "source": [
    "## 데이터 저장하기"
   ]
  },
  {
   "cell_type": "code",
   "execution_count": 21,
   "id": "fiscal-candy",
   "metadata": {},
   "outputs": [],
   "source": [
    "import pickle\n",
    "\n",
    "with open('basketball_train.pkl', 'wb') as train_data :\n",
    "    pickle.dump(train, train_data)\n",
    "    \n",
    "with open('basketball_test.pkl', 'wb') as test_data :\n",
    "    pickle.dump(test, test_data)"
   ]
  },
  {
   "cell_type": "markdown",
   "id": "annoying-outdoors",
   "metadata": {},
   "source": [
    "### pickle함수\n",
    "\n",
    "- 파이썬 객체를 파일에 저장하는 것을 피클링이라 함.\n",
    "- 파일에서 객체를 읽어들이는 것을 언피클링이라 한다.\n",
    "\n",
    "피클링의 기준은 텍스트 파일이다.\n",
    "\n",
    "일반적인 텍스트 파일을 저장할때는 파일 입출력을 사용한다.\n",
    "\n",
    "하지만, 리스트나 클래스 같은 텍스트가 아닌 자료형은 일반적인 파일 입출력으로는 데이터를 저장하거나 불러올 수 없다.\n",
    "\n",
    "파이썬에서 텍스트 이외의 자료형을 파일로 저장/호출 하기 위한 모듈이 pickle 모듈이다."
   ]
  },
  {
   "cell_type": "code",
   "execution_count": 39,
   "id": "western-livestock",
   "metadata": {},
   "outputs": [],
   "source": [
    "# 일반적인 텍스트 파일을 저장하는 경우\n",
    "\n",
    "text = 'python'\n",
    "\n",
    "with open('python.txt', 'w') as f:\n",
    "    f.write(text)"
   ]
  },
  {
   "cell_type": "code",
   "execution_count": 44,
   "id": "selected-villa",
   "metadata": {},
   "outputs": [],
   "source": [
    "# 리스트 파일을 저장하는 경우\n",
    "\n",
    "list = ['a','b','c']\n",
    "\n",
    "with open('list.txt', 'wb') as f:\n",
    "    pickle.dump('list.txt', f)"
   ]
  },
  {
   "cell_type": "markdown",
   "id": "ahead-bolivia",
   "metadata": {},
   "source": [
    "### 저장된 함수를 피클 함수로 불러오기 "
   ]
  },
  {
   "cell_type": "code",
   "execution_count": 45,
   "id": "pleased-retail",
   "metadata": {},
   "outputs": [],
   "source": [
    "with open('list.txt', 'rb') as f:\n",
    "    data = pickle.load(f)"
   ]
  },
  {
   "cell_type": "code",
   "execution_count": 46,
   "id": "instructional-father",
   "metadata": {},
   "outputs": [
    {
     "data": {
      "text/plain": [
       "'list.txt'"
      ]
     },
     "execution_count": 46,
     "metadata": {},
     "output_type": "execute_result"
    }
   ],
   "source": [
    "data"
   ]
  },
  {
   "cell_type": "markdown",
   "id": "multiple-integral",
   "metadata": {},
   "source": [
    "## 피클함수 예제"
   ]
  },
  {
   "cell_type": "code",
   "execution_count": 1,
   "id": "permanent-comment",
   "metadata": {},
   "outputs": [],
   "source": [
    "import pickle \n",
    "\n",
    "Name = '손흥민'\n",
    "키 = '183cm'\n",
    "몸무게 =  '77kg'\n",
    "혈액형 = 'AB형'\n",
    "    \n",
    "with open('son.p', 'wb') as file:\n",
    "    pickle.dump(Name, file)\n",
    "    pickle.dump(키, file)\n",
    "    pickle.dump(몸무게, file)\n",
    "    pickle.dump(혈액형, file)"
   ]
  },
  {
   "cell_type": "code",
   "execution_count": 51,
   "id": "geological-tension",
   "metadata": {},
   "outputs": [],
   "source": [
    "with open('son.p', 'rb') as f:\n",
    "    data = pickle.load(f)"
   ]
  },
  {
   "cell_type": "code",
   "execution_count": 52,
   "id": "injured-evans",
   "metadata": {},
   "outputs": [
    {
     "data": {
      "text/plain": [
       "'손흥민'"
      ]
     },
     "execution_count": 52,
     "metadata": {},
     "output_type": "execute_result"
    }
   ],
   "source": [
    "data"
   ]
  },
  {
   "cell_type": "code",
   "execution_count": 3,
   "id": "sticky-seminar",
   "metadata": {},
   "outputs": [
    {
     "name": "stdout",
     "output_type": "stream",
     "text": [
      "이름:  손흥민\n",
      "키:  183cm\n",
      "몸무게:  77kg\n",
      "혈액형:  AB형\n"
     ]
    }
   ],
   "source": [
    "import pickle \n",
    "\n",
    "with open('son.p', 'rb') as f:\n",
    "    Name = pickle.load(f)\n",
    "    키 = pickle.load(f)\n",
    "    몸무게 = pickle.load(f)\n",
    "    혈액형 = pickle.load(f)\n",
    "    \n",
    "    print(\"이름: \",Name)\n",
    "    print(\"키: \",키)\n",
    "    print(\"몸무게: \",몸무게)\n",
    "    print(\"혈액형: \",혈액형)"
   ]
  },
  {
   "cell_type": "markdown",
   "id": "increased-fruit",
   "metadata": {},
   "source": [
    "## 농구선수 포지션 예측하기 - 계속"
   ]
  },
  {
   "cell_type": "code",
   "execution_count": 41,
   "id": "healthy-luxembourg",
   "metadata": {},
   "outputs": [
    {
     "name": "stderr",
     "output_type": "stream",
     "text": [
      "UsageError: unrecognized arguments: # 그래프를 노트북안에 출력\n"
     ]
    }
   ],
   "source": [
    "import pandas as pd\n",
    "import pickle # 파일 저장 또는 불러오기 위해서\n",
    "import matplotlib.pyplot as plt\n",
    "import seaborn as sns\n",
    "import numpy as np # 수치, 통계\n",
    "\n",
    "%matplotlib inline # 그래프를 노트북안에 출력\n",
    "np.random.seed(5)"
   ]
  },
  {
   "cell_type": "markdown",
   "id": "postal-python",
   "metadata": {},
   "source": [
    "## 최적의 k 값 찾아내기\n",
    "- (Cross Validation : 교차 검증)"
   ]
  },
  {
   "cell_type": "code",
   "execution_count": 42,
   "id": "historical-worst",
   "metadata": {},
   "outputs": [
    {
     "data": {
      "text/plain": [
       "[0.8875,\n",
       " 0.875,\n",
       " 0.875,\n",
       " 0.8625,\n",
       " 0.875,\n",
       " 0.8625,\n",
       " 0.8625,\n",
       " 0.8625,\n",
       " 0.8625,\n",
       " 0.875,\n",
       " 0.875,\n",
       " 0.875,\n",
       " 0.8625,\n",
       " 0.8625,\n",
       " 0.85,\n",
       " 0.85,\n",
       " 0.825,\n",
       " 0.8,\n",
       " 0.8]"
      ]
     },
     "execution_count": 42,
     "metadata": {},
     "output_type": "execute_result"
    }
   ],
   "source": [
    "# 라이브러리 호출\n",
    "from sklearn.neighbors import KNeighborsClassifier\n",
    "from sklearn.model_selection import cross_val_score\n",
    "\n",
    "# k의 최댓값에서 2로 나눈 값(몫)을 사용한다. (교차검증은 학습 데이터의 절반까지만 진행)\n",
    "max_k_range = train.shape[0] // 2\n",
    "k_list = []\n",
    "for i in range(3, max_k_range, 2): # 3부터 지정(1 이상의 홀수만: 1 또는 짝수는 값이 치우칠 수 있음)\n",
    "    k_list.append(i)\n",
    "    \n",
    "cross_validation_scores = []\n",
    "\n",
    "# 학습용 데이터로 3점슛, 블로킹, 리바운드 항목을 선택\n",
    "x_train = train[['3P','BLK','TRB']]  # train_data\n",
    "# 테스트용 데이터로 포지션을 선택\n",
    "y_train = train[['Pos']]             # test_data\n",
    "\n",
    "# 교차 검증을 10번 돌림, K=10, 각 k를 대상으로 검증 결과를 저장한다.\n",
    "for k in k_list:\n",
    "    knn = KNeighborsClassifier(n_neighbors = k)\n",
    "    scores = cross_val_score(knn, x_train, y_train.values.ravel(),\n",
    "                            cv=10, scoring='accuracy')\n",
    "    cross_validation_scores.append(scores.mean())\n",
    "\n",
    "cross_validation_scores"
   ]
  },
  {
   "cell_type": "markdown",
   "id": "responsible-length",
   "metadata": {},
   "source": [
    "## 데이터 시각화 (k의 변화에 따른 정확도)"
   ]
  },
  {
   "cell_type": "code",
   "execution_count": 45,
   "id": "rapid-example",
   "metadata": {
    "scrolled": true
   },
   "outputs": [
    {
     "data": {
      "image/png": "[encoded data removed]",
      "text/plain": [
       "<Figure size 432x288 with 1 Axes>"
      ]
     },
     "metadata": {
      "needs_background": "light"
     },
     "output_type": "display_data"
    },
    {
     "name": "stdout",
     "output_type": "stream",
     "text": [
      "The best number of k : 3\n"
     ]
    }
   ],
   "source": [
    "plt.plot(k_list, cross_validation_scores)\n",
    "plt.xlabel('the number of k')\n",
    "plt.ylabel('Accuracy')\n",
    "plt.grid()\n",
    "plt.show()\n",
    "\n",
    "# k의 최적값을 찾아본다.\n",
    "cvs = cross_validation_scores\n",
    "k = k_list[cvs.index(max(cross_validation_scores))]\n",
    "print(\"The best number of k : \" + str(k))"
   ]
  },
  {
   "cell_type": "markdown",
   "id": "fundamental-palestinian",
   "metadata": {},
   "source": [
    "## 모델 테스트\n",
    "\n",
    "- 6개의 매개변수(3P, 2P, BLK, PRB, AST, STL) 중에서 변별력이 있다고 판단된 3개 변수(3P, BLK, TRB)의 속성을 사용해서 \n",
    "- KNN 모듈을 학습시켜 테스트를 진행한다."
   ]
  },
  {
   "cell_type": "code",
   "execution_count": 57,
   "id": "naked-marketing",
   "metadata": {},
   "outputs": [],
   "source": [
    "# 모듈 호출\n",
    "from sklearn.neighbors import KNeighborsClassifier\n",
    "from sklearn.metrics import accuracy_score\n",
    "\n",
    "# 학습 모델 알고리즘 선택\n",
    "knn = KNeighborsClassifier(n_neighbors = k) # k값 넣어줌\n",
    "\n",
    "# 학습에 사용할 속성 지정\n",
    "x_train = train[['3P','BLK','TRB']]\n",
    "# 테스트용 데이터로 포지션을 선택\n",
    "y_train = train[['Pos']]\n",
    "\n",
    "# KNN 모델로 학습 진행\n",
    "knn.fit(x_train, y_train.values.ravel())\n",
    "\n",
    "# 테스트 데이터에서 분류를 위해 사용한 속성 지정\n",
    "x_test = test[['3P','BLK','TRB']]\n",
    "# 선수 포지션에 대한 정답 지정\n",
    "y_test = test[['Pos']]\n",
    "\n",
    "# 테스트 시작\n",
    "predict = knn.predict(x_test)"
   ]
  },
  {
   "cell_type": "code",
   "execution_count": 58,
   "id": "informed-modern",
   "metadata": {},
   "outputs": [
    {
     "name": "stdout",
     "output_type": "stream",
     "text": [
      "['C' 'SG' 'C' 'SG' 'C' 'C' 'C' 'SG' 'SG' 'C' 'SG' 'SG' 'SG' 'C' 'C' 'SG'\n",
      " 'SG' 'C' 'SG' 'C']\n"
     ]
    }
   ],
   "source": [
    "print(predict) # 20개 예측 정답 데이터 출력"
   ]
  },
  {
   "cell_type": "markdown",
   "id": "national-interpretation",
   "metadata": {},
   "source": [
    "## 실제값과 예측값 비교하기"
   ]
  },
  {
   "cell_type": "code",
   "execution_count": 59,
   "id": "abstract-heater",
   "metadata": {},
   "outputs": [
    {
     "data": {
      "text/html": [
       "<div>\n",
       "<style scoped>\n",
       "    .dataframe tbody tr th:only-of-type {\n",
       "        vertical-align: middle;\n",
       "    }\n",
       "\n",
       "    .dataframe tbody tr th {\n",
       "        vertical-align: top;\n",
       "    }\n",
       "\n",
       "    .dataframe thead th {\n",
       "        text-align: right;\n",
       "    }\n",
       "</style>\n",
       "<table border=\"1\" class=\"dataframe\">\n",
       "  <thead>\n",
       "    <tr style=\"text-align: right;\">\n",
       "      <th></th>\n",
       "      <th>prediction(예측)</th>\n",
       "      <th>ground_truth(정답)</th>\n",
       "    </tr>\n",
       "  </thead>\n",
       "  <tbody>\n",
       "    <tr>\n",
       "      <th>0</th>\n",
       "      <td>C</td>\n",
       "      <td>C</td>\n",
       "    </tr>\n",
       "    <tr>\n",
       "      <th>1</th>\n",
       "      <td>SG</td>\n",
       "      <td>SG</td>\n",
       "    </tr>\n",
       "    <tr>\n",
       "      <th>2</th>\n",
       "      <td>C</td>\n",
       "      <td>C</td>\n",
       "    </tr>\n",
       "    <tr>\n",
       "      <th>3</th>\n",
       "      <td>SG</td>\n",
       "      <td>SG</td>\n",
       "    </tr>\n",
       "    <tr>\n",
       "      <th>4</th>\n",
       "      <td>C</td>\n",
       "      <td>C</td>\n",
       "    </tr>\n",
       "    <tr>\n",
       "      <th>5</th>\n",
       "      <td>C</td>\n",
       "      <td>C</td>\n",
       "    </tr>\n",
       "    <tr>\n",
       "      <th>6</th>\n",
       "      <td>C</td>\n",
       "      <td>C</td>\n",
       "    </tr>\n",
       "    <tr>\n",
       "      <th>7</th>\n",
       "      <td>SG</td>\n",
       "      <td>SG</td>\n",
       "    </tr>\n",
       "    <tr>\n",
       "      <th>8</th>\n",
       "      <td>SG</td>\n",
       "      <td>SG</td>\n",
       "    </tr>\n",
       "    <tr>\n",
       "      <th>9</th>\n",
       "      <td>C</td>\n",
       "      <td>C</td>\n",
       "    </tr>\n",
       "    <tr>\n",
       "      <th>10</th>\n",
       "      <td>SG</td>\n",
       "      <td>SG</td>\n",
       "    </tr>\n",
       "    <tr>\n",
       "      <th>11</th>\n",
       "      <td>SG</td>\n",
       "      <td>C</td>\n",
       "    </tr>\n",
       "    <tr>\n",
       "      <th>12</th>\n",
       "      <td>SG</td>\n",
       "      <td>SG</td>\n",
       "    </tr>\n",
       "    <tr>\n",
       "      <th>13</th>\n",
       "      <td>C</td>\n",
       "      <td>C</td>\n",
       "    </tr>\n",
       "    <tr>\n",
       "      <th>14</th>\n",
       "      <td>C</td>\n",
       "      <td>C</td>\n",
       "    </tr>\n",
       "    <tr>\n",
       "      <th>15</th>\n",
       "      <td>SG</td>\n",
       "      <td>SG</td>\n",
       "    </tr>\n",
       "    <tr>\n",
       "      <th>16</th>\n",
       "      <td>SG</td>\n",
       "      <td>SG</td>\n",
       "    </tr>\n",
       "    <tr>\n",
       "      <th>17</th>\n",
       "      <td>C</td>\n",
       "      <td>C</td>\n",
       "    </tr>\n",
       "    <tr>\n",
       "      <th>18</th>\n",
       "      <td>SG</td>\n",
       "      <td>SG</td>\n",
       "    </tr>\n",
       "    <tr>\n",
       "      <th>19</th>\n",
       "      <td>C</td>\n",
       "      <td>C</td>\n",
       "    </tr>\n",
       "  </tbody>\n",
       "</table>\n",
       "</div>"
      ],
      "text/plain": [
       "   prediction(예측) ground_truth(정답)\n",
       "0               C                C\n",
       "1              SG               SG\n",
       "2               C                C\n",
       "3              SG               SG\n",
       "4               C                C\n",
       "5               C                C\n",
       "6               C                C\n",
       "7              SG               SG\n",
       "8              SG               SG\n",
       "9               C                C\n",
       "10             SG               SG\n",
       "11             SG                C\n",
       "12             SG               SG\n",
       "13              C                C\n",
       "14              C                C\n",
       "15             SG               SG\n",
       "16             SG               SG\n",
       "17              C                C\n",
       "18             SG               SG\n",
       "19              C                C"
      ]
     },
     "execution_count": 59,
     "metadata": {},
     "output_type": "execute_result"
    }
   ],
   "source": [
    "comparision = pd.DataFrame( {'prediction(예측)' : predict, 'ground_truth(정답)' : y_test.values.ravel()} )\n",
    "\n",
    "comparision"
   ]
  },
  {
   "cell_type": "code",
   "execution_count": null,
   "id": "favorite-venture",
   "metadata": {},
   "outputs": [],
   "source": []
  }
 ],
 "metadata": {
  "kernelspec": {
   "display_name": "Python 3",
   "language": "python",
   "name": "python3"
  },
  "language_info": {
   "codemirror_mode": {
    "name": "ipython",
    "version": 3
   },
   "file_extension": ".py",
   "mimetype": "text/x-python",
   "name": "python",
   "nbconvert_exporter": "python",
   "pygments_lexer": "ipython3",
   "version": "3.8.7"
  }
 },
 "nbformat": 4,
 "nbformat_minor": 5
}
