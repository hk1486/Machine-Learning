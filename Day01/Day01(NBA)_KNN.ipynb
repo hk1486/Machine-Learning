{
 "cells": [
  {
   "cell_type": "markdown",
   "id": "peaceful-native",
   "metadata": {},
   "source": [
    "# NBA 데이터를 가지고 적합한 포지션 판단"
   ]
  },
  {
   "cell_type": "markdown",
   "id": "bright-package",
   "metadata": {},
   "source": [
    "https://www.basketball-reference.com/leagues/NBA_2017_per_game.html"
   ]
  },
  {
   "cell_type": "markdown",
   "id": "lightweight-athletics",
   "metadata": {},
   "source": [
    "% 기호는 리눅스 운영체제의 SHELL을 의미하고\n",
    "\n",
    "! 기호는 윈도우 운영체제의 CMD를 의미한다.\n",
    "\n",
    "예를들어, 현재 위치의 목록을 확인한다.\n",
    "\n",
    "리눅스 : %ls\n",
    "\n",
    "윈도우 : !dir"
   ]
  },
  {
   "cell_type": "code",
   "execution_count": 3,
   "id": "champion-complement",
   "metadata": {},
   "outputs": [
    {
     "data": {
      "text/plain": [
       "'C:\\\\python'"
      ]
     },
     "execution_count": 3,
     "metadata": {},
     "output_type": "execute_result"
    }
   ],
   "source": [
    "# 현재 작업중인 디렉토리의 위치를 알려줌\n",
    "\n",
    "%pwd"
   ]
  },
  {
   "cell_type": "markdown",
   "id": "documentary-drive",
   "metadata": {},
   "source": [
    "## 실제 농구선수의 경기 기록을 바탕으로 임의의 선수 표지션을 예측할 수 있다."
   ]
  },
  {
   "cell_type": "code",
   "execution_count": 4,
   "id": "vocal-allowance",
   "metadata": {},
   "outputs": [],
   "source": [
    "import pandas as pd"
   ]
  },
  {
   "cell_type": "code",
   "execution_count": 5,
   "id": "apparent-qualification",
   "metadata": {},
   "outputs": [],
   "source": [
    "df = pd.read_csv('basketball_stat.csv')"
   ]
  },
  {
   "cell_type": "code",
   "execution_count": 6,
   "id": "likely-blair",
   "metadata": {},
   "outputs": [
    {
     "data": {
      "text/html": [
       "<div>\n",
       "<style scoped>\n",
       "    .dataframe tbody tr th:only-of-type {\n",
       "        vertical-align: middle;\n",
       "    }\n",
       "\n",
       "    .dataframe tbody tr th {\n",
       "        vertical-align: top;\n",
       "    }\n",
       "\n",
       "    .dataframe thead th {\n",
       "        text-align: right;\n",
       "    }\n",
       "</style>\n",
       "<table border=\"1\" class=\"dataframe\">\n",
       "  <thead>\n",
       "    <tr style=\"text-align: right;\">\n",
       "      <th></th>\n",
       "      <th>Player</th>\n",
       "      <th>Pos</th>\n",
       "      <th>3P</th>\n",
       "      <th>2P</th>\n",
       "      <th>TRB</th>\n",
       "      <th>AST</th>\n",
       "      <th>STL</th>\n",
       "      <th>BLK</th>\n",
       "    </tr>\n",
       "  </thead>\n",
       "  <tbody>\n",
       "    <tr>\n",
       "      <th>0</th>\n",
       "      <td>Alex Abrines</td>\n",
       "      <td>SG</td>\n",
       "      <td>1.4</td>\n",
       "      <td>0.6</td>\n",
       "      <td>1.3</td>\n",
       "      <td>0.6</td>\n",
       "      <td>0.5</td>\n",
       "      <td>0.1</td>\n",
       "    </tr>\n",
       "    <tr>\n",
       "      <th>1</th>\n",
       "      <td>Steven Adams</td>\n",
       "      <td>C</td>\n",
       "      <td>0.0</td>\n",
       "      <td>4.7</td>\n",
       "      <td>7.7</td>\n",
       "      <td>1.1</td>\n",
       "      <td>1.1</td>\n",
       "      <td>1.0</td>\n",
       "    </tr>\n",
       "    <tr>\n",
       "      <th>2</th>\n",
       "      <td>Alexis Ajinca</td>\n",
       "      <td>C</td>\n",
       "      <td>0.0</td>\n",
       "      <td>2.3</td>\n",
       "      <td>4.5</td>\n",
       "      <td>0.3</td>\n",
       "      <td>0.5</td>\n",
       "      <td>0.6</td>\n",
       "    </tr>\n",
       "    <tr>\n",
       "      <th>3</th>\n",
       "      <td>Chris Andersen</td>\n",
       "      <td>C</td>\n",
       "      <td>0.0</td>\n",
       "      <td>0.8</td>\n",
       "      <td>2.6</td>\n",
       "      <td>0.4</td>\n",
       "      <td>0.4</td>\n",
       "      <td>0.6</td>\n",
       "    </tr>\n",
       "    <tr>\n",
       "      <th>4</th>\n",
       "      <td>Will Barton</td>\n",
       "      <td>SG</td>\n",
       "      <td>1.5</td>\n",
       "      <td>3.5</td>\n",
       "      <td>4.3</td>\n",
       "      <td>3.4</td>\n",
       "      <td>0.8</td>\n",
       "      <td>0.5</td>\n",
       "    </tr>\n",
       "  </tbody>\n",
       "</table>\n",
       "</div>"
      ],
      "text/plain": [
       "           Player Pos   3P   2P  TRB  AST  STL  BLK\n",
       "0    Alex Abrines  SG  1.4  0.6  1.3  0.6  0.5  0.1\n",
       "1    Steven Adams   C  0.0  4.7  7.7  1.1  1.1  1.0\n",
       "2   Alexis Ajinca   C  0.0  2.3  4.5  0.3  0.5  0.6\n",
       "3  Chris Andersen   C  0.0  0.8  2.6  0.4  0.4  0.6\n",
       "4     Will Barton  SG  1.5  3.5  4.3  3.4  0.8  0.5"
      ]
     },
     "execution_count": 6,
     "metadata": {},
     "output_type": "execute_result"
    }
   ],
   "source": [
    "df.head()"
   ]
  },
  {
   "cell_type": "markdown",
   "id": "reverse-yacht",
   "metadata": {},
   "source": [
    "- (1) Pos : 포지션\n",
    "- (2) 3P : 3점슛\n",
    "- (3) 2P : 2점슛\n",
    "- (4) TRB : 한경기당 평균 리바운드\n",
    "- (5) AST : 한경기당 평균 패스 성공 횟수\n",
    "- (6) STL : 한경기당 평균 가로채기 성공 횟수\n",
    "- (7) BLK : 한경기당 평균 블로킹 성공 횟수"
   ]
  },
  {
   "cell_type": "markdown",
   "id": "micro-crisis",
   "metadata": {},
   "source": [
    "### 데이터 개수 확인"
   ]
  },
  {
   "cell_type": "code",
   "execution_count": 21,
   "id": "hybrid-supplement",
   "metadata": {},
   "outputs": [
    {
     "data": {
      "text/plain": [
       "C     50\n",
       "SG    50\n",
       "Name: Pos, dtype: int64"
      ]
     },
     "execution_count": 21,
     "metadata": {},
     "output_type": "execute_result"
    }
   ],
   "source": [
    "df.Pos.value_counts()"
   ]
  },
  {
   "cell_type": "markdown",
   "id": "disciplinary-summer",
   "metadata": {},
   "source": [
    "- C : 센터\n",
    "- SG : 슈팅가드"
   ]
  },
  {
   "cell_type": "markdown",
   "id": "potential-selling",
   "metadata": {},
   "source": [
    "### 데이터 시각화"
   ]
  },
  {
   "cell_type": "markdown",
   "id": "impressive-foundation",
   "metadata": {},
   "source": [
    "### - 뚜렷한 결정경계선을 찾기 위해서 칼럼별로 2개씩 짝지어서 그래프를 그려보자 "
   ]
  },
  {
   "cell_type": "code",
   "execution_count": 11,
   "id": "mechanical-trademark",
   "metadata": {},
   "outputs": [
    {
     "data": {
      "text/plain": [
       "Text(0.5, 1.0, 'STL and 2P in 2D plane')"
      ]
     },
     "execution_count": 11,
     "metadata": {},
     "output_type": "execute_result"
    },
    {
     "data": {
      "image/png": "[encoded data removed]",
      "text/plain": [
       "<Figure size 410x360 with 1 Axes>"
      ]
     },
     "metadata": {
      "needs_background": "light"
     },
     "output_type": "display_data"
    }
   ],
   "source": [
    "import matplotlib.pyplot as plt\n",
    "import seaborn as sns\n",
    "%matplotlib inline\n",
    "\n",
    "# 2점슛, 스틸 데이터 시각화\n",
    "\n",
    "sns.lmplot(x='STL', y='2P', data=df,\n",
    "           fit_reg=False,\n",
    "           scatter_kws={'s':150},\n",
    "           markers=['o','x'],\n",
    "           hue='Pos')\n",
    "\n",
    "plt.title('STL and 2P in 2D plane')"
   ]
  },
  {
   "cell_type": "code",
   "execution_count": 14,
   "id": "processed-circuit",
   "metadata": {},
   "outputs": [
    {
     "data": {
      "text/plain": [
       "Text(0.5, 1.0, 'AST and 2P in 2D plane')"
      ]
     },
     "execution_count": 14,
     "metadata": {},
     "output_type": "execute_result"
    },
    {
     "data": {
      "image/png": "[encoded data removed]",
      "text/plain": [
       "<Figure size 410x360 with 1 Axes>"
      ]
     },
     "metadata": {
      "needs_background": "light"
     },
     "output_type": "display_data"
    }
   ],
   "source": [
    "# 2점슛, 어시스트 데이터 시각화\n",
    "\n",
    "sns.lmplot(x='AST', y='2P', data=df, fit_reg=False, scatter_kws={'s':150}, markers=['o','x'], hue='Pos')\n",
    "\n",
    "plt.title('AST and 2P in 2D plane')"
   ]
  },
  {
   "cell_type": "code",
   "execution_count": 15,
   "id": "fiscal-motel",
   "metadata": {},
   "outputs": [
    {
     "data": {
      "text/plain": [
       "Text(0.5, 1.0, 'AST and 2P in 2D plane')"
      ]
     },
     "execution_count": 15,
     "metadata": {},
     "output_type": "execute_result"
    },
    {
     "data": {
      "image/png": "[encoded data removed]",
      "text/plain": [
       "<Figure size 410x360 with 1 Axes>"
      ]
     },
     "metadata": {
      "needs_background": "light"
     },
     "output_type": "display_data"
    }
   ],
   "source": [
    "# 3점슛, 블로킹 데이터 시각화\n",
    "\n",
    "sns.lmplot(x='BLK', y='3P', data=df, fit_reg=False, scatter_kws={'s':150}, markers=['o','x'], hue='Pos')\n",
    "\n",
    "plt.title('AST and 2P in 2D plane')"
   ]
  },
  {
   "cell_type": "code",
   "execution_count": 17,
   "id": "furnished-smooth",
   "metadata": {},
   "outputs": [
    {
     "data": {
      "text/plain": [
       "Text(0.5, 1.0, 'STL and 3P in 2D plane')"
      ]
     },
     "execution_count": 17,
     "metadata": {},
     "output_type": "execute_result"
    },
    {
     "data": {
      "image/png": "[encoded data removed]",
      "text/plain": [
       "<Figure size 410x360 with 1 Axes>"
      ]
     },
     "metadata": {
      "needs_background": "light"
     },
     "output_type": "display_data"
    }
   ],
   "source": [
    "sns.lmplot(x='STL', y='3P', data=df,\n",
    "           fit_reg=False,\n",
    "           scatter_kws={'s':150},\n",
    "           markers=['o','x'],\n",
    "           hue='Pos')\n",
    "\n",
    "plt.title('STL and 3P in 2D plane')"
   ]
  },
  {
   "cell_type": "code",
   "execution_count": 21,
   "id": "technical-cardiff",
   "metadata": {},
   "outputs": [
    {
     "data": {
      "text/plain": [
       "Text(0.5, 1.0, 'BLK and 3P in 2D plane')"
      ]
     },
     "execution_count": 21,
     "metadata": {},
     "output_type": "execute_result"
    },
    {
     "data": {
      "image/png": "[encoded data removed]",
      "text/plain": [
       "<Figure size 410x360 with 1 Axes>"
      ]
     },
     "metadata": {
      "needs_background": "light"
     },
     "output_type": "display_data"
    }
   ],
   "source": [
    "sns.lmplot(x='AST', y='3P', data=df,\n",
    "           fit_reg=False,\n",
    "           scatter_kws={'s':150},\n",
    "           markers=['o','x'],\n",
    "           hue='Pos')\n",
    "\n",
    "plt.title('BLK and 3P in 2D plane')"
   ]
  },
  {
   "cell_type": "markdown",
   "id": "mathematical-looking",
   "metadata": {},
   "source": [
    "#### 시각화 자료를 기준으로 포지션을 선택하는데, SG, C를 기준으로 할 경우에는\n",
    "\n",
    "#### 리바운드, 블로킹, 3점슛 항목을 기준으로 선택할 수 있으며,\n",
    "\n",
    "#### 2점슛과 어시스트, 가로채기는 SG, C 포지션 선택항목으로는 부적합함을 알 수 있다."
   ]
  },
  {
   "cell_type": "markdown",
   "id": "suitable-verification",
   "metadata": {},
   "source": [
    "## 정제 : 데이터 다듬기"
   ]
  },
  {
   "cell_type": "markdown",
   "id": "reserved-chance",
   "metadata": {},
   "source": [
    "### 분별력 없는 특징을 데이터에서 제거한다.\n",
    "#### axis = 0 , 데이터 프레임에서 위/아래 행방향으로 작업 진행\n",
    "#### axis = 1 , 데이터 프레임에서 좌/우 열방향으로 작업 진행"
   ]
  },
  {
   "cell_type": "code",
   "execution_count": 23,
   "id": "liberal-deposit",
   "metadata": {},
   "outputs": [],
   "source": [
    "df.drop(['2P', 'AST', 'STL'], axis=1, inplace =True)"
   ]
  },
  {
   "cell_type": "code",
   "execution_count": 25,
   "id": "inappropriate-torture",
   "metadata": {},
   "outputs": [
    {
     "data": {
      "text/html": [
       "<div>\n",
       "<style scoped>\n",
       "    .dataframe tbody tr th:only-of-type {\n",
       "        vertical-align: middle;\n",
       "    }\n",
       "\n",
       "    .dataframe tbody tr th {\n",
       "        vertical-align: top;\n",
       "    }\n",
       "\n",
       "    .dataframe thead th {\n",
       "        text-align: right;\n",
       "    }\n",
       "</style>\n",
       "<table border=\"1\" class=\"dataframe\">\n",
       "  <thead>\n",
       "    <tr style=\"text-align: right;\">\n",
       "      <th></th>\n",
       "      <th>Player</th>\n",
       "      <th>Pos</th>\n",
       "      <th>3P</th>\n",
       "      <th>TRB</th>\n",
       "      <th>BLK</th>\n",
       "    </tr>\n",
       "  </thead>\n",
       "  <tbody>\n",
       "    <tr>\n",
       "      <th>0</th>\n",
       "      <td>Alex Abrines</td>\n",
       "      <td>SG</td>\n",
       "      <td>1.4</td>\n",
       "      <td>1.3</td>\n",
       "      <td>0.1</td>\n",
       "    </tr>\n",
       "    <tr>\n",
       "      <th>1</th>\n",
       "      <td>Steven Adams</td>\n",
       "      <td>C</td>\n",
       "      <td>0.0</td>\n",
       "      <td>7.7</td>\n",
       "      <td>1.0</td>\n",
       "    </tr>\n",
       "    <tr>\n",
       "      <th>2</th>\n",
       "      <td>Alexis Ajinca</td>\n",
       "      <td>C</td>\n",
       "      <td>0.0</td>\n",
       "      <td>4.5</td>\n",
       "      <td>0.6</td>\n",
       "    </tr>\n",
       "    <tr>\n",
       "      <th>3</th>\n",
       "      <td>Chris Andersen</td>\n",
       "      <td>C</td>\n",
       "      <td>0.0</td>\n",
       "      <td>2.6</td>\n",
       "      <td>0.6</td>\n",
       "    </tr>\n",
       "    <tr>\n",
       "      <th>4</th>\n",
       "      <td>Will Barton</td>\n",
       "      <td>SG</td>\n",
       "      <td>1.5</td>\n",
       "      <td>4.3</td>\n",
       "      <td>0.5</td>\n",
       "    </tr>\n",
       "  </tbody>\n",
       "</table>\n",
       "</div>"
      ],
      "text/plain": [
       "           Player Pos   3P  TRB  BLK\n",
       "0    Alex Abrines  SG  1.4  1.3  0.1\n",
       "1    Steven Adams   C  0.0  7.7  1.0\n",
       "2   Alexis Ajinca   C  0.0  4.5  0.6\n",
       "3  Chris Andersen   C  0.0  2.6  0.6\n",
       "4     Will Barton  SG  1.5  4.3  0.5"
      ]
     },
     "execution_count": 25,
     "metadata": {},
     "output_type": "execute_result"
    }
   ],
   "source": [
    "df.head()"
   ]
  },
  {
   "cell_type": "markdown",
   "id": "forward-width",
   "metadata": {},
   "source": [
    "## 데이터 분류 (학습용 / 테스트용으로 구분)"
   ]
  },
  {
   "cell_type": "markdown",
   "id": "psychological-veteran",
   "metadata": {},
   "source": [
    "데이터 분류 시 사이킷런의 train_test_split 사용하여 간단하게 데이터를 분류할 수 있다."
   ]
  },
  {
   "cell_type": "code",
   "execution_count": 27,
   "id": "exterior-improvement",
   "metadata": {},
   "outputs": [],
   "source": [
    "from sklearn.model_selection import train_test_split\n",
    "\n",
    "# 학습용으로 80%, 테스트용으로 20% 데이터 분류한다.\n",
    "train, test = train_test_split(df, test_size=0.2)"
   ]
  },
  {
   "cell_type": "code",
   "execution_count": 30,
   "id": "terminal-cylinder",
   "metadata": {},
   "outputs": [
    {
     "data": {
      "text/plain": [
       "80"
      ]
     },
     "execution_count": 30,
     "metadata": {},
     "output_type": "execute_result"
    }
   ],
   "source": [
    "train.shape[0]"
   ]
  },
  {
   "cell_type": "code",
   "execution_count": 33,
   "id": "thrown-sacramento",
   "metadata": {},
   "outputs": [
    {
     "data": {
      "text/plain": [
       "20"
      ]
     },
     "execution_count": 33,
     "metadata": {},
     "output_type": "execute_result"
    }
   ],
   "source": [
    "test.shape[0]"
   ]
  },
  {
   "cell_type": "markdown",
   "id": "handmade-wallet",
   "metadata": {},
   "source": [
    "## 데이터 저장하기"
   ]
  },
  {
   "cell_type": "code",
   "execution_count": 34,
   "id": "fiscal-candy",
   "metadata": {},
   "outputs": [],
   "source": [
    "import pickle\n",
    "\n",
    "with open('basketball_train.pkl', 'wb') as train_data :\n",
    "    pickle.dump(train, train_data)\n",
    "    \n",
    "with open('basketball_test.pkl', 'wb') as test_data :\n",
    "    pickle.dump(test, test_data)"
   ]
  },
  {
   "cell_type": "markdown",
   "id": "annoying-outdoors",
   "metadata": {},
   "source": [
    "### pickle함수\n",
    "\n",
    "- 파이썬 객체를 파일에 저장하는 것을 피클링이라 함.\n",
    "- 파일에서 객체를 읽어들이는 것을 언피클링이라 한다.\n",
    "\n",
    "피클링의 기준은 텍스트 파일이다.\n",
    "\n",
    "일반적인 텍스트 파일을 저장할때는 파일 입출력을 사용한다.\n",
    "\n",
    "하지만, 리스트나 클래스 같은 텍스트가 아닌 자료형은 일반적인 파일 입출력으로는 데이터를 저장하거나 불러올 수 없다.\n",
    "\n",
    "파이썬에서 텍스트 이외의 자료형을 파일로 저장/호출 하기 위한 모듈이 pickle 모듈이다."
   ]
  },
  {
   "cell_type": "code",
   "execution_count": 39,
   "id": "western-livestock",
   "metadata": {},
   "outputs": [],
   "source": [
    "# 일반적인 텍스트 파일을 저장하는 경우\n",
    "\n",
    "text = 'python'\n",
    "\n",
    "with open('python.txt', 'w') as f:\n",
    "    f.write(text)"
   ]
  },
  {
   "cell_type": "code",
   "execution_count": 44,
   "id": "selected-villa",
   "metadata": {},
   "outputs": [],
   "source": [
    "# 리스트 파일을 저장하는 경우\n",
    "\n",
    "list = ['a','b','c']\n",
    "\n",
    "with open('list.txt', 'wb') as f:\n",
    "    pickle.dump('list.txt', f)"
   ]
  },
  {
   "cell_type": "markdown",
   "id": "ahead-bolivia",
   "metadata": {},
   "source": [
    "### 저장된 함수를 피클 함수로 불러오기 "
   ]
  },
  {
   "cell_type": "code",
   "execution_count": 45,
   "id": "pleased-retail",
   "metadata": {},
   "outputs": [],
   "source": [
    "with open('list.txt', 'rb') as f:\n",
    "    data = pickle.load(f)"
   ]
  },
  {
   "cell_type": "code",
   "execution_count": 46,
   "id": "instructional-father",
   "metadata": {},
   "outputs": [
    {
     "data": {
      "text/plain": [
       "'list.txt'"
      ]
     },
     "execution_count": 46,
     "metadata": {},
     "output_type": "execute_result"
    }
   ],
   "source": [
    "data"
   ]
  },
  {
   "cell_type": "markdown",
   "id": "multiple-integral",
   "metadata": {},
   "source": [
    "## 피클함수 예제"
   ]
  },
  {
   "cell_type": "code",
   "execution_count": 50,
   "id": "permanent-comment",
   "metadata": {},
   "outputs": [],
   "source": [
    "import pickle \n",
    "\n",
    "Name = '손흥민'\n",
    "키 = '183cm'\n",
    "몸무게 =  '77kg'\n",
    "혈액형 = 'AB형'\n",
    "    \n",
    "with open('son.p', 'wb') as file:\n",
    "    pickle.dump(Name, file)\n",
    "    pickle.dump(키, file)\n",
    "    pickle.dump(몸무게, file)\n",
    "    pickle.dump(혈액형, file)"
   ]
  },
  {
   "cell_type": "code",
   "execution_count": 51,
   "id": "geological-tension",
   "metadata": {},
   "outputs": [],
   "source": [
    "with open('son.p', 'rb') as f:\n",
    "    data = pickle.load(f)"
   ]
  },
  {
   "cell_type": "code",
   "execution_count": 52,
   "id": "injured-evans",
   "metadata": {},
   "outputs": [
    {
     "data": {
      "text/plain": [
       "'손흥민'"
      ]
     },
     "execution_count": 52,
     "metadata": {},
     "output_type": "execute_result"
    }
   ],
   "source": [
    "data"
   ]
  },
  {
   "cell_type": "markdown",
   "id": "increased-fruit",
   "metadata": {},
   "source": [
    "## 농구선수 포지션 예측하기 - 계속"
   ]
  },
  {
   "cell_type": "code",
   "execution_count": 54,
   "id": "healthy-luxembourg",
   "metadata": {},
   "outputs": [],
   "source": [
    "import pandas as pd\n",
    "import pickle\n",
    "import matplotlib.pyplot as plt\n",
    "import seaborn as sns\n",
    "import numpy as np\n",
    "\n",
    "%matplotlib inline\n",
    "np.random.seed(5)"
   ]
  },
  {
   "cell_type": "markdown",
   "id": "postal-python",
   "metadata": {},
   "source": [
    "## 최적의 k 값 찾아내기\n",
    "- (Cross Validation : 교차 검증)"
   ]
  },
  {
   "cell_type": "code",
   "execution_count": 61,
   "id": "historical-worst",
   "metadata": {},
   "outputs": [],
   "source": [
    "# 라이브러리 호출\n",
    "from sklearn.neighbors import KNeighborsClassifier\n",
    "from sklearn.model_selection import cross_val_score\n",
    "\n",
    "max_k_range = train.shape[0] // 2\n",
    "k_list = []\n",
    "for i in range(3, max_k_range, 2): # 3부터 지정(1 이상의 홀수)\n",
    "    k_list.append(i)\n",
    "    \n",
    "cross_validation_scores = []\n",
    "x_train = train[['3P','BLK','TRB']]  # train_data\n",
    "y_train = train[['Pos']]             # test_data"
   ]
  },
  {
   "cell_type": "code",
   "execution_count": null,
   "id": "found-combat",
   "metadata": {},
   "outputs": [],
   "source": []
  }
 ],
 "metadata": {
  "kernelspec": {
   "display_name": "Python 3",
   "language": "python",
   "name": "python3"
  },
  "language_info": {
   "codemirror_mode": {
    "name": "ipython",
    "version": 3
   },
   "file_extension": ".py",
   "mimetype": "text/x-python",
   "name": "python",
   "nbconvert_exporter": "python",
   "pygments_lexer": "ipython3",
   "version": "3.8.7"
  }
 },
 "nbformat": 4,
 "nbformat_minor": 5
}
