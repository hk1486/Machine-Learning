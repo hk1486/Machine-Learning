{
 "cells": [
  {
   "cell_type": "markdown",
   "id": "supposed-multimedia",
   "metadata": {},
   "source": [
    "# kNN으로 타이타닉 탑승객 생존률 예측"
   ]
  },
  {
   "cell_type": "markdown",
   "id": "outside-member",
   "metadata": {},
   "source": [
    "## 1. 데이터 준비"
   ]
  },
  {
   "cell_type": "code",
   "execution_count": 1,
   "id": "broken-punishment",
   "metadata": {},
   "outputs": [
    {
     "data": {
      "text/html": [
       "<div>\n",
       "<style scoped>\n",
       "    .dataframe tbody tr th:only-of-type {\n",
       "        vertical-align: middle;\n",
       "    }\n",
       "\n",
       "    .dataframe tbody tr th {\n",
       "        vertical-align: top;\n",
       "    }\n",
       "\n",
       "    .dataframe thead th {\n",
       "        text-align: right;\n",
       "    }\n",
       "</style>\n",
       "<table border=\"1\" class=\"dataframe\">\n",
       "  <thead>\n",
       "    <tr style=\"text-align: right;\">\n",
       "      <th></th>\n",
       "      <th>survived</th>\n",
       "      <th>pclass</th>\n",
       "      <th>sex</th>\n",
       "      <th>age</th>\n",
       "      <th>sibsp</th>\n",
       "      <th>parch</th>\n",
       "      <th>fare</th>\n",
       "      <th>embarked</th>\n",
       "      <th>class</th>\n",
       "      <th>who</th>\n",
       "      <th>adult_male</th>\n",
       "      <th>deck</th>\n",
       "      <th>embark_town</th>\n",
       "      <th>alive</th>\n",
       "      <th>alone</th>\n",
       "    </tr>\n",
       "  </thead>\n",
       "  <tbody>\n",
       "    <tr>\n",
       "      <th>0</th>\n",
       "      <td>0</td>\n",
       "      <td>3</td>\n",
       "      <td>male</td>\n",
       "      <td>22.0</td>\n",
       "      <td>1</td>\n",
       "      <td>0</td>\n",
       "      <td>7.2500</td>\n",
       "      <td>S</td>\n",
       "      <td>Third</td>\n",
       "      <td>man</td>\n",
       "      <td>True</td>\n",
       "      <td>NaN</td>\n",
       "      <td>Southampton</td>\n",
       "      <td>no</td>\n",
       "      <td>False</td>\n",
       "    </tr>\n",
       "    <tr>\n",
       "      <th>1</th>\n",
       "      <td>1</td>\n",
       "      <td>1</td>\n",
       "      <td>female</td>\n",
       "      <td>38.0</td>\n",
       "      <td>1</td>\n",
       "      <td>0</td>\n",
       "      <td>71.2833</td>\n",
       "      <td>C</td>\n",
       "      <td>First</td>\n",
       "      <td>woman</td>\n",
       "      <td>False</td>\n",
       "      <td>C</td>\n",
       "      <td>Cherbourg</td>\n",
       "      <td>yes</td>\n",
       "      <td>False</td>\n",
       "    </tr>\n",
       "    <tr>\n",
       "      <th>2</th>\n",
       "      <td>1</td>\n",
       "      <td>3</td>\n",
       "      <td>female</td>\n",
       "      <td>26.0</td>\n",
       "      <td>0</td>\n",
       "      <td>0</td>\n",
       "      <td>7.9250</td>\n",
       "      <td>S</td>\n",
       "      <td>Third</td>\n",
       "      <td>woman</td>\n",
       "      <td>False</td>\n",
       "      <td>NaN</td>\n",
       "      <td>Southampton</td>\n",
       "      <td>yes</td>\n",
       "      <td>True</td>\n",
       "    </tr>\n",
       "    <tr>\n",
       "      <th>3</th>\n",
       "      <td>1</td>\n",
       "      <td>1</td>\n",
       "      <td>female</td>\n",
       "      <td>35.0</td>\n",
       "      <td>1</td>\n",
       "      <td>0</td>\n",
       "      <td>53.1000</td>\n",
       "      <td>S</td>\n",
       "      <td>First</td>\n",
       "      <td>woman</td>\n",
       "      <td>False</td>\n",
       "      <td>C</td>\n",
       "      <td>Southampton</td>\n",
       "      <td>yes</td>\n",
       "      <td>False</td>\n",
       "    </tr>\n",
       "    <tr>\n",
       "      <th>4</th>\n",
       "      <td>0</td>\n",
       "      <td>3</td>\n",
       "      <td>male</td>\n",
       "      <td>35.0</td>\n",
       "      <td>0</td>\n",
       "      <td>0</td>\n",
       "      <td>8.0500</td>\n",
       "      <td>S</td>\n",
       "      <td>Third</td>\n",
       "      <td>man</td>\n",
       "      <td>True</td>\n",
       "      <td>NaN</td>\n",
       "      <td>Southampton</td>\n",
       "      <td>no</td>\n",
       "      <td>True</td>\n",
       "    </tr>\n",
       "  </tbody>\n",
       "</table>\n",
       "</div>"
      ],
      "text/plain": [
       "   survived  pclass     sex   age  sibsp  parch     fare embarked  class  \\\n",
       "0         0       3    male  22.0      1      0   7.2500        S  Third   \n",
       "1         1       1  female  38.0      1      0  71.2833        C  First   \n",
       "2         1       3  female  26.0      0      0   7.9250        S  Third   \n",
       "3         1       1  female  35.0      1      0  53.1000        S  First   \n",
       "4         0       3    male  35.0      0      0   8.0500        S  Third   \n",
       "\n",
       "     who  adult_male deck  embark_town alive  alone  \n",
       "0    man        True  NaN  Southampton    no  False  \n",
       "1  woman       False    C    Cherbourg   yes  False  \n",
       "2  woman       False  NaN  Southampton   yes   True  \n",
       "3  woman       False    C  Southampton   yes  False  \n",
       "4    man        True  NaN  Southampton    no   True  "
      ]
     },
     "execution_count": 1,
     "metadata": {},
     "output_type": "execute_result"
    }
   ],
   "source": [
    "import pandas as pd\n",
    "import seaborn as sns\n",
    "\n",
    "# Seaborn에 내장된 타이타닉 자료를 호출\n",
    "df = sns.load_dataset('titanic')\n",
    "\n",
    "# data 확인\n",
    "df.head()"
   ]
  },
  {
   "cell_type": "markdown",
   "id": "clinical-substitute",
   "metadata": {},
   "source": [
    "\n",
    "- survivied: 생존여부 (0: 사망, 1: 생존)\n",
    "- pclass: 좌석 등급 (1등급, 2등급, 3등급)\n",
    "- sex: 성별\n",
    "- age: 나이\n",
    "- sibsp: 같이 탑승한 형제, 자매 또는 배우자 인원 수\n",
    "- parch: 같이 탑승한 부모님 또는 자녀 인원 수 (파치)\n",
    "- fare: 좌석 요금 (페어)\n",
    "- embarked: 탑승 항구 (C = Cherbourg, Q = Queenstown, S = Southampton) 임바크\n",
    "- 셰르부르옥트빌(프랑스북부), 퀸스타운(뉴질랜드 남섬의 도시), 사우샘프턴(영국 남부)\n",
    "- class: pclass와 동일\n",
    "- who: 성별과 동일\n",
    "- adult_male: 성인 남자 여부\n",
    "- deck: 데크 번호 (알파벳 + 숫자 혼용)\n",
    "- embark_town: 탑승 항구 이름\n",
    "- alive: 생존여부 (yes, no)\n",
    "- alone: 혼자 탑승 여부\n"
   ]
  },
  {
   "cell_type": "markdown",
   "id": "flexible-control",
   "metadata": {},
   "source": [
    "## 2. 데이터 탐색"
   ]
  },
  {
   "cell_type": "markdown",
   "id": "tight-visit",
   "metadata": {},
   "source": [
    "데이터의 특성과 분석 목표에 맞춰 누락 데이터를 처리한다."
   ]
  },
  {
   "cell_type": "code",
   "execution_count": 2,
   "id": "associate-genius",
   "metadata": {},
   "outputs": [
    {
     "name": "stdout",
     "output_type": "stream",
     "text": [
      "<class 'pandas.core.frame.DataFrame'>\n",
      "RangeIndex: 891 entries, 0 to 890\n",
      "Data columns (total 15 columns):\n",
      " #   Column       Non-Null Count  Dtype   \n",
      "---  ------       --------------  -----   \n",
      " 0   survived     891 non-null    int64   \n",
      " 1   pclass       891 non-null    int64   \n",
      " 2   sex          891 non-null    object  \n",
      " 3   age          714 non-null    float64 \n",
      " 4   sibsp        891 non-null    int64   \n",
      " 5   parch        891 non-null    int64   \n",
      " 6   fare         891 non-null    float64 \n",
      " 7   embarked     889 non-null    object  \n",
      " 8   class        891 non-null    category\n",
      " 9   who          891 non-null    object  \n",
      " 10  adult_male   891 non-null    bool    \n",
      " 11  deck         203 non-null    category\n",
      " 12  embark_town  889 non-null    object  \n",
      " 13  alive        891 non-null    object  \n",
      " 14  alone        891 non-null    bool    \n",
      "dtypes: bool(2), category(2), float64(2), int64(4), object(5)\n",
      "memory usage: 80.7+ KB\n"
     ]
    }
   ],
   "source": [
    "df.info()"
   ]
  },
  {
   "cell_type": "markdown",
   "id": "gorgeous-function",
   "metadata": {},
   "source": [
    "#### 결측 데이터(deck)와 중복 데이터(embark_town)를 처리함 (나이는 결측치가 많지만, 생존여부에 중요한 변수가 될 수 있음)"
   ]
  },
  {
   "cell_type": "code",
   "execution_count": 3,
   "id": "complicated-patio",
   "metadata": {},
   "outputs": [
    {
     "data": {
      "text/plain": [
       "array(['survived', 'pclass', 'sex', 'age', 'sibsp', 'parch', 'fare',\n",
       "       'embarked', 'class', 'who', 'adult_male', 'alive', 'alone'],\n",
       "      dtype=object)"
      ]
     },
     "execution_count": 3,
     "metadata": {},
     "output_type": "execute_result"
    }
   ],
   "source": [
    "rdf = df.drop(['deck','embark_town'],axis=1)\n",
    "rdf.columns.values"
   ]
  },
  {
   "cell_type": "markdown",
   "id": "living-presence",
   "metadata": {},
   "source": [
    "#### age 필드 작업 : dropna()\n",
    "\n",
    "행이나 열에 값이 없는 부분을 제외시킨다."
   ]
  },
  {
   "cell_type": "code",
   "execution_count": 4,
   "id": "third-citizen",
   "metadata": {},
   "outputs": [
    {
     "name": "stdout",
     "output_type": "stream",
     "text": [
      "714\n"
     ]
    }
   ],
   "source": [
    "rdf = rdf.dropna(subset=['age'], how='any', axis=0)\n",
    "print(len(rdf))"
   ]
  },
  {
   "cell_type": "markdown",
   "id": "macro-consent",
   "metadata": {},
   "source": [
    "#### idxmin(), idxmax()\n",
    "\n",
    "행 또는 열에서 가장 작은 값과 / 큰 값을 반환한다.\n",
    "\n",
    "- 'embarked' 필드에서 결측치 2개 가장 빈도가 높은 값으로 치환"
   ]
  },
  {
   "cell_type": "code",
   "execution_count": 20,
   "id": "smaller-america",
   "metadata": {},
   "outputs": [
    {
     "name": "stdout",
     "output_type": "stream",
     "text": [
      "S\n",
      "          survived      pclass   sex         age       sibsp       parch  \\\n",
      "count   714.000000  714.000000   714  714.000000  714.000000  714.000000   \n",
      "unique         NaN         NaN     2         NaN         NaN         NaN   \n",
      "top            NaN         NaN  male         NaN         NaN         NaN   \n",
      "freq           NaN         NaN   453         NaN         NaN         NaN   \n",
      "mean      0.406162    2.236695   NaN   29.699118    0.512605    0.431373   \n",
      "std       0.491460    0.838250   NaN   14.526497    0.929783    0.853289   \n",
      "min       0.000000    1.000000   NaN    0.420000    0.000000    0.000000   \n",
      "25%       0.000000    1.000000   NaN   20.125000    0.000000    0.000000   \n",
      "50%       0.000000    2.000000   NaN   28.000000    0.000000    0.000000   \n",
      "75%       1.000000    3.000000   NaN   38.000000    1.000000    1.000000   \n",
      "max       1.000000    3.000000   NaN   80.000000    5.000000    6.000000   \n",
      "\n",
      "              fare embarked  class  who adult_male alive alone  \n",
      "count   714.000000      714    714  714        714   714   714  \n",
      "unique         NaN        3      3    3          2     2     2  \n",
      "top            NaN        S  Third  man       True    no  True  \n",
      "freq           NaN      556    355  413        413   424   404  \n",
      "mean     34.694514      NaN    NaN  NaN        NaN   NaN   NaN  \n",
      "std      52.918930      NaN    NaN  NaN        NaN   NaN   NaN  \n",
      "min       0.000000      NaN    NaN  NaN        NaN   NaN   NaN  \n",
      "25%       8.050000      NaN    NaN  NaN        NaN   NaN   NaN  \n",
      "50%      15.741700      NaN    NaN  NaN        NaN   NaN   NaN  \n",
      "75%      33.375000      NaN    NaN  NaN        NaN   NaN   NaN  \n",
      "max     512.329200      NaN    NaN  NaN        NaN   NaN   NaN  \n"
     ]
    }
   ],
   "source": [
    "most_freq = rdf['embarked'].value_counts(dropna=True).idxmax()\n",
    "print(most_freq)\n",
    "\n",
    "print(rdf.describe(include='all'))\n",
    "\n",
    "rdf['embarked'].fillna(most_freq, inplace=True)"
   ]
  },
  {
   "cell_type": "code",
   "execution_count": 17,
   "id": "accurate-apparel",
   "metadata": {},
   "outputs": [
    {
     "name": "stdout",
     "output_type": "stream",
     "text": [
      "    ONE  TWO\n",
      "A  1.40  NaN\n",
      "B  7.10 -4.5\n",
      "C   NaN  NaN\n",
      "D  0.75 -1.3\n",
      "--------------------\n",
      "ONE    D\n",
      "TWO    B\n",
      "dtype: object\n",
      "--------------------\n",
      "ONE    B\n",
      "TWO    D\n",
      "dtype: object\n"
     ]
    }
   ],
   "source": [
    "# ** 참고 **\n",
    "import pandas as pd\n",
    "from pandas import Series, DataFrame\n",
    "import numpy as np\n",
    "\n",
    "df = DataFrame([[1.4, np.nan],[7.10, -4.5],[np.nan, np.nan],[0.75, -1.3]],\n",
    "              index = ['A','B','C','D'],\n",
    "              columns = ['ONE','TWO'])\n",
    "print(df)\n",
    "print('-'*20)\n",
    "print(df.idxmin())\n",
    "print('-'*20)\n",
    "print(df.idxmax())"
   ]
  },
  {
   "cell_type": "markdown",
   "id": "coordinated-clarity",
   "metadata": {},
   "source": [
    "## 3. 분석에 사용할 속성 지정"
   ]
  },
  {
   "cell_type": "code",
   "execution_count": 27,
   "id": "technological-collectible",
   "metadata": {},
   "outputs": [
    {
     "name": "stdout",
     "output_type": "stream",
     "text": [
      "   survived  pclass     sex   age  sibsp  parch embarked\n",
      "0         0       3    male  22.0      1      0        S\n",
      "1         1       1  female  38.0      1      0        C\n",
      "2         1       3  female  26.0      0      0        S\n",
      "3         1       1  female  35.0      1      0        S\n",
      "4         0       3    male  35.0      0      0        S\n"
     ]
    }
   ],
   "source": [
    "ndf = rdf[['survived','pclass','sex','age','sibsp','parch','embarked']]\n",
    "print(ndf.head())"
   ]
  },
  {
   "cell_type": "markdown",
   "id": "rough-shame",
   "metadata": {},
   "source": [
    "### One-Hot-Encoding\n",
    "\n",
    "- 원핫인코딩은 범주형 데이터를 숫자형으로 변환한다."
   ]
  },
  {
   "cell_type": "code",
   "execution_count": 28,
   "id": "initial-frank",
   "metadata": {},
   "outputs": [
    {
     "data": {
      "text/html": [
       "<div>\n",
       "<style scoped>\n",
       "    .dataframe tbody tr th:only-of-type {\n",
       "        vertical-align: middle;\n",
       "    }\n",
       "\n",
       "    .dataframe tbody tr th {\n",
       "        vertical-align: top;\n",
       "    }\n",
       "\n",
       "    .dataframe thead th {\n",
       "        text-align: right;\n",
       "    }\n",
       "</style>\n",
       "<table border=\"1\" class=\"dataframe\">\n",
       "  <thead>\n",
       "    <tr style=\"text-align: right;\">\n",
       "      <th></th>\n",
       "      <th>survived</th>\n",
       "      <th>pclass</th>\n",
       "      <th>age</th>\n",
       "      <th>sibsp</th>\n",
       "      <th>parch</th>\n",
       "      <th>female</th>\n",
       "      <th>male</th>\n",
       "      <th>town_C</th>\n",
       "      <th>town_Q</th>\n",
       "      <th>town_S</th>\n",
       "    </tr>\n",
       "  </thead>\n",
       "  <tbody>\n",
       "    <tr>\n",
       "      <th>0</th>\n",
       "      <td>0</td>\n",
       "      <td>3</td>\n",
       "      <td>22.0</td>\n",
       "      <td>1</td>\n",
       "      <td>0</td>\n",
       "      <td>0</td>\n",
       "      <td>1</td>\n",
       "      <td>0</td>\n",
       "      <td>0</td>\n",
       "      <td>1</td>\n",
       "    </tr>\n",
       "    <tr>\n",
       "      <th>1</th>\n",
       "      <td>1</td>\n",
       "      <td>1</td>\n",
       "      <td>38.0</td>\n",
       "      <td>1</td>\n",
       "      <td>0</td>\n",
       "      <td>1</td>\n",
       "      <td>0</td>\n",
       "      <td>1</td>\n",
       "      <td>0</td>\n",
       "      <td>0</td>\n",
       "    </tr>\n",
       "    <tr>\n",
       "      <th>2</th>\n",
       "      <td>1</td>\n",
       "      <td>3</td>\n",
       "      <td>26.0</td>\n",
       "      <td>0</td>\n",
       "      <td>0</td>\n",
       "      <td>1</td>\n",
       "      <td>0</td>\n",
       "      <td>0</td>\n",
       "      <td>0</td>\n",
       "      <td>1</td>\n",
       "    </tr>\n",
       "    <tr>\n",
       "      <th>3</th>\n",
       "      <td>1</td>\n",
       "      <td>1</td>\n",
       "      <td>35.0</td>\n",
       "      <td>1</td>\n",
       "      <td>0</td>\n",
       "      <td>1</td>\n",
       "      <td>0</td>\n",
       "      <td>0</td>\n",
       "      <td>0</td>\n",
       "      <td>1</td>\n",
       "    </tr>\n",
       "    <tr>\n",
       "      <th>4</th>\n",
       "      <td>0</td>\n",
       "      <td>3</td>\n",
       "      <td>35.0</td>\n",
       "      <td>0</td>\n",
       "      <td>0</td>\n",
       "      <td>0</td>\n",
       "      <td>1</td>\n",
       "      <td>0</td>\n",
       "      <td>0</td>\n",
       "      <td>1</td>\n",
       "    </tr>\n",
       "  </tbody>\n",
       "</table>\n",
       "</div>"
      ],
      "text/plain": [
       "   survived  pclass   age  sibsp  parch  female  male  town_C  town_Q  town_S\n",
       "0         0       3  22.0      1      0       0     1       0       0       1\n",
       "1         1       1  38.0      1      0       1     0       1       0       0\n",
       "2         1       3  26.0      0      0       1     0       0       0       1\n",
       "3         1       1  35.0      1      0       1     0       0       0       1\n",
       "4         0       3  35.0      0      0       0     1       0       0       1"
      ]
     },
     "execution_count": 28,
     "metadata": {},
     "output_type": "execute_result"
    }
   ],
   "source": [
    "# 성별을 0과 1로 바꿔주는 더미변수 생성 후 concat 후 이전꺼 삭제\n",
    "onehot_sex = pd.get_dummies(ndf['sex'])\n",
    "ndf = pd.concat([ndf, onehot_sex], axis=1)\n",
    "\n",
    "# 'embarked'를 숫자로 바꿔주는 더미변수 생성 후 concat 후 이전꺼 삭제\n",
    "onehot_embarked = pd.get_dummies(ndf['embarked'],prefix='town')\n",
    "ndf = pd.concat([ndf, onehot_embarked], axis=1)\n",
    "\n",
    "ndf.drop(['sex','embarked'],axis=1, inplace=True)\n",
    "ndf.head()"
   ]
  },
  {
   "cell_type": "markdown",
   "id": "junior-carroll",
   "metadata": {},
   "source": [
    "### 훈련용 데이터 / 테스트용 데이터 구분"
   ]
  },
  {
   "cell_type": "code",
   "execution_count": 30,
   "id": "broadband-ranking",
   "metadata": {},
   "outputs": [
    {
     "name": "stdout",
     "output_type": "stream",
     "text": [
      "train_data 개수 :  (499, 9)\n",
      "test_data 개수 :  (215, 9)\n"
     ]
    }
   ],
   "source": [
    "# 학습용 데이터\n",
    "X = ndf[['pclass','age','sibsp','parch','female','male','town_C','town_Q','town_S']]\n",
    "\n",
    "# 테스트용 데이터\n",
    "y = ndf['survived']\n",
    "\n",
    "# 데이터 변수들을 정규화(0 ~ 1,0 수치값)\n",
    "from sklearn import preprocessing\n",
    "X = preprocessing.StandardScaler().fit(X).transform(X)\n",
    "\n",
    "# 학습용 70%, 테스트용 30% 데이터 분할\n",
    "from sklearn.model_selection import train_test_split\n",
    "X_train, X_test, y_train, y_test = train_test_split(X, y, test_size=0.3, random_state = 10)\n",
    "\n",
    "print('train_data 개수 : ', X_train.shape)\n",
    "print('test_data 개수 : ', X_test.shape)"
   ]
  },
  {
   "cell_type": "markdown",
   "id": "surprising-tractor",
   "metadata": {},
   "source": [
    "# kNN 알고리즘으로 데이터 분석"
   ]
  },
  {
   "cell_type": "code",
   "execution_count": 33,
   "id": "white-representative",
   "metadata": {},
   "outputs": [
    {
     "name": "stdout",
     "output_type": "stream",
     "text": [
      "[0 0 1 0 0 1 1 1 0 0 1 1 0 0 0]\n",
      "\n",
      "[0 0 1 0 0 1 1 1 0 0 1 0 0 0 0]\n"
     ]
    }
   ],
   "source": [
    "from sklearn.neighbors import KNeighborsClassifier\n",
    "\n",
    "knn = KNeighborsClassifier(n_neighbors=5)\n",
    "\n",
    "knn.fit(X_train, y_train)\n",
    "\n",
    "y_hat = knn.predict(X_test)\n",
    "\n",
    "print(y_hat[0:15]) # 예측값\n",
    "print()\n",
    "print(y_test.values[0:15]) # 정답"
   ]
  },
  {
   "cell_type": "markdown",
   "id": "reserved-shannon",
   "metadata": {},
   "source": [
    "## 모델 성능 평가"
   ]
  },
  {
   "cell_type": "code",
   "execution_count": 34,
   "id": "color-accommodation",
   "metadata": {},
   "outputs": [
    {
     "data": {
      "text/plain": [
       "array([[109,  16],\n",
       "       [ 25,  65]], dtype=int64)"
      ]
     },
     "execution_count": 34,
     "metadata": {},
     "output_type": "execute_result"
    }
   ],
   "source": [
    "from sklearn import metrics\n",
    "\n",
    "knn_matrix = metrics.confusion_matrix(y_test, y_hat)\n",
    "\n",
    "knn_matrix "
   ]
  },
  {
   "cell_type": "markdown",
   "id": "continent-accounting",
   "metadata": {},
   "source": [
    "## 평가 지표"
   ]
  },
  {
   "cell_type": "code",
   "execution_count": 36,
   "id": "resistant-underground",
   "metadata": {},
   "outputs": [
    {
     "name": "stdout",
     "output_type": "stream",
     "text": [
      "              precision    recall  f1-score   support\n",
      "\n",
      "           0       0.81      0.87      0.84       125\n",
      "           1       0.80      0.72      0.76        90\n",
      "\n",
      "    accuracy                           0.81       215\n",
      "   macro avg       0.81      0.80      0.80       215\n",
      "weighted avg       0.81      0.81      0.81       215\n",
      "\n"
     ]
    }
   ],
   "source": [
    "knn_report = metrics.classification_report(y_test, y_hat)\n",
    "print(knn_report)"
   ]
  },
  {
   "cell_type": "markdown",
   "id": "introductory-genome",
   "metadata": {},
   "source": [
    "- precision : 정답을 맞춘 횟수\n",
    "- recall : 맞춘 것을 정답과 비교했을 때 퍼센트값\n",
    "- f1-score : 정답을 맞춘 것의 신뢰도\n",
    "- accuracy : 전체 정확도"
   ]
  },
  {
   "cell_type": "code",
   "execution_count": null,
   "id": "patient-bachelor",
   "metadata": {},
   "outputs": [],
   "source": []
  }
 ],
 "metadata": {
  "kernelspec": {
   "display_name": "Python 3",
   "language": "python",
   "name": "python3"
  },
  "language_info": {
   "codemirror_mode": {
    "name": "ipython",
    "version": 3
   },
   "file_extension": ".py",
   "mimetype": "text/x-python",
   "name": "python",
   "nbconvert_exporter": "python",
   "pygments_lexer": "ipython3",
   "version": "3.8.7"
  }
 },
 "nbformat": 4,
 "nbformat_minor": 5
}
