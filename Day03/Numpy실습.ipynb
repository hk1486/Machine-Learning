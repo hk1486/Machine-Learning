{
 "cells": [
  {
   "cell_type": "markdown",
   "id": "secure-retail",
   "metadata": {},
   "source": [
    "변수란 하나의 값을 갖고 있는 것,\n",
    "\n",
    "변수 여러개의 값을 할당한다 -> 리스트, 튜플, 딕셔너리\n",
    "\n",
    "변수에 숫자 데이터가 많은 경우에는 리스트의 속도가 느려지고,\n",
    "메모리를 많이 차지하는 단점이 발생한다.\n",
    "\n",
    "이러한 단점을 보완하기 위하여 배열(array)을 사용하면, 적은 메모리로 대용량의 데이터를 처리할 수 있다."
   ]
  },
  {
   "cell_type": "markdown",
   "id": "attempted-policy",
   "metadata": {},
   "source": [
    "### 배열이 리스트와 다른 점\n",
    "\n",
    "- 배열의 모든 원소가 같은 자료형이어야 한다.\n",
    "- 원소의 개수를 바꿀 수 없다."
   ]
  },
  {
   "cell_type": "markdown",
   "id": "psychological-fleece",
   "metadata": {},
   "source": [
    "배열을 사용하기 위하여 넘파이 모듈을 호출한다."
   ]
  },
  {
   "cell_type": "code",
   "execution_count": 1,
   "id": "legal-opera",
   "metadata": {},
   "outputs": [],
   "source": [
    "import numpy as np"
   ]
  },
  {
   "cell_type": "markdown",
   "id": "aggregate-bahrain",
   "metadata": {},
   "source": [
    "# 1차원 배열 만들기"
   ]
  },
  {
   "cell_type": "code",
   "execution_count": 3,
   "id": "olive-stupid",
   "metadata": {},
   "outputs": [
    {
     "data": {
      "text/plain": [
       "numpy.ndarray"
      ]
     },
     "execution_count": 3,
     "metadata": {},
     "output_type": "execute_result"
    }
   ],
   "source": [
    "arr = np.array([0,1,2,3,4,5,6,7,8,9])\n",
    "type(arr)"
   ]
  },
  {
   "cell_type": "markdown",
   "id": "premier-nature",
   "metadata": {},
   "source": [
    "## 리스트 대신 배열을 사용해야 하는 이유"
   ]
  },
  {
   "cell_type": "code",
   "execution_count": 8,
   "id": "republican-hanging",
   "metadata": {},
   "outputs": [],
   "source": [
    "data = [0,1,2,3,4,5,6,7,8,9]\n",
    "data2 = []"
   ]
  },
  {
   "cell_type": "code",
   "execution_count": 9,
   "id": "proprietary-vegetarian",
   "metadata": {},
   "outputs": [
    {
     "data": {
      "text/plain": [
       "[0, 2, 4, 6, 8, 10, 12, 14, 16, 18]"
      ]
     },
     "execution_count": 9,
     "metadata": {},
     "output_type": "execute_result"
    }
   ],
   "source": [
    "for i in data:\n",
    "    data2.append(i*2)\n",
    "data2"
   ]
  },
  {
   "cell_type": "markdown",
   "id": "included-arbor",
   "metadata": {},
   "source": [
    "## 배열을 사용하면 for문 사용없이 연산이 가능함"
   ]
  },
  {
   "cell_type": "code",
   "execution_count": 10,
   "id": "comic-motorcycle",
   "metadata": {},
   "outputs": [
    {
     "data": {
      "text/plain": [
       "array([ 0,  2,  4,  6,  8, 10, 12, 14, 16, 18])"
      ]
     },
     "execution_count": 10,
     "metadata": {},
     "output_type": "execute_result"
    }
   ],
   "source": [
    "arr2 = arr*2\n",
    "arr2"
   ]
  },
  {
   "cell_type": "code",
   "execution_count": 12,
   "id": "canadian-flesh",
   "metadata": {},
   "outputs": [
    {
     "data": {
      "text/plain": [
       "array([ 6,  9, 12])"
      ]
     },
     "execution_count": 12,
     "metadata": {},
     "output_type": "execute_result"
    }
   ],
   "source": [
    "a = np.array([1,2,3])\n",
    "b = np.array([4,5,6])\n",
    "\n",
    "2 * a + b"
   ]
  },
  {
   "cell_type": "markdown",
   "id": "international-possible",
   "metadata": {},
   "source": [
    "# 2차원 배열 : 행렬 Matrix 매트릭스\n",
    "- 1차원배열 = 행 또는 열로만 구성\n",
    "- 2차원배열 = (행,열)로 구성\n"
   ]
  },
  {
   "cell_type": "code",
   "execution_count": 15,
   "id": "blank-mileage",
   "metadata": {},
   "outputs": [
    {
     "data": {
      "text/plain": [
       "array([[1, 2, 3],\n",
       "       [4, 5, 6]])"
      ]
     },
     "execution_count": 15,
     "metadata": {},
     "output_type": "execute_result"
    }
   ],
   "source": [
    "c = np.array([[1,2,3],[4,5,6]])\n",
    "c"
   ]
  },
  {
   "cell_type": "code",
   "execution_count": 17,
   "id": "ancient-siemens",
   "metadata": {},
   "outputs": [
    {
     "data": {
      "text/plain": [
       "array([[10, 20, 30, 40],\n",
       "       [50, 60, 70, 80]])"
      ]
     },
     "execution_count": 17,
     "metadata": {},
     "output_type": "execute_result"
    }
   ],
   "source": [
    "d = np.array([[10,20,30,40],\n",
    "            [50,60,70,80]])\n",
    "d"
   ]
  },
  {
   "cell_type": "markdown",
   "id": "accredited-assets",
   "metadata": {},
   "source": [
    "# 3차원 배열 : [[[3차원배열]]]"
   ]
  },
  {
   "cell_type": "code",
   "execution_count": 25,
   "id": "diagnostic-alabama",
   "metadata": {},
   "outputs": [
    {
     "data": {
      "text/plain": [
       "array([[[ 1,  2,  3,  4],\n",
       "        [ 5,  6,  7,  8],\n",
       "        [ 9, 10, 11, 12]],\n",
       "\n",
       "       [[ 1,  2,  3,  4],\n",
       "        [ 5,  6,  7,  8],\n",
       "        [ 9, 10, 11, 12]]])"
      ]
     },
     "execution_count": 25,
     "metadata": {},
     "output_type": "execute_result"
    }
   ],
   "source": [
    "e = np.array([[[1,2,3,4],[5,6,7,8],[9,10,11,12]],\n",
    "             [[1,2,3,4],[5,6,7,8],[9,10,11,12]]]) # 2*3*4 배열 \n",
    "e"
   ]
  },
  {
   "cell_type": "markdown",
   "id": "inappropriate-inspection",
   "metadata": {},
   "source": [
    "# 배열이 몇차원인지, 크기 알아내기"
   ]
  },
  {
   "cell_type": "code",
   "execution_count": 33,
   "id": "united-whole",
   "metadata": {},
   "outputs": [
    {
     "data": {
      "text/plain": [
       "1"
      ]
     },
     "execution_count": 33,
     "metadata": {},
     "output_type": "execute_result"
    }
   ],
   "source": [
    "a = np.array([1,2,3])\n",
    "a.ndim # 차원"
   ]
  },
  {
   "cell_type": "code",
   "execution_count": 34,
   "id": "excessive-worth",
   "metadata": {},
   "outputs": [
    {
     "data": {
      "text/plain": [
       "(3,)"
      ]
     },
     "execution_count": 34,
     "metadata": {},
     "output_type": "execute_result"
    }
   ],
   "source": [
    "a.shape # 크기"
   ]
  },
  {
   "cell_type": "code",
   "execution_count": 35,
   "id": "sudden-viewer",
   "metadata": {},
   "outputs": [
    {
     "data": {
      "text/plain": [
       "array([[[ 1,  2,  3,  4],\n",
       "        [ 5,  6,  7,  8],\n",
       "        [ 9, 10, 11, 12]],\n",
       "\n",
       "       [[ 1,  2,  3,  4],\n",
       "        [ 5,  6,  7,  8],\n",
       "        [ 9, 10, 11, 12]]])"
      ]
     },
     "execution_count": 35,
     "metadata": {},
     "output_type": "execute_result"
    }
   ],
   "source": [
    "e = np.array([[[1,2,3,4],[5,6,7,8],[9,10,11,12]],\n",
    "             [[1,2,3,4],[5,6,7,8],[9,10,11,12]]]) # 2*3*4 배열 \n",
    "e"
   ]
  },
  {
   "cell_type": "code",
   "execution_count": 36,
   "id": "protective-nudist",
   "metadata": {},
   "outputs": [
    {
     "data": {
      "text/plain": [
       "3"
      ]
     },
     "execution_count": 36,
     "metadata": {},
     "output_type": "execute_result"
    }
   ],
   "source": [
    "e.ndim"
   ]
  },
  {
   "cell_type": "code",
   "execution_count": 37,
   "id": "incorporated-hearts",
   "metadata": {},
   "outputs": [
    {
     "data": {
      "text/plain": [
       "(2, 3, 4)"
      ]
     },
     "execution_count": 37,
     "metadata": {},
     "output_type": "execute_result"
    }
   ],
   "source": [
    "e.shape # 2행 3열 4면"
   ]
  },
  {
   "cell_type": "code",
   "execution_count": 38,
   "id": "auburn-sugar",
   "metadata": {},
   "outputs": [
    {
     "data": {
      "text/plain": [
       "array([[10, 20, 30, 40],\n",
       "       [50, 60, 70, 80]])"
      ]
     },
     "execution_count": 38,
     "metadata": {},
     "output_type": "execute_result"
    }
   ],
   "source": [
    "d = np.array([[10,20,30,40],\n",
    "            [50,60,70,80]])\n",
    "d"
   ]
  },
  {
   "cell_type": "code",
   "execution_count": 40,
   "id": "dominican-daisy",
   "metadata": {},
   "outputs": [
    {
     "data": {
      "text/plain": [
       "2"
      ]
     },
     "execution_count": 40,
     "metadata": {},
     "output_type": "execute_result"
    }
   ],
   "source": [
    "d.ndim"
   ]
  },
  {
   "cell_type": "code",
   "execution_count": 41,
   "id": "documentary-botswana",
   "metadata": {},
   "outputs": [
    {
     "data": {
      "text/plain": [
       "(2, 4)"
      ]
     },
     "execution_count": 41,
     "metadata": {},
     "output_type": "execute_result"
    }
   ],
   "source": [
    "d.shape"
   ]
  },
  {
   "cell_type": "markdown",
   "id": "dying-patch",
   "metadata": {},
   "source": [
    "# 배열의 인덱싱"
   ]
  },
  {
   "cell_type": "code",
   "execution_count": 42,
   "id": "removable-latitude",
   "metadata": {},
   "outputs": [],
   "source": [
    "a = np.array([0,1,2,3,4])"
   ]
  },
  {
   "cell_type": "code",
   "execution_count": 43,
   "id": "sitting-intention",
   "metadata": {},
   "outputs": [
    {
     "data": {
      "text/plain": [
       "2"
      ]
     },
     "execution_count": 43,
     "metadata": {},
     "output_type": "execute_result"
    }
   ],
   "source": [
    "a[2]"
   ]
  },
  {
   "cell_type": "code",
   "execution_count": 44,
   "id": "parental-history",
   "metadata": {},
   "outputs": [
    {
     "data": {
      "text/plain": [
       "4"
      ]
     },
     "execution_count": 44,
     "metadata": {},
     "output_type": "execute_result"
    }
   ],
   "source": [
    "a[-1]"
   ]
  },
  {
   "cell_type": "code",
   "execution_count": 45,
   "id": "compatible-desktop",
   "metadata": {},
   "outputs": [
    {
     "data": {
      "text/plain": [
       "array([0, 1, 2, 3, 4])"
      ]
     },
     "execution_count": 45,
     "metadata": {},
     "output_type": "execute_result"
    }
   ],
   "source": [
    "a[:]"
   ]
  },
  {
   "cell_type": "code",
   "execution_count": 47,
   "id": "innocent-comparative",
   "metadata": {},
   "outputs": [
    {
     "data": {
      "text/plain": [
       "array([4, 3, 2, 1, 0])"
      ]
     },
     "execution_count": 47,
     "metadata": {},
     "output_type": "execute_result"
    }
   ],
   "source": [
    "a[::-1]"
   ]
  },
  {
   "cell_type": "markdown",
   "id": "designed-snapshot",
   "metadata": {},
   "source": [
    "# 2차원 배열"
   ]
  },
  {
   "cell_type": "code",
   "execution_count": 54,
   "id": "illegal-kansas",
   "metadata": {},
   "outputs": [],
   "source": [
    "b = np.array([[1,2,3],[4,5,6],[7,8,9]])"
   ]
  },
  {
   "cell_type": "code",
   "execution_count": 55,
   "id": "automotive-above",
   "metadata": {},
   "outputs": [
    {
     "data": {
      "text/plain": [
       "2"
      ]
     },
     "execution_count": 55,
     "metadata": {},
     "output_type": "execute_result"
    }
   ],
   "source": [
    "b.ndim"
   ]
  },
  {
   "cell_type": "markdown",
   "id": "distributed-bacon",
   "metadata": {},
   "source": [
    "**다차원 배열일 경우**\n",
    "- 콤마 기호를 사용하여 접근할 수 있다."
   ]
  },
  {
   "cell_type": "code",
   "execution_count": 56,
   "id": "documentary-plaza",
   "metadata": {},
   "outputs": [
    {
     "data": {
      "text/plain": [
       "2"
      ]
     },
     "execution_count": 56,
     "metadata": {},
     "output_type": "execute_result"
    }
   ],
   "source": [
    "b[0,1] # 1번째 행에서 2번째 열의 값을 가져옴"
   ]
  },
  {
   "cell_type": "code",
   "execution_count": 60,
   "id": "executed-monaco",
   "metadata": {},
   "outputs": [
    {
     "data": {
      "text/plain": [
       "5"
      ]
     },
     "execution_count": 60,
     "metadata": {},
     "output_type": "execute_result"
    }
   ],
   "source": [
    "b[2,2]\n",
    "b[1,1]"
   ]
  },
  {
   "cell_type": "code",
   "execution_count": null,
   "id": "mediterranean-porcelain",
   "metadata": {},
   "outputs": [],
   "source": []
  }
 ],
 "metadata": {
  "kernelspec": {
   "display_name": "Python 3",
   "language": "python",
   "name": "python3"
  },
  "language_info": {
   "codemirror_mode": {
    "name": "ipython",
    "version": 3
   },
   "file_extension": ".py",
   "mimetype": "text/x-python",
   "name": "python",
   "nbconvert_exporter": "python",
   "pygments_lexer": "ipython3",
   "version": "3.9.1"
  }
 },
 "nbformat": 4,
 "nbformat_minor": 5
}
