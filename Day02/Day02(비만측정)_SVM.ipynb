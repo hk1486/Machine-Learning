{
 "cells": [
  {
   "cell_type": "markdown",
   "id": "different-immigration",
   "metadata": {},
   "source": [
    "# SVM을 이용한 비만도 판별하기"
   ]
  },
  {
   "cell_type": "markdown",
   "id": "superior-electron",
   "metadata": {},
   "source": [
    "#### 명제 : 컴퓨터가 비만을 학습할 수 있는가?"
   ]
  },
  {
   "cell_type": "markdown",
   "id": "retired-export",
   "metadata": {},
   "source": [
    "BMI = <몸무게(kg)> / <키(m)> * <키(m)>\n",
    "\n",
    "BMI 지수가 18 이상 25 미만일 경우 표준 몸무게에 해당된다."
   ]
  },
  {
   "cell_type": "markdown",
   "id": "human-nurse",
   "metadata": {},
   "source": [
    "### 사전 데이터 수집\n",
    "\n",
    "무작위로 2만명의 데이터를 가공\n",
    "\n",
    "- 1) 키 cm\n",
    "- 2) 몸무게 kg\n",
    "- 3) 저체중 thin\n",
    "- 4) 정상 normal\n",
    "- 5) 비만 fat"
   ]
  },
  {
   "cell_type": "code",
   "execution_count": null,
   "id": "universal-guidance",
   "metadata": {},
   "outputs": [],
   "source": [
    "import random\n",
    "\n",
    "# BMI를 계산하여 레이블을 반환하는 함수\n",
    "\n",
    "def calc_bmi(h, w):\n",
    "    bmi = w / (h/100) ** 2\n",
    "    if bmi < 18.5:\n",
    "        return 'thin'\n",
    "    if bmi < 25:\n",
    "        return 'normal'\n",
    "    return 'fat'\n",
    "\n",
    "# 출력 파일 생성\n",
    "# 주의사항 : 콤마기호 다음에 한칸을 띄우면 실제 열이름에 공백이 들어가짐(실행 오류 발생 가능)\n",
    "fp = open('bmi.csv', 'w', encoding='utf-8')\n",
    "fp.write('height,weight,label\\r\\n')\n",
    "\n",
    "# 랜덤함수를 이용한 무작위 데이터 생성\n",
    "cnt = {'thin':0, 'normal':0, 'fat':0}\n",
    "\n",
    "for i in range(20000):\n",
    "    h = random.randint(100, 250)\n",
    "    w = random.randint(45, 120)\n",
    "    label = calc_bmi(h, w)\n",
    "    cnt[label] += 1\n",
    "    fp.write('{0}, {1}, {2}\\r\\n'.format(h, w, label))\n",
    "fp.close()\n",
    "\n",
    "print('Done',cnt)"
   ]
  },
  {
   "cell_type": "markdown",
   "id": "technical-collective",
   "metadata": {},
   "source": [
    "### SVM 으로 분석하기"
   ]
  },
  {
   "cell_type": "code",
   "execution_count": 5,
   "id": "funny-submission",
   "metadata": {},
   "outputs": [],
   "source": [
    "# Part 1\n",
    "\n",
    "from sklearn import svm, metrics\n",
    "from sklearn.model_selection import train_test_split"
   ]
  },
  {
   "cell_type": "code",
   "execution_count": 4,
   "id": "suitable-reaction",
   "metadata": {},
   "outputs": [],
   "source": [
    "# Part 2\n",
    "\n",
    "import pandas as pd\n",
    "\n",
    "# 키와 몸무게 데이터 읽어들이기\n",
    "tbl = pd.read_csv('bmi.csv')\n",
    "\n",
    "# 칼럼(열)을 자르고 정규화하기 (현재값 / 전체 카운트값)\n",
    "label = tbl['label']\n",
    "w = tbl['weight'] / 120  # 최대 몸무게 120 기준으로\n",
    "h = tbl['height'] / 250  # 최대 키 250 기준으로\n",
    "wh = pd.concat([w,h], axis = 1)"
   ]
  },
  {
   "cell_type": "code",
   "execution_count": 14,
   "id": "greenhouse-occasion",
   "metadata": {},
   "outputs": [
    {
     "name": "stdout",
     "output_type": "stream",
     "text": [
      "예측결과 :  [' fat' ' thin' ' fat' ... ' fat' ' fat' ' thin']\n",
      "\n",
      "정확도 :  0.9952\n",
      "------------------------------------------------------------\n",
      "REPORT\n",
      "------------------------------------------------------------\n",
      "              precision    recall  f1-score   support\n",
      "\n",
      "         fat       1.00      1.00      1.00      2648\n",
      "      normal       0.99      0.99      0.99      1043\n",
      "        thin       1.00      0.99      1.00      1309\n",
      "\n",
      "    accuracy                           1.00      5000\n",
      "   macro avg       0.99      0.99      0.99      5000\n",
      "weighted avg       1.00      1.00      1.00      5000\n",
      "\n"
     ]
    }
   ],
   "source": [
    "# Part 3 ---- 머신러닝\n",
    "\n",
    "train_data, test_data, train_label, test_label = train_test_split(wh, label)\n",
    "\n",
    "# print(len(train_data)) # 15000개 학습용\n",
    "# print(len(test_data))  # 5000개 테스트용\n",
    "\n",
    "clf = svm.SVC()\n",
    "clf.fit(train_data, train_label)\n",
    "\n",
    "predict = clf.predict(test_data)\n",
    "print('예측결과 : ', predict)\n",
    "print()\n",
    "\n",
    "score = metrics.accuracy_score(test_label, predict)\n",
    "print('정확도 : ', score)\n",
    "print('-'*60)\n",
    "\n",
    "report = metrics.classification_report(test_label, predict)\n",
    "print('REPORT')\n",
    "print('-'*60)\n",
    "print(report)"
   ]
  },
  {
   "cell_type": "markdown",
   "id": "colonial-knitting",
   "metadata": {},
   "source": [
    "# MLPClassifier ** 참고"
   ]
  },
  {
   "cell_type": "code",
   "execution_count": 19,
   "id": "sporting-hawaii",
   "metadata": {},
   "outputs": [
    {
     "name": "stdout",
     "output_type": "stream",
     "text": [
      "예측결과 :  [' thin' ' fat' ' fat' ... ' normal' ' fat' ' normal']\n",
      "\n",
      "정확도 :  0.9938\n",
      "------------------------------------------------------------\n",
      "REPORT\n",
      "------------------------------------------------------------\n",
      "              precision    recall  f1-score   support\n",
      "\n",
      "         fat       1.00      1.00      1.00      2691\n",
      "      normal       0.98      0.99      0.98       957\n",
      "        thin       1.00      0.99      0.99      1352\n",
      "\n",
      "    accuracy                           0.99      5000\n",
      "   macro avg       0.99      0.99      0.99      5000\n",
      "weighted avg       0.99      0.99      0.99      5000\n",
      "\n"
     ]
    },
    {
     "name": "stderr",
     "output_type": "stream",
     "text": [
      "c:\\users\\tj\\appdata\\local\\programs\\python\\python38\\lib\\site-packages\\sklearn\\neural_network\\_multilayer_perceptron.py:614: ConvergenceWarning: Stochastic Optimizer: Maximum iterations (200) reached and the optimization hasn't converged yet.\n",
      "  warnings.warn(\n"
     ]
    }
   ],
   "source": [
    "# Part 3 ---- 머신러닝\n",
    "\n",
    "from sklearn.neural_network import MLPClassifier\n",
    "\n",
    "train_data, test_data, train_label, test_label = train_test_split(wh, label)\n",
    "\n",
    "# print(len(train_data)) # 15000개 학습용\n",
    "# print(len(test_data))  # 5000개 테스트용\n",
    "\n",
    "clf = MLPClassifier()\n",
    "clf.fit(train_data, train_label)\n",
    "\n",
    "predict = clf.predict(test_data)\n",
    "print('예측결과 : ', predict)\n",
    "print()\n",
    "\n",
    "score = metrics.accuracy_score(test_label, predict)\n",
    "print('정확도 : ', score)\n",
    "print('-'*60)\n",
    "\n",
    "report = metrics.classification_report(test_label, predict)\n",
    "print('REPORT')\n",
    "print('-'*60)\n",
    "print(report)"
   ]
  },
  {
   "cell_type": "markdown",
   "id": "acquired-might",
   "metadata": {},
   "source": [
    "### 비만도 시각화"
   ]
  },
  {
   "cell_type": "code",
   "execution_count": 17,
   "id": "convinced-resort",
   "metadata": {},
   "outputs": [
    {
     "data": {
      "image/png": "[encoded data removed]",
      "text/plain": [
       "<Figure size 432x288 with 1 Axes>"
      ]
     },
     "metadata": {
      "needs_background": "light"
     },
     "output_type": "display_data"
    }
   ],
   "source": [
    "import matplotlib.pyplot as plt\n",
    "\n",
    "tbl = pd.read_csv('bmi.csv', index_col = 2)\n",
    "\n",
    "# 그래프 그리기\n",
    "fig = plt.figure()\n",
    "ax = fig.add_subplot(1,1,1)\n",
    "\n",
    "# 지정된 레이블을 임의 색으로 칠하기\n",
    "def scatter(lbl, color):\n",
    "    b = tbl.loc[lbl]\n",
    "    ax.scatter(b['weight'], b['height'], c=color, label=lbl)\n",
    "    \n",
    "scatter(' fat','red')\n",
    "scatter(' normal','green')\n",
    "scatter(' thin','blue')\n",
    "\n",
    "ax.legend() # 범례\n",
    "plt.savefig('bmi_random.png')\n",
    "plt.show()"
   ]
  },
  {
   "cell_type": "markdown",
   "id": "varied-triangle",
   "metadata": {},
   "source": [
    "# 사이킷런에 내장된 데이터셋 **참고"
   ]
  },
  {
   "cell_type": "markdown",
   "id": "selective-stretch",
   "metadata": {},
   "source": [
    "http://archive.ics.uci.edu/ml/index.php"
   ]
  },
  {
   "cell_type": "markdown",
   "id": "israeli-europe",
   "metadata": {},
   "source": [
    "|데이터 로드 방법 | 데이터명|\n",
    "|-|-|\n",
    "|load_boston([return_X_y]) | 보스턴 주택가격 데이터|\n",
    "|load_iris([return_X_y]) | 붓꽃 데이터|\n",
    "|load_diabetes([return_X_y]) | 당뇨병 데이터|\n",
    "|load_digits([return_X_y]) | 손글씨 데이터|\n",
    "|load_linnerud([return_X_y]) | 운동 능력 데이터|\n",
    "|load_wine([return_X_y]) | 와인 데이터|\n",
    "|load_breast_cancer([return_X_y]) | 위스콘신 유방암 데이터|"
   ]
  },
  {
   "cell_type": "markdown",
   "id": "based-london",
   "metadata": {},
   "source": [
    "# 사이킷런 내장 데이터 호출하기 **참고"
   ]
  },
  {
   "cell_type": "code",
   "execution_count": 7,
   "id": "waiting-frequency",
   "metadata": {},
   "outputs": [
    {
     "data": {
      "text/html": [
       "<div>\n",
       "<style scoped>\n",
       "    .dataframe tbody tr th:only-of-type {\n",
       "        vertical-align: middle;\n",
       "    }\n",
       "\n",
       "    .dataframe tbody tr th {\n",
       "        vertical-align: top;\n",
       "    }\n",
       "\n",
       "    .dataframe thead th {\n",
       "        text-align: right;\n",
       "    }\n",
       "</style>\n",
       "<table border=\"1\" class=\"dataframe\">\n",
       "  <thead>\n",
       "    <tr style=\"text-align: right;\">\n",
       "      <th></th>\n",
       "      <th>sepal length (cm)</th>\n",
       "      <th>sepal width (cm)</th>\n",
       "      <th>petal length (cm)</th>\n",
       "      <th>petal width (cm)</th>\n",
       "      <th>Species</th>\n",
       "    </tr>\n",
       "  </thead>\n",
       "  <tbody>\n",
       "    <tr>\n",
       "      <th>0</th>\n",
       "      <td>5.1</td>\n",
       "      <td>3.5</td>\n",
       "      <td>1.4</td>\n",
       "      <td>0.2</td>\n",
       "      <td>0</td>\n",
       "    </tr>\n",
       "    <tr>\n",
       "      <th>1</th>\n",
       "      <td>4.9</td>\n",
       "      <td>3.0</td>\n",
       "      <td>1.4</td>\n",
       "      <td>0.2</td>\n",
       "      <td>0</td>\n",
       "    </tr>\n",
       "    <tr>\n",
       "      <th>2</th>\n",
       "      <td>4.7</td>\n",
       "      <td>3.2</td>\n",
       "      <td>1.3</td>\n",
       "      <td>0.2</td>\n",
       "      <td>0</td>\n",
       "    </tr>\n",
       "    <tr>\n",
       "      <th>3</th>\n",
       "      <td>4.6</td>\n",
       "      <td>3.1</td>\n",
       "      <td>1.5</td>\n",
       "      <td>0.2</td>\n",
       "      <td>0</td>\n",
       "    </tr>\n",
       "    <tr>\n",
       "      <th>4</th>\n",
       "      <td>5.0</td>\n",
       "      <td>3.6</td>\n",
       "      <td>1.4</td>\n",
       "      <td>0.2</td>\n",
       "      <td>0</td>\n",
       "    </tr>\n",
       "  </tbody>\n",
       "</table>\n",
       "</div>"
      ],
      "text/plain": [
       "   sepal length (cm)  sepal width (cm)  petal length (cm)  petal width (cm)  \\\n",
       "0                5.1               3.5                1.4               0.2   \n",
       "1                4.9               3.0                1.4               0.2   \n",
       "2                4.7               3.2                1.3               0.2   \n",
       "3                4.6               3.1                1.5               0.2   \n",
       "4                5.0               3.6                1.4               0.2   \n",
       "\n",
       "   Species  \n",
       "0        0  \n",
       "1        0  \n",
       "2        0  \n",
       "3        0  \n",
       "4        0  "
      ]
     },
     "execution_count": 7,
     "metadata": {},
     "output_type": "execute_result"
    }
   ],
   "source": [
    "import pandas as pd\n",
    "from sklearn.datasets import load_iris\n",
    "\n",
    "data = load_iris()\n",
    "\n",
    "X = pd.DataFrame(data.data, columns=data.feature_names)\n",
    "y = pd.DataFrame(data.target, columns=['Species'])\n",
    "\n",
    "df = pd.concat([X,y], axis=1)\n",
    "df.head()"
   ]
  },
  {
   "cell_type": "code",
   "execution_count": null,
   "id": "handled-constant",
   "metadata": {},
   "outputs": [],
   "source": []
  }
 ],
 "metadata": {
  "kernelspec": {
   "display_name": "Python 3",
   "language": "python",
   "name": "python3"
  },
  "language_info": {
   "codemirror_mode": {
    "name": "ipython",
    "version": 3
   },
   "file_extension": ".py",
   "mimetype": "text/x-python",
   "name": "python",
   "nbconvert_exporter": "python",
   "pygments_lexer": "ipython3",
   "version": "3.8.7"
  }
 },
 "nbformat": 4,
 "nbformat_minor": 5
}
