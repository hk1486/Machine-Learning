{
 "cells": [
  {
   "cell_type": "markdown",
   "id": "unique-illinois",
   "metadata": {},
   "source": [
    "# 서포트 벡터 머신으로 타이타닉 분석하기"
   ]
  },
  {
   "cell_type": "code",
   "execution_count": 2,
   "id": "social-start",
   "metadata": {},
   "outputs": [],
   "source": [
    "import pandas as pd\n",
    "import seaborn as sns"
   ]
  },
  {
   "cell_type": "markdown",
   "id": "proper-criminal",
   "metadata": {},
   "source": [
    "## 1. 데이터 준비"
   ]
  },
  {
   "cell_type": "code",
   "execution_count": 9,
   "id": "seventh-cambridge",
   "metadata": {},
   "outputs": [
    {
     "data": {
      "text/html": [
       "<div>\n",
       "<style scoped>\n",
       "    .dataframe tbody tr th:only-of-type {\n",
       "        vertical-align: middle;\n",
       "    }\n",
       "\n",
       "    .dataframe tbody tr th {\n",
       "        vertical-align: top;\n",
       "    }\n",
       "\n",
       "    .dataframe thead th {\n",
       "        text-align: right;\n",
       "    }\n",
       "</style>\n",
       "<table border=\"1\" class=\"dataframe\">\n",
       "  <thead>\n",
       "    <tr style=\"text-align: right;\">\n",
       "      <th></th>\n",
       "      <th>survived</th>\n",
       "      <th>pclass</th>\n",
       "      <th>sex</th>\n",
       "      <th>age</th>\n",
       "      <th>sibsp</th>\n",
       "      <th>parch</th>\n",
       "      <th>fare</th>\n",
       "      <th>embarked</th>\n",
       "      <th>class</th>\n",
       "      <th>who</th>\n",
       "      <th>adult_male</th>\n",
       "      <th>deck</th>\n",
       "      <th>embark_town</th>\n",
       "      <th>alive</th>\n",
       "      <th>alone</th>\n",
       "    </tr>\n",
       "  </thead>\n",
       "  <tbody>\n",
       "    <tr>\n",
       "      <th>0</th>\n",
       "      <td>0</td>\n",
       "      <td>3</td>\n",
       "      <td>male</td>\n",
       "      <td>22.0</td>\n",
       "      <td>1</td>\n",
       "      <td>0</td>\n",
       "      <td>7.2500</td>\n",
       "      <td>S</td>\n",
       "      <td>Third</td>\n",
       "      <td>man</td>\n",
       "      <td>True</td>\n",
       "      <td>NaN</td>\n",
       "      <td>Southampton</td>\n",
       "      <td>no</td>\n",
       "      <td>False</td>\n",
       "    </tr>\n",
       "    <tr>\n",
       "      <th>1</th>\n",
       "      <td>1</td>\n",
       "      <td>1</td>\n",
       "      <td>female</td>\n",
       "      <td>38.0</td>\n",
       "      <td>1</td>\n",
       "      <td>0</td>\n",
       "      <td>71.2833</td>\n",
       "      <td>C</td>\n",
       "      <td>First</td>\n",
       "      <td>woman</td>\n",
       "      <td>False</td>\n",
       "      <td>C</td>\n",
       "      <td>Cherbourg</td>\n",
       "      <td>yes</td>\n",
       "      <td>False</td>\n",
       "    </tr>\n",
       "    <tr>\n",
       "      <th>2</th>\n",
       "      <td>1</td>\n",
       "      <td>3</td>\n",
       "      <td>female</td>\n",
       "      <td>26.0</td>\n",
       "      <td>0</td>\n",
       "      <td>0</td>\n",
       "      <td>7.9250</td>\n",
       "      <td>S</td>\n",
       "      <td>Third</td>\n",
       "      <td>woman</td>\n",
       "      <td>False</td>\n",
       "      <td>NaN</td>\n",
       "      <td>Southampton</td>\n",
       "      <td>yes</td>\n",
       "      <td>True</td>\n",
       "    </tr>\n",
       "    <tr>\n",
       "      <th>3</th>\n",
       "      <td>1</td>\n",
       "      <td>1</td>\n",
       "      <td>female</td>\n",
       "      <td>35.0</td>\n",
       "      <td>1</td>\n",
       "      <td>0</td>\n",
       "      <td>53.1000</td>\n",
       "      <td>S</td>\n",
       "      <td>First</td>\n",
       "      <td>woman</td>\n",
       "      <td>False</td>\n",
       "      <td>C</td>\n",
       "      <td>Southampton</td>\n",
       "      <td>yes</td>\n",
       "      <td>False</td>\n",
       "    </tr>\n",
       "    <tr>\n",
       "      <th>4</th>\n",
       "      <td>0</td>\n",
       "      <td>3</td>\n",
       "      <td>male</td>\n",
       "      <td>35.0</td>\n",
       "      <td>0</td>\n",
       "      <td>0</td>\n",
       "      <td>8.0500</td>\n",
       "      <td>S</td>\n",
       "      <td>Third</td>\n",
       "      <td>man</td>\n",
       "      <td>True</td>\n",
       "      <td>NaN</td>\n",
       "      <td>Southampton</td>\n",
       "      <td>no</td>\n",
       "      <td>True</td>\n",
       "    </tr>\n",
       "  </tbody>\n",
       "</table>\n",
       "</div>"
      ],
      "text/plain": [
       "   survived  pclass     sex   age  sibsp  parch     fare embarked  class  \\\n",
       "0         0       3    male  22.0      1      0   7.2500        S  Third   \n",
       "1         1       1  female  38.0      1      0  71.2833        C  First   \n",
       "2         1       3  female  26.0      0      0   7.9250        S  Third   \n",
       "3         1       1  female  35.0      1      0  53.1000        S  First   \n",
       "4         0       3    male  35.0      0      0   8.0500        S  Third   \n",
       "\n",
       "     who  adult_male deck  embark_town alive  alone  \n",
       "0    man        True  NaN  Southampton    no  False  \n",
       "1  woman       False    C    Cherbourg   yes  False  \n",
       "2  woman       False  NaN  Southampton   yes   True  \n",
       "3  woman       False    C  Southampton   yes  False  \n",
       "4    man        True  NaN  Southampton    no   True  "
      ]
     },
     "execution_count": 9,
     "metadata": {},
     "output_type": "execute_result"
    }
   ],
   "source": [
    "df = sns.load_dataset('titanic')\n",
    "\n",
    "# data 확인\n",
    "df.head()"
   ]
  },
  {
   "cell_type": "markdown",
   "id": "golden-chance",
   "metadata": {},
   "source": [
    "## 2. 데이터 전처리"
   ]
  },
  {
   "cell_type": "code",
   "execution_count": 10,
   "id": "binding-destruction",
   "metadata": {},
   "outputs": [],
   "source": [
    "rdf = df.drop(['deck','embark_town'],axis=1)\n",
    "\n",
    "rdf = rdf.dropna(subset=['age'], how='any', axis=0)\n",
    "\n",
    "most_freq = rdf['embarked'].value_counts(dropna=True).idxmax()\n",
    "\n",
    "rdf['embarked'].fillna(most_freq, inplace=True)"
   ]
  },
  {
   "cell_type": "markdown",
   "id": "distinguished-cigarette",
   "metadata": {},
   "source": [
    "## 3. 분석할 데이터 지정"
   ]
  },
  {
   "cell_type": "code",
   "execution_count": 13,
   "id": "typical-wednesday",
   "metadata": {},
   "outputs": [],
   "source": [
    "ndf = rdf[['survived','pclass','sex','age','sibsp','parch','embarked']]\n",
    "\n",
    "onehot_sex = pd.get_dummies(ndf['sex'])\n",
    "ndf = pd.concat([ndf, onehot_sex], axis =1)\n",
    "\n",
    "onehot_embarked = pd.get_dummies(ndf['embarked'],prefix='town')\n",
    "ndf = pd.concat([ndf, onehot_embarked], axis =1)\n",
    "\n",
    "ndf.drop(['sex','embarked'],axis=1, inplace=True)"
   ]
  },
  {
   "cell_type": "markdown",
   "id": "running-delay",
   "metadata": {},
   "source": [
    "## 4. 훈련용 / 테스트용 데이터 구분"
   ]
  },
  {
   "cell_type": "code",
   "execution_count": 14,
   "id": "worst-frame",
   "metadata": {},
   "outputs": [
    {
     "name": "stdout",
     "output_type": "stream",
     "text": [
      "train_data 개수 :  (499, 9)\n",
      "test_data 개수 :  (215, 9)\n"
     ]
    }
   ],
   "source": [
    "# 학습용 데이터\n",
    "X = ndf[['pclass','age','sibsp','parch','female','male','town_C','town_Q','town_S']]\n",
    "\n",
    "# 테스트용 데이터\n",
    "y = ndf['survived']\n",
    "\n",
    "# 데이터 변수들을 정규화(0 ~ 1,0 수치값)\n",
    "from sklearn import preprocessing\n",
    "X = preprocessing.StandardScaler().fit(X).transform(X)\n",
    "\n",
    "# 학습용 70%, 테스트용 30% 데이터 분할\n",
    "from sklearn.model_selection import train_test_split\n",
    "X_train, X_test, y_train, y_test = train_test_split(X, y, test_size=0.3, random_state = 10)\n",
    "\n",
    "print('train_data 개수 : ', X_train.shape)\n",
    "print('test_data 개수 : ', X_test.shape)"
   ]
  },
  {
   "cell_type": "markdown",
   "id": "bigger-burlington",
   "metadata": {},
   "source": [
    "## 5. SVM 학습"
   ]
  },
  {
   "cell_type": "code",
   "execution_count": 16,
   "id": "published-reservation",
   "metadata": {},
   "outputs": [
    {
     "name": "stdout",
     "output_type": "stream",
     "text": [
      "[0 0 1 0 0 0 1 0 0 0]\n",
      "[0 0 1 0 0 1 1 1 0 0]\n"
     ]
    }
   ],
   "source": [
    "from sklearn import svm\n",
    "\n",
    "svm_model = svm.SVC(kernel='rbf')\n",
    "\n",
    "svm_model.fit(X_train, y_train)\n",
    "\n",
    "y_hat = svm_model.predict(X_test)\n",
    "\n",
    "print(y_hat[0:10])\n",
    "print(y_test.values[0:10])"
   ]
  },
  {
   "cell_type": "markdown",
   "id": "spoken-lightweight",
   "metadata": {},
   "source": [
    "## 6. 모델 성능 평가"
   ]
  },
  {
   "cell_type": "code",
   "execution_count": 18,
   "id": "computational-cleaners",
   "metadata": {},
   "outputs": [
    {
     "name": "stdout",
     "output_type": "stream",
     "text": [
      "[[120   5]\n",
      " [ 35  55]]\n"
     ]
    }
   ],
   "source": [
    "from sklearn import metrics\n",
    "\n",
    "svm_matrix = metrics.confusion_matrix(y_test, y_hat)\n",
    "print(svm_matrix)"
   ]
  },
  {
   "cell_type": "markdown",
   "id": "informative-bikini",
   "metadata": {},
   "source": [
    "## 7. 평가 지표 "
   ]
  },
  {
   "cell_type": "code",
   "execution_count": 19,
   "id": "incoming-decrease",
   "metadata": {},
   "outputs": [
    {
     "name": "stdout",
     "output_type": "stream",
     "text": [
      "              precision    recall  f1-score   support\n",
      "\n",
      "           0       0.77      0.96      0.86       125\n",
      "           1       0.92      0.61      0.73        90\n",
      "\n",
      "    accuracy                           0.81       215\n",
      "   macro avg       0.85      0.79      0.80       215\n",
      "weighted avg       0.83      0.81      0.81       215\n",
      "\n"
     ]
    }
   ],
   "source": [
    "svm_report = metrics.classification_report(y_test, y_hat)\n",
    "print(svm_report)"
   ]
  },
  {
   "cell_type": "markdown",
   "id": "breeding-resource",
   "metadata": {},
   "source": [
    "- precision : 정답을 맞춘 횟수\n",
    "- recall : 맞춘 것을 정답과 비교했을 때 퍼센트값\n",
    "- f1-score : 정답을 맞춘 것의 신뢰도\n",
    "- accuracy : 전체 정확도"
   ]
  },
  {
   "cell_type": "code",
   "execution_count": null,
   "id": "proud-masters",
   "metadata": {},
   "outputs": [],
   "source": []
  }
 ],
 "metadata": {
  "kernelspec": {
   "display_name": "Python 3",
   "language": "python",
   "name": "python3"
  },
  "language_info": {
   "codemirror_mode": {
    "name": "ipython",
    "version": 3
   },
   "file_extension": ".py",
   "mimetype": "text/x-python",
   "name": "python",
   "nbconvert_exporter": "python",
   "pygments_lexer": "ipython3",
   "version": "3.8.7"
  }
 },
 "nbformat": 4,
 "nbformat_minor": 5
}
