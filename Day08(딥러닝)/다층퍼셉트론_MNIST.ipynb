{
 "cells": [
  {
   "cell_type": "markdown",
   "id": "confused-hawaii",
   "metadata": {},
   "source": [
    "# 보스턴 주택 가격 분석"
   ]
  },
  {
   "cell_type": "code",
   "execution_count": 1,
   "id": "permanent-clearance",
   "metadata": {},
   "outputs": [],
   "source": [
    "from keras.datasets import boston_housing"
   ]
  },
  {
   "cell_type": "code",
   "execution_count": 2,
   "id": "opening-serial",
   "metadata": {},
   "outputs": [
    {
     "name": "stdout",
     "output_type": "stream",
     "text": [
      "Downloading data from https://storage.googleapis.com/tensorflow/tf-keras-datasets/boston_housing.npz\n",
      "57344/57026 [==============================] - 0s 0us/step\n"
     ]
    }
   ],
   "source": [
    "(X_train, y_train), (X_test, y_test) = boston_housing.load_data()"
   ]
  },
  {
   "cell_type": "code",
   "execution_count": 6,
   "id": "naval-watershed",
   "metadata": {},
   "outputs": [
    {
     "name": "stdout",
     "output_type": "stream",
     "text": [
      "(404, 13) (404,) (102, 13) (102,)\n"
     ]
    }
   ],
   "source": [
    "print(X_train.shape, y_train.shape, X_test.shape, y_test.shape)"
   ]
  },
  {
   "cell_type": "code",
   "execution_count": 7,
   "id": "dirty-backing",
   "metadata": {},
   "outputs": [],
   "source": [
    "from keras.models import Sequential\n",
    "\n",
    "# 여기에는 레이어가 하나도 추가되지 않았다.\n",
    "model = Sequential()"
   ]
  },
  {
   "cell_type": "code",
   "execution_count": 8,
   "id": "alive-mason",
   "metadata": {},
   "outputs": [],
   "source": [
    "from keras.layers import Activation, Dense"
   ]
  },
  {
   "cell_type": "code",
   "execution_count": 11,
   "id": "nervous-masters",
   "metadata": {},
   "outputs": [],
   "source": [
    "# 입력층 설계\n",
    "model.add(Dense(10, input_shape=(13,))) # 입력값 13개\n",
    "model.add(Activation('sigmoid'))"
   ]
  },
  {
   "cell_type": "code",
   "execution_count": 12,
   "id": "employed-italian",
   "metadata": {},
   "outputs": [],
   "source": [
    "# 은닉 1층\n",
    "model.add(Dense(10))\n",
    "model.add(Activation('sigmoid'))"
   ]
  },
  {
   "cell_type": "code",
   "execution_count": 13,
   "id": "supposed-assignment",
   "metadata": {},
   "outputs": [],
   "source": [
    "# 은닉 2층\n",
    "model.add(Dense(10))\n",
    "model.add(Activation('sigmoid'))"
   ]
  },
  {
   "cell_type": "code",
   "execution_count": 14,
   "id": "developing-isolation",
   "metadata": {},
   "outputs": [],
   "source": [
    "# 출력층\n",
    "model.add(Dense(1))"
   ]
  },
  {
   "cell_type": "markdown",
   "id": "integral-natural",
   "metadata": {},
   "source": [
    "### 결과는 위와 같도록 또 다른 방법으로 구현하기"
   ]
  },
  {
   "cell_type": "code",
   "execution_count": 19,
   "id": "brazilian-respondent",
   "metadata": {},
   "outputs": [],
   "source": [
    "model.add(Dense(10, input_shape=(13,), activation='sigmoid')) # 입력값 13개\n",
    "model.add(Dense(10, activation='sigmoid'))\n",
    "model.add(Dense(10, activation='sigmoid'))\n",
    "model.add(Dense(1))"
   ]
  },
  {
   "cell_type": "markdown",
   "id": "seven-adelaide",
   "metadata": {},
   "source": [
    "### 모델링"
   ]
  },
  {
   "cell_type": "code",
   "execution_count": 20,
   "id": "necessary-diameter",
   "metadata": {},
   "outputs": [],
   "source": [
    "from keras import optimizers\n",
    "\n",
    "sgd = optimizers.SGD(lr = 0.01)\n",
    "\n",
    "model.compile(optimizer=sgd,\n",
    "             loss='mean_squared_error',\n",
    "             metrics=['mse'])"
   ]
  },
  {
   "cell_type": "markdown",
   "id": "changing-symbol",
   "metadata": {},
   "source": [
    "### 모델 서머리 확인\n",
    "\n",
    "summary 함수를 이용하여 자신이 생성한 모델의 레이어, 출력모양, 수량 등을 체크한다."
   ]
  },
  {
   "cell_type": "code",
   "execution_count": 21,
   "id": "timely-lexington",
   "metadata": {},
   "outputs": [
    {
     "name": "stdout",
     "output_type": "stream",
     "text": [
      "Model: \"sequential\"\n",
      "_________________________________________________________________\n",
      "Layer (type)                 Output Shape              Param #   \n",
      "=================================================================\n",
      "dense (Dense)                (None, 10)                140       \n",
      "_________________________________________________________________\n",
      "dense_1 (Dense)              (None, 10)                110       \n",
      "_________________________________________________________________\n",
      "activation (Activation)      (None, 10)                0         \n",
      "_________________________________________________________________\n",
      "dense_2 (Dense)              (None, 10)                110       \n",
      "_________________________________________________________________\n",
      "activation_1 (Activation)    (None, 10)                0         \n",
      "_________________________________________________________________\n",
      "dense_3 (Dense)              (None, 10)                110       \n",
      "_________________________________________________________________\n",
      "activation_2 (Activation)    (None, 10)                0         \n",
      "_________________________________________________________________\n",
      "dense_4 (Dense)              (None, 10)                110       \n",
      "_________________________________________________________________\n",
      "activation_3 (Activation)    (None, 10)                0         \n",
      "_________________________________________________________________\n",
      "dense_5 (Dense)              (None, 1)                 11        \n",
      "_________________________________________________________________\n",
      "dense_6 (Dense)              (None, 10)                20        \n",
      "_________________________________________________________________\n",
      "dense_7 (Dense)              (None, 10)                110       \n",
      "_________________________________________________________________\n",
      "dense_8 (Dense)              (None, 10)                110       \n",
      "_________________________________________________________________\n",
      "dense_9 (Dense)              (None, 10)                110       \n",
      "_________________________________________________________________\n",
      "dense_10 (Dense)             (None, 1)                 11        \n",
      "_________________________________________________________________\n",
      "dense_11 (Dense)             (None, 10)                20        \n",
      "_________________________________________________________________\n",
      "dense_12 (Dense)             (None, 10)                110       \n",
      "_________________________________________________________________\n",
      "dense_13 (Dense)             (None, 10)                110       \n",
      "_________________________________________________________________\n",
      "dense_14 (Dense)             (None, 1)                 11        \n",
      "=================================================================\n",
      "Total params: 1,203\n",
      "Trainable params: 1,203\n",
      "Non-trainable params: 0\n",
      "_________________________________________________________________\n"
     ]
    }
   ],
   "source": [
    "model.summary()"
   ]
  },
  {
   "cell_type": "markdown",
   "id": "hawaiian-appendix",
   "metadata": {},
   "source": [
    "### 모델학습\n",
    "- 1) batch_size : 한번에 몇개의 데이터를 학습할 수 있는가?\n",
    "- 2) epochs : 모델의 학습 횟수 지정\n",
    "- 3) verbose : 모델의 학습 과정을 표시(1) / 안함(0)"
   ]
  },
  {
   "cell_type": "code",
   "execution_count": 22,
   "id": "collected-calcium",
   "metadata": {},
   "outputs": [
    {
     "name": "stdout",
     "output_type": "stream",
     "text": [
      "Epoch 1/100\n",
      "9/9 [==============================] - 1s 1ms/step - loss: 410.0584 - mse: 410.0584\n",
      "Epoch 2/100\n",
      "9/9 [==============================] - 0s 1ms/step - loss: 107.7252 - mse: 107.7252\n",
      "Epoch 3/100\n",
      "9/9 [==============================] - 0s 1ms/step - loss: 86.0881 - mse: 86.0881\n",
      "Epoch 4/100\n",
      "9/9 [==============================] - 0s 1ms/step - loss: 73.3161 - mse: 73.3161\n",
      "Epoch 5/100\n",
      "9/9 [==============================] - 0s 1ms/step - loss: 86.5129 - mse: 86.5129\n",
      "Epoch 6/100\n",
      "9/9 [==============================] - 0s 1ms/step - loss: 85.6073 - mse: 85.6073\n",
      "Epoch 7/100\n",
      "9/9 [==============================] - 0s 1ms/step - loss: 82.4489 - mse: 82.4489\n",
      "Epoch 8/100\n",
      "9/9 [==============================] - 0s 1ms/step - loss: 84.5340 - mse: 84.5340\n",
      "Epoch 9/100\n",
      "9/9 [==============================] - 0s 1ms/step - loss: 93.4405 - mse: 93.4405\n",
      "Epoch 10/100\n",
      "9/9 [==============================] - 0s 997us/step - loss: 85.3481 - mse: 85.3481\n",
      "Epoch 11/100\n",
      "9/9 [==============================] - 0s 997us/step - loss: 82.7560 - mse: 82.7560\n",
      "Epoch 12/100\n",
      "9/9 [==============================] - 0s 1ms/step - loss: 96.0362 - mse: 96.0362\n",
      "Epoch 13/100\n",
      "9/9 [==============================] - 0s 997us/step - loss: 81.9973 - mse: 81.9973\n",
      "Epoch 14/100\n",
      "9/9 [==============================] - 0s 998us/step - loss: 92.9345 - mse: 92.9345\n",
      "Epoch 15/100\n",
      "9/9 [==============================] - 0s 1ms/step - loss: 80.6819 - mse: 80.6819\n",
      "Epoch 16/100\n",
      "9/9 [==============================] - 0s 997us/step - loss: 81.0482 - mse: 81.0482\n",
      "Epoch 17/100\n",
      "9/9 [==============================] - 0s 998us/step - loss: 82.8298 - mse: 82.8298\n",
      "Epoch 18/100\n",
      "9/9 [==============================] - 0s 1ms/step - loss: 91.1198 - mse: 91.1198\n",
      "Epoch 19/100\n",
      "9/9 [==============================] - 0s 997us/step - loss: 86.3436 - mse: 86.3436\n",
      "Epoch 20/100\n",
      "9/9 [==============================] - 0s 873us/step - loss: 80.9723 - mse: 80.9723\n",
      "Epoch 21/100\n",
      "9/9 [==============================] - 0s 1ms/step - loss: 83.2900 - mse: 83.2900\n",
      "Epoch 22/100\n",
      "9/9 [==============================] - 0s 1ms/step - loss: 90.2315 - mse: 90.2315\n",
      "Epoch 23/100\n",
      "9/9 [==============================] - 0s 1ms/step - loss: 81.3944 - mse: 81.3944\n",
      "Epoch 24/100\n",
      "9/9 [==============================] - 0s 873us/step - loss: 89.9010 - mse: 89.9010\n",
      "Epoch 25/100\n",
      "9/9 [==============================] - 0s 1ms/step - loss: 84.0911 - mse: 84.0911\n",
      "Epoch 26/100\n",
      "9/9 [==============================] - 0s 1ms/step - loss: 83.0114 - mse: 83.0114\n",
      "Epoch 27/100\n",
      "9/9 [==============================] - 0s 997us/step - loss: 82.3925 - mse: 82.3925\n",
      "Epoch 28/100\n",
      "9/9 [==============================] - 0s 997us/step - loss: 82.6488 - mse: 82.6488\n",
      "Epoch 29/100\n",
      "9/9 [==============================] - 0s 1ms/step - loss: 87.8869 - mse: 87.8869\n",
      "Epoch 30/100\n",
      "9/9 [==============================] - 0s 1ms/step - loss: 80.0379 - mse: 80.0379\n",
      "Epoch 31/100\n",
      "9/9 [==============================] - 0s 997us/step - loss: 86.7793 - mse: 86.7793\n",
      "Epoch 32/100\n",
      "9/9 [==============================] - 0s 997us/step - loss: 83.9171 - mse: 83.9171\n",
      "Epoch 33/100\n",
      "9/9 [==============================] - 0s 1ms/step - loss: 95.3490 - mse: 95.3490\n",
      "Epoch 34/100\n",
      "9/9 [==============================] - 0s 997us/step - loss: 81.4164 - mse: 81.4164\n",
      "Epoch 35/100\n",
      "9/9 [==============================] - 0s 997us/step - loss: 86.5803 - mse: 86.5803\n",
      "Epoch 36/100\n",
      "9/9 [==============================] - 0s 1ms/step - loss: 96.3057 - mse: 96.3057\n",
      "Epoch 37/100\n",
      "9/9 [==============================] - 0s 1ms/step - loss: 73.2130 - mse: 73.2130\n",
      "Epoch 38/100\n",
      "9/9 [==============================] - 0s 997us/step - loss: 88.2885 - mse: 88.2885\n",
      "Epoch 39/100\n",
      "9/9 [==============================] - 0s 997us/step - loss: 89.3122 - mse: 89.3122\n",
      "Epoch 40/100\n",
      "9/9 [==============================] - 0s 997us/step - loss: 88.3314 - mse: 88.3314\n",
      "Epoch 41/100\n",
      "9/9 [==============================] - 0s 1ms/step - loss: 80.4181 - mse: 80.4181\n",
      "Epoch 42/100\n",
      "9/9 [==============================] - 0s 997us/step - loss: 86.9289 - mse: 86.9289\n",
      "Epoch 43/100\n",
      "9/9 [==============================] - 0s 873us/step - loss: 83.9075 - mse: 83.9075\n",
      "Epoch 44/100\n",
      "9/9 [==============================] - 0s 1ms/step - loss: 79.6466 - mse: 79.6466\n",
      "Epoch 45/100\n",
      "9/9 [==============================] - 0s 997us/step - loss: 85.3854 - mse: 85.3854\n",
      "Epoch 46/100\n",
      "9/9 [==============================] - 0s 997us/step - loss: 70.5431 - mse: 70.5431\n",
      "Epoch 47/100\n",
      "9/9 [==============================] - 0s 1ms/step - loss: 83.1018 - mse: 83.1018\n",
      "Epoch 48/100\n",
      "9/9 [==============================] - 0s 873us/step - loss: 98.6204 - mse: 98.6204\n",
      "Epoch 49/100\n",
      "9/9 [==============================] - 0s 997us/step - loss: 95.1245 - mse: 95.1245\n",
      "Epoch 50/100\n",
      "9/9 [==============================] - 0s 1ms/step - loss: 82.0241 - mse: 82.0241\n",
      "Epoch 51/100\n",
      "9/9 [==============================] - 0s 1ms/step - loss: 83.8478 - mse: 83.8478\n",
      "Epoch 52/100\n",
      "9/9 [==============================] - 0s 997us/step - loss: 83.9530 - mse: 83.9530\n",
      "Epoch 53/100\n",
      "9/9 [==============================] - 0s 1ms/step - loss: 90.2909 - mse: 90.2909\n",
      "Epoch 54/100\n",
      "9/9 [==============================] - 0s 1ms/step - loss: 84.0759 - mse: 84.0759\n",
      "Epoch 55/100\n",
      "9/9 [==============================] - 0s 1ms/step - loss: 86.3308 - mse: 86.3308\n",
      "Epoch 56/100\n",
      "9/9 [==============================] - 0s 997us/step - loss: 83.1047 - mse: 83.1047\n",
      "Epoch 57/100\n",
      "9/9 [==============================] - 0s 872us/step - loss: 89.6454 - mse: 89.6454\n",
      "Epoch 58/100\n",
      "9/9 [==============================] - 0s 997us/step - loss: 81.4577 - mse: 81.4577\n",
      "Epoch 59/100\n",
      "9/9 [==============================] - 0s 873us/step - loss: 96.2853 - mse: 96.2853\n",
      "Epoch 60/100\n",
      "9/9 [==============================] - 0s 1ms/step - loss: 89.2836 - mse: 89.2836\n",
      "Epoch 61/100\n",
      "9/9 [==============================] - 0s 1ms/step - loss: 84.2768 - mse: 84.2768\n",
      "Epoch 62/100\n",
      "9/9 [==============================] - 0s 1ms/step - loss: 81.5829 - mse: 81.5829\n",
      "Epoch 63/100\n",
      "9/9 [==============================] - 0s 997us/step - loss: 90.4550 - mse: 90.4550\n",
      "Epoch 64/100\n",
      "9/9 [==============================] - 0s 997us/step - loss: 86.3777 - mse: 86.3777\n",
      "Epoch 65/100\n",
      "9/9 [==============================] - 0s 1ms/step - loss: 80.3438 - mse: 80.3438\n",
      "Epoch 66/100\n",
      "9/9 [==============================] - 0s 1ms/step - loss: 76.2160 - mse: 76.2160\n",
      "Epoch 67/100\n",
      "9/9 [==============================] - 0s 873us/step - loss: 84.6454 - mse: 84.6454\n",
      "Epoch 68/100\n",
      "9/9 [==============================] - 0s 873us/step - loss: 89.6476 - mse: 89.6476\n",
      "Epoch 69/100\n",
      "9/9 [==============================] - 0s 997us/step - loss: 86.1458 - mse: 86.1458\n",
      "Epoch 70/100\n",
      "9/9 [==============================] - 0s 873us/step - loss: 102.2759 - mse: 102.2760\n",
      "Epoch 71/100\n",
      "9/9 [==============================] - 0s 997us/step - loss: 82.8377 - mse: 82.8377\n",
      "Epoch 72/100\n",
      "9/9 [==============================] - 0s 1ms/step - loss: 82.2191 - mse: 82.2191\n",
      "Epoch 73/100\n",
      "9/9 [==============================] - 0s 748us/step - loss: 78.8732 - mse: 78.8732\n",
      "Epoch 74/100\n",
      "9/9 [==============================] - 0s 997us/step - loss: 92.3650 - mse: 92.3650\n",
      "Epoch 75/100\n",
      "9/9 [==============================] - 0s 873us/step - loss: 83.2505 - mse: 83.2505\n",
      "Epoch 76/100\n",
      "9/9 [==============================] - 0s 748us/step - loss: 80.4808 - mse: 80.4808\n",
      "Epoch 77/100\n",
      "9/9 [==============================] - 0s 1ms/step - loss: 96.0704 - mse: 96.0704\n",
      "Epoch 78/100\n",
      "9/9 [==============================] - 0s 997us/step - loss: 87.1594 - mse: 87.1594\n",
      "Epoch 79/100\n",
      "9/9 [==============================] - 0s 873us/step - loss: 84.0853 - mse: 84.0853\n",
      "Epoch 80/100\n",
      "9/9 [==============================] - 0s 997us/step - loss: 91.4201 - mse: 91.4201\n",
      "Epoch 81/100\n",
      "9/9 [==============================] - 0s 873us/step - loss: 88.1242 - mse: 88.1242\n",
      "Epoch 82/100\n",
      "9/9 [==============================] - 0s 997us/step - loss: 79.7696 - mse: 79.7696\n",
      "Epoch 83/100\n",
      "9/9 [==============================] - 0s 997us/step - loss: 84.2198 - mse: 84.2198\n",
      "Epoch 84/100\n",
      "9/9 [==============================] - 0s 873us/step - loss: 92.9363 - mse: 92.9363\n",
      "Epoch 85/100\n",
      "9/9 [==============================] - 0s 997us/step - loss: 85.9305 - mse: 85.9305\n",
      "Epoch 86/100\n"
     ]
    },
    {
     "name": "stdout",
     "output_type": "stream",
     "text": [
      "9/9 [==============================] - 0s 1ms/step - loss: 84.2245 - mse: 84.2245\n",
      "Epoch 87/100\n",
      "9/9 [==============================] - 0s 873us/step - loss: 85.6027 - mse: 85.6027\n",
      "Epoch 88/100\n",
      "9/9 [==============================] - 0s 748us/step - loss: 85.7808 - mse: 85.7808\n",
      "Epoch 89/100\n",
      "9/9 [==============================] - 0s 873us/step - loss: 83.0018 - mse: 83.0018\n",
      "Epoch 90/100\n",
      "9/9 [==============================] - 0s 873us/step - loss: 97.5421 - mse: 97.5421\n",
      "Epoch 91/100\n",
      "9/9 [==============================] - 0s 748us/step - loss: 89.7749 - mse: 89.7749\n",
      "Epoch 92/100\n",
      "9/9 [==============================] - 0s 997us/step - loss: 86.2016 - mse: 86.2016\n",
      "Epoch 93/100\n",
      "9/9 [==============================] - 0s 873us/step - loss: 80.7873 - mse: 80.7873\n",
      "Epoch 94/100\n",
      "9/9 [==============================] - 0s 748us/step - loss: 83.6601 - mse: 83.6601\n",
      "Epoch 95/100\n",
      "9/9 [==============================] - 0s 997us/step - loss: 77.7376 - mse: 77.7376\n",
      "Epoch 96/100\n",
      "9/9 [==============================] - 0s 748us/step - loss: 87.0829 - mse: 87.0829\n",
      "Epoch 97/100\n",
      "9/9 [==============================] - 0s 997us/step - loss: 92.3046 - mse: 92.3046\n",
      "Epoch 98/100\n",
      "9/9 [==============================] - 0s 997us/step - loss: 80.5079 - mse: 80.5079\n",
      "Epoch 99/100\n",
      "9/9 [==============================] - 0s 748us/step - loss: 82.9448 - mse: 82.9448\n",
      "Epoch 100/100\n",
      "9/9 [==============================] - 0s 997us/step - loss: 98.5577 - mse: 98.5577\n"
     ]
    },
    {
     "data": {
      "text/plain": [
       "<tensorflow.python.keras.callbacks.History at 0x2a3bf914c40>"
      ]
     },
     "execution_count": 22,
     "metadata": {},
     "output_type": "execute_result"
    }
   ],
   "source": [
    "model.fit(X_train, y_train, batch_size=50, epochs=100, verbose=1)"
   ]
  },
  {
   "cell_type": "markdown",
   "id": "respected-immune",
   "metadata": {},
   "source": [
    "### 모델평가"
   ]
  },
  {
   "cell_type": "code",
   "execution_count": 23,
   "id": "expired-slope",
   "metadata": {},
   "outputs": [
    {
     "name": "stdout",
     "output_type": "stream",
     "text": [
      "4/4 [==============================] - 0s 0s/step - loss: 85.1187 - mse: 85.1187\n"
     ]
    }
   ],
   "source": [
    "results = model.evaluate(X_test, y_test)"
   ]
  },
  {
   "cell_type": "code",
   "execution_count": 24,
   "id": "ecological-roller",
   "metadata": {},
   "outputs": [
    {
     "name": "stdout",
     "output_type": "stream",
     "text": [
      "['loss', 'mse']\n",
      "\n",
      "[85.11873626708984, 85.11873626708984]\n",
      "\n",
      "loss :  85.11873626708984\n",
      "\n",
      "mse :  85.11873626708984\n"
     ]
    }
   ],
   "source": [
    "print(model.metrics_names)\n",
    "print()\n",
    "print(results)\n",
    "print()\n",
    "print('loss : ', results[0])\n",
    "print()\n",
    "print('mse : ', results[1])"
   ]
  },
  {
   "cell_type": "markdown",
   "id": "infinite-adventure",
   "metadata": {},
   "source": [
    "# --------------------------------------------------------------------"
   ]
  },
  {
   "cell_type": "markdown",
   "id": "brown-paradise",
   "metadata": {},
   "source": [
    "# 손글씨 데이터 분류"
   ]
  },
  {
   "cell_type": "code",
   "execution_count": 25,
   "id": "hundred-template",
   "metadata": {},
   "outputs": [],
   "source": [
    "import tensorflow as tf\n",
    "import matplotlib.pyplot as plt\n",
    "\n",
    "from tensorflow.keras.models import Sequential\n",
    "from tensorflow.keras.layers import Flatten\n",
    "from tensorflow.keras.layers import Dense\n",
    "from tensorflow.keras.layers import Dropout\n",
    "from tensorflow.keras.layers import Activation\n",
    "from tensorflow.keras.callbacks import EarlyStopping, ModelCheckpoint\n",
    "from IPython.display import Image"
   ]
  },
  {
   "cell_type": "markdown",
   "id": "consecutive-immunology",
   "metadata": {},
   "source": [
    "### 데이터 호출 : 6만개 학습용, 1만개 테스트용으로 구성"
   ]
  },
  {
   "cell_type": "code",
   "execution_count": 27,
   "id": "worldwide-earth",
   "metadata": {},
   "outputs": [],
   "source": [
    "(X_train, y_train), (X_test, y_test) = tf.keras.datasets.mnist.load_data()"
   ]
  },
  {
   "cell_type": "code",
   "execution_count": 28,
   "id": "creative-picture",
   "metadata": {},
   "outputs": [
    {
     "data": {
      "text/plain": [
       "(60000, 28, 28)"
      ]
     },
     "execution_count": 28,
     "metadata": {},
     "output_type": "execute_result"
    }
   ],
   "source": [
    "X_train.shape"
   ]
  },
  {
   "cell_type": "code",
   "execution_count": 29,
   "id": "published-reproduction",
   "metadata": {},
   "outputs": [
    {
     "data": {
      "text/plain": [
       "(10000, 28, 28)"
      ]
     },
     "execution_count": 29,
     "metadata": {},
     "output_type": "execute_result"
    }
   ],
   "source": [
    "X_test.shape"
   ]
  },
  {
   "cell_type": "code",
   "execution_count": 35,
   "id": "dramatic-shower",
   "metadata": {},
   "outputs": [
    {
     "name": "stdout",
     "output_type": "stream",
     "text": [
      "(28, 28)\n"
     ]
    },
    {
     "data": {
      "image/png": "[encoded data removed]",
      "text/plain": [
       "<Figure size 432x288 with 1 Axes>"
      ]
     },
     "metadata": {
      "needs_background": "light"
     },
     "output_type": "display_data"
    }
   ],
   "source": [
    "# 이미지를 시각화로 보기\n",
    "\n",
    "image = X_train[0]\n",
    "print(image.shape)\n",
    "\n",
    "plt.imshow(image, 'gray')\n",
    "plt.show()"
   ]
  },
  {
   "cell_type": "code",
   "execution_count": 36,
   "id": "geographic-louisiana",
   "metadata": {},
   "outputs": [
    {
     "data": {
      "text/plain": [
       "array([[  0,   0,   0,   0,   0,   0,   0,   0,   0,   0,   0,   0,   0,\n",
       "          0,   0,   0,   0,   0,   0,   0,   0,   0,   0,   0,   0,   0,\n",
       "          0,   0],\n",
       "       [  0,   0,   0,   0,   0,   0,   0,   0,   0,   0,   0,   0,   0,\n",
       "          0,   0,   0,   0,   0,   0,   0,   0,   0,   0,   0,   0,   0,\n",
       "          0,   0],\n",
       "       [  0,   0,   0,   0,   0,   0,   0,   0,   0,   0,   0,   0,   0,\n",
       "          0,   0,   0,   0,   0,   0,   0,   0,   0,   0,   0,   0,   0,\n",
       "          0,   0],\n",
       "       [  0,   0,   0,   0,   0,   0,   0,   0,   0,   0,   0,   0,   0,\n",
       "          0,   0,   0,   0,   0,   0,   0,   0,   0,   0,   0,   0,   0,\n",
       "          0,   0],\n",
       "       [  0,   0,   0,   0,   0,   0,   0,   0,   0,   0,   0,   0,   0,\n",
       "          0,   0,   0,   0,   0,   0,   0,   0,   0,   0,   0,   0,   0,\n",
       "          0,   0],\n",
       "       [  0,   0,   0,   0,   0,   0,   0,   0,   0,   0,   0,   0,   3,\n",
       "         18,  18,  18, 126, 136, 175,  26, 166, 255, 247, 127,   0,   0,\n",
       "          0,   0],\n",
       "       [  0,   0,   0,   0,   0,   0,   0,   0,  30,  36,  94, 154, 170,\n",
       "        253, 253, 253, 253, 253, 225, 172, 253, 242, 195,  64,   0,   0,\n",
       "          0,   0],\n",
       "       [  0,   0,   0,   0,   0,   0,   0,  49, 238, 253, 253, 253, 253,\n",
       "        253, 253, 253, 253, 251,  93,  82,  82,  56,  39,   0,   0,   0,\n",
       "          0,   0],\n",
       "       [  0,   0,   0,   0,   0,   0,   0,  18, 219, 253, 253, 253, 253,\n",
       "        253, 198, 182, 247, 241,   0,   0,   0,   0,   0,   0,   0,   0,\n",
       "          0,   0],\n",
       "       [  0,   0,   0,   0,   0,   0,   0,   0,  80, 156, 107, 253, 253,\n",
       "        205,  11,   0,  43, 154,   0,   0,   0,   0,   0,   0,   0,   0,\n",
       "          0,   0],\n",
       "       [  0,   0,   0,   0,   0,   0,   0,   0,   0,  14,   1, 154, 253,\n",
       "         90,   0,   0,   0,   0,   0,   0,   0,   0,   0,   0,   0,   0,\n",
       "          0,   0],\n",
       "       [  0,   0,   0,   0,   0,   0,   0,   0,   0,   0,   0, 139, 253,\n",
       "        190,   2,   0,   0,   0,   0,   0,   0,   0,   0,   0,   0,   0,\n",
       "          0,   0],\n",
       "       [  0,   0,   0,   0,   0,   0,   0,   0,   0,   0,   0,  11, 190,\n",
       "        253,  70,   0,   0,   0,   0,   0,   0,   0,   0,   0,   0,   0,\n",
       "          0,   0],\n",
       "       [  0,   0,   0,   0,   0,   0,   0,   0,   0,   0,   0,   0,  35,\n",
       "        241, 225, 160, 108,   1,   0,   0,   0,   0,   0,   0,   0,   0,\n",
       "          0,   0],\n",
       "       [  0,   0,   0,   0,   0,   0,   0,   0,   0,   0,   0,   0,   0,\n",
       "         81, 240, 253, 253, 119,  25,   0,   0,   0,   0,   0,   0,   0,\n",
       "          0,   0],\n",
       "       [  0,   0,   0,   0,   0,   0,   0,   0,   0,   0,   0,   0,   0,\n",
       "          0,  45, 186, 253, 253, 150,  27,   0,   0,   0,   0,   0,   0,\n",
       "          0,   0],\n",
       "       [  0,   0,   0,   0,   0,   0,   0,   0,   0,   0,   0,   0,   0,\n",
       "          0,   0,  16,  93, 252, 253, 187,   0,   0,   0,   0,   0,   0,\n",
       "          0,   0],\n",
       "       [  0,   0,   0,   0,   0,   0,   0,   0,   0,   0,   0,   0,   0,\n",
       "          0,   0,   0,   0, 249, 253, 249,  64,   0,   0,   0,   0,   0,\n",
       "          0,   0],\n",
       "       [  0,   0,   0,   0,   0,   0,   0,   0,   0,   0,   0,   0,   0,\n",
       "          0,  46, 130, 183, 253, 253, 207,   2,   0,   0,   0,   0,   0,\n",
       "          0,   0],\n",
       "       [  0,   0,   0,   0,   0,   0,   0,   0,   0,   0,   0,   0,  39,\n",
       "        148, 229, 253, 253, 253, 250, 182,   0,   0,   0,   0,   0,   0,\n",
       "          0,   0],\n",
       "       [  0,   0,   0,   0,   0,   0,   0,   0,   0,   0,  24, 114, 221,\n",
       "        253, 253, 253, 253, 201,  78,   0,   0,   0,   0,   0,   0,   0,\n",
       "          0,   0],\n",
       "       [  0,   0,   0,   0,   0,   0,   0,   0,  23,  66, 213, 253, 253,\n",
       "        253, 253, 198,  81,   2,   0,   0,   0,   0,   0,   0,   0,   0,\n",
       "          0,   0],\n",
       "       [  0,   0,   0,   0,   0,   0,  18, 171, 219, 253, 253, 253, 253,\n",
       "        195,  80,   9,   0,   0,   0,   0,   0,   0,   0,   0,   0,   0,\n",
       "          0,   0],\n",
       "       [  0,   0,   0,   0,  55, 172, 226, 253, 253, 253, 253, 244, 133,\n",
       "         11,   0,   0,   0,   0,   0,   0,   0,   0,   0,   0,   0,   0,\n",
       "          0,   0],\n",
       "       [  0,   0,   0,   0, 136, 253, 253, 253, 212, 135, 132,  16,   0,\n",
       "          0,   0,   0,   0,   0,   0,   0,   0,   0,   0,   0,   0,   0,\n",
       "          0,   0],\n",
       "       [  0,   0,   0,   0,   0,   0,   0,   0,   0,   0,   0,   0,   0,\n",
       "          0,   0,   0,   0,   0,   0,   0,   0,   0,   0,   0,   0,   0,\n",
       "          0,   0],\n",
       "       [  0,   0,   0,   0,   0,   0,   0,   0,   0,   0,   0,   0,   0,\n",
       "          0,   0,   0,   0,   0,   0,   0,   0,   0,   0,   0,   0,   0,\n",
       "          0,   0],\n",
       "       [  0,   0,   0,   0,   0,   0,   0,   0,   0,   0,   0,   0,   0,\n",
       "          0,   0,   0,   0,   0,   0,   0,   0,   0,   0,   0,   0,   0,\n",
       "          0,   0]], dtype=uint8)"
      ]
     },
     "execution_count": 36,
     "metadata": {},
     "output_type": "execute_result"
    }
   ],
   "source": [
    "X_train[0] # 흰색이 0, 검정이 255 ---> 숫자 5"
   ]
  },
  {
   "cell_type": "code",
   "execution_count": 43,
   "id": "attached-filter",
   "metadata": {},
   "outputs": [
    {
     "data": {
      "text/plain": [
       "array([5, 0, 4, 1, 9, 2, 1, 3, 1, 4], dtype=uint8)"
      ]
     },
     "execution_count": 43,
     "metadata": {},
     "output_type": "execute_result"
    }
   ],
   "source": [
    "y_train[0:10]"
   ]
  },
  {
   "cell_type": "code",
   "execution_count": 41,
   "id": "defined-forestry",
   "metadata": {},
   "outputs": [
    {
     "data": {
      "text/plain": [
       "array([  0,   0,   0,   0,   0,   0,   0,  18, 219, 253, 253, 253, 253,\n",
       "       253, 198, 182, 247, 241,   0,   0,   0,   0,   0,   0,   0,   0,\n",
       "         0,   0], dtype=uint8)"
      ]
     },
     "execution_count": 41,
     "metadata": {},
     "output_type": "execute_result"
    }
   ],
   "source": [
    "# 첫번째 이미지에서 9번째 행값을 출력한다.\n",
    "X_train[0][8]"
   ]
  },
  {
   "cell_type": "markdown",
   "id": "outdoor-tissue",
   "metadata": {},
   "source": [
    "### 정규화 : 분서하기 위해 모든 값을 0~1 사이의 숫자로 변환"
   ]
  },
  {
   "cell_type": "markdown",
   "id": "dried-advantage",
   "metadata": {},
   "source": [
    "데이터 타입을 실수형(float)으로 바꿔서 값의 범위를 0 ~ 1 사이의 실수로 변경해준다."
   ]
  },
  {
   "cell_type": "markdown",
   "id": "proof-austin",
   "metadata": {},
   "source": [
    "참고 : \n",
    "MNIST 데이터의 모든 값은 0 ~ 255 사이의 범위안에 있으므로 해당 값을 최대값인 255로 나누면 정규화가 된다."
   ]
  },
  {
   "cell_type": "code",
   "execution_count": 44,
   "id": "beautiful-criminal",
   "metadata": {},
   "outputs": [],
   "source": [
    "X_train = X_train.astype('float32')\n",
    "X_test = X_test.astype('float32')"
   ]
  },
  {
   "cell_type": "code",
   "execution_count": 45,
   "id": "rental-profit",
   "metadata": {},
   "outputs": [],
   "source": [
    "gray_scale = 255\n",
    "\n",
    "X_train /= gray_scale\n",
    "X_test /= gray_scale"
   ]
  },
  {
   "cell_type": "code",
   "execution_count": 46,
   "id": "synthetic-martin",
   "metadata": {},
   "outputs": [
    {
     "data": {
      "text/plain": [
       "array([[0.        , 0.        , 0.        , 0.        , 0.        ,\n",
       "        0.        , 0.        , 0.        , 0.        , 0.        ,\n",
       "        0.        , 0.        , 0.        , 0.        , 0.        ,\n",
       "        0.        , 0.        , 0.        , 0.        , 0.        ,\n",
       "        0.        , 0.        , 0.        , 0.        , 0.        ,\n",
       "        0.        , 0.        , 0.        ],\n",
       "       [0.        , 0.        , 0.        , 0.        , 0.        ,\n",
       "        0.        , 0.        , 0.        , 0.        , 0.        ,\n",
       "        0.        , 0.        , 0.        , 0.        , 0.        ,\n",
       "        0.        , 0.        , 0.        , 0.        , 0.        ,\n",
       "        0.        , 0.        , 0.        , 0.        , 0.        ,\n",
       "        0.        , 0.        , 0.        ],\n",
       "       [0.        , 0.        , 0.        , 0.        , 0.        ,\n",
       "        0.        , 0.        , 0.        , 0.        , 0.        ,\n",
       "        0.        , 0.        , 0.        , 0.        , 0.        ,\n",
       "        0.        , 0.        , 0.        , 0.        , 0.        ,\n",
       "        0.        , 0.        , 0.        , 0.        , 0.        ,\n",
       "        0.        , 0.        , 0.        ],\n",
       "       [0.        , 0.        , 0.        , 0.        , 0.        ,\n",
       "        0.        , 0.        , 0.        , 0.        , 0.        ,\n",
       "        0.        , 0.        , 0.        , 0.        , 0.        ,\n",
       "        0.        , 0.        , 0.        , 0.        , 0.        ,\n",
       "        0.        , 0.        , 0.        , 0.        , 0.        ,\n",
       "        0.        , 0.        , 0.        ],\n",
       "       [0.        , 0.        , 0.        , 0.        , 0.        ,\n",
       "        0.        , 0.        , 0.        , 0.        , 0.        ,\n",
       "        0.        , 0.        , 0.        , 0.        , 0.        ,\n",
       "        0.        , 0.        , 0.        , 0.        , 0.        ,\n",
       "        0.        , 0.        , 0.        , 0.        , 0.        ,\n",
       "        0.        , 0.        , 0.        ],\n",
       "       [0.        , 0.        , 0.        , 0.        , 0.        ,\n",
       "        0.        , 0.        , 0.        , 0.        , 0.        ,\n",
       "        0.        , 0.        , 0.01176471, 0.07058824, 0.07058824,\n",
       "        0.07058824, 0.49411765, 0.53333336, 0.6862745 , 0.10196079,\n",
       "        0.6509804 , 1.        , 0.96862745, 0.49803922, 0.        ,\n",
       "        0.        , 0.        , 0.        ],\n",
       "       [0.        , 0.        , 0.        , 0.        , 0.        ,\n",
       "        0.        , 0.        , 0.        , 0.11764706, 0.14117648,\n",
       "        0.36862746, 0.6039216 , 0.6666667 , 0.99215686, 0.99215686,\n",
       "        0.99215686, 0.99215686, 0.99215686, 0.88235295, 0.6745098 ,\n",
       "        0.99215686, 0.9490196 , 0.7647059 , 0.2509804 , 0.        ,\n",
       "        0.        , 0.        , 0.        ],\n",
       "       [0.        , 0.        , 0.        , 0.        , 0.        ,\n",
       "        0.        , 0.        , 0.19215687, 0.93333334, 0.99215686,\n",
       "        0.99215686, 0.99215686, 0.99215686, 0.99215686, 0.99215686,\n",
       "        0.99215686, 0.99215686, 0.9843137 , 0.3647059 , 0.32156864,\n",
       "        0.32156864, 0.21960784, 0.15294118, 0.        , 0.        ,\n",
       "        0.        , 0.        , 0.        ],\n",
       "       [0.        , 0.        , 0.        , 0.        , 0.        ,\n",
       "        0.        , 0.        , 0.07058824, 0.85882354, 0.99215686,\n",
       "        0.99215686, 0.99215686, 0.99215686, 0.99215686, 0.7764706 ,\n",
       "        0.7137255 , 0.96862745, 0.94509804, 0.        , 0.        ,\n",
       "        0.        , 0.        , 0.        , 0.        , 0.        ,\n",
       "        0.        , 0.        , 0.        ],\n",
       "       [0.        , 0.        , 0.        , 0.        , 0.        ,\n",
       "        0.        , 0.        , 0.        , 0.3137255 , 0.6117647 ,\n",
       "        0.41960785, 0.99215686, 0.99215686, 0.8039216 , 0.04313726,\n",
       "        0.        , 0.16862746, 0.6039216 , 0.        , 0.        ,\n",
       "        0.        , 0.        , 0.        , 0.        , 0.        ,\n",
       "        0.        , 0.        , 0.        ],\n",
       "       [0.        , 0.        , 0.        , 0.        , 0.        ,\n",
       "        0.        , 0.        , 0.        , 0.        , 0.05490196,\n",
       "        0.00392157, 0.6039216 , 0.99215686, 0.3529412 , 0.        ,\n",
       "        0.        , 0.        , 0.        , 0.        , 0.        ,\n",
       "        0.        , 0.        , 0.        , 0.        , 0.        ,\n",
       "        0.        , 0.        , 0.        ],\n",
       "       [0.        , 0.        , 0.        , 0.        , 0.        ,\n",
       "        0.        , 0.        , 0.        , 0.        , 0.        ,\n",
       "        0.        , 0.54509807, 0.99215686, 0.74509805, 0.00784314,\n",
       "        0.        , 0.        , 0.        , 0.        , 0.        ,\n",
       "        0.        , 0.        , 0.        , 0.        , 0.        ,\n",
       "        0.        , 0.        , 0.        ],\n",
       "       [0.        , 0.        , 0.        , 0.        , 0.        ,\n",
       "        0.        , 0.        , 0.        , 0.        , 0.        ,\n",
       "        0.        , 0.04313726, 0.74509805, 0.99215686, 0.27450982,\n",
       "        0.        , 0.        , 0.        , 0.        , 0.        ,\n",
       "        0.        , 0.        , 0.        , 0.        , 0.        ,\n",
       "        0.        , 0.        , 0.        ],\n",
       "       [0.        , 0.        , 0.        , 0.        , 0.        ,\n",
       "        0.        , 0.        , 0.        , 0.        , 0.        ,\n",
       "        0.        , 0.        , 0.13725491, 0.94509804, 0.88235295,\n",
       "        0.627451  , 0.42352942, 0.00392157, 0.        , 0.        ,\n",
       "        0.        , 0.        , 0.        , 0.        , 0.        ,\n",
       "        0.        , 0.        , 0.        ],\n",
       "       [0.        , 0.        , 0.        , 0.        , 0.        ,\n",
       "        0.        , 0.        , 0.        , 0.        , 0.        ,\n",
       "        0.        , 0.        , 0.        , 0.31764707, 0.9411765 ,\n",
       "        0.99215686, 0.99215686, 0.46666667, 0.09803922, 0.        ,\n",
       "        0.        , 0.        , 0.        , 0.        , 0.        ,\n",
       "        0.        , 0.        , 0.        ],\n",
       "       [0.        , 0.        , 0.        , 0.        , 0.        ,\n",
       "        0.        , 0.        , 0.        , 0.        , 0.        ,\n",
       "        0.        , 0.        , 0.        , 0.        , 0.1764706 ,\n",
       "        0.7294118 , 0.99215686, 0.99215686, 0.5882353 , 0.10588235,\n",
       "        0.        , 0.        , 0.        , 0.        , 0.        ,\n",
       "        0.        , 0.        , 0.        ],\n",
       "       [0.        , 0.        , 0.        , 0.        , 0.        ,\n",
       "        0.        , 0.        , 0.        , 0.        , 0.        ,\n",
       "        0.        , 0.        , 0.        , 0.        , 0.        ,\n",
       "        0.0627451 , 0.3647059 , 0.9882353 , 0.99215686, 0.73333335,\n",
       "        0.        , 0.        , 0.        , 0.        , 0.        ,\n",
       "        0.        , 0.        , 0.        ],\n",
       "       [0.        , 0.        , 0.        , 0.        , 0.        ,\n",
       "        0.        , 0.        , 0.        , 0.        , 0.        ,\n",
       "        0.        , 0.        , 0.        , 0.        , 0.        ,\n",
       "        0.        , 0.        , 0.9764706 , 0.99215686, 0.9764706 ,\n",
       "        0.2509804 , 0.        , 0.        , 0.        , 0.        ,\n",
       "        0.        , 0.        , 0.        ],\n",
       "       [0.        , 0.        , 0.        , 0.        , 0.        ,\n",
       "        0.        , 0.        , 0.        , 0.        , 0.        ,\n",
       "        0.        , 0.        , 0.        , 0.        , 0.18039216,\n",
       "        0.50980395, 0.7176471 , 0.99215686, 0.99215686, 0.8117647 ,\n",
       "        0.00784314, 0.        , 0.        , 0.        , 0.        ,\n",
       "        0.        , 0.        , 0.        ],\n",
       "       [0.        , 0.        , 0.        , 0.        , 0.        ,\n",
       "        0.        , 0.        , 0.        , 0.        , 0.        ,\n",
       "        0.        , 0.        , 0.15294118, 0.5803922 , 0.8980392 ,\n",
       "        0.99215686, 0.99215686, 0.99215686, 0.98039216, 0.7137255 ,\n",
       "        0.        , 0.        , 0.        , 0.        , 0.        ,\n",
       "        0.        , 0.        , 0.        ],\n",
       "       [0.        , 0.        , 0.        , 0.        , 0.        ,\n",
       "        0.        , 0.        , 0.        , 0.        , 0.        ,\n",
       "        0.09411765, 0.44705883, 0.8666667 , 0.99215686, 0.99215686,\n",
       "        0.99215686, 0.99215686, 0.7882353 , 0.30588236, 0.        ,\n",
       "        0.        , 0.        , 0.        , 0.        , 0.        ,\n",
       "        0.        , 0.        , 0.        ],\n",
       "       [0.        , 0.        , 0.        , 0.        , 0.        ,\n",
       "        0.        , 0.        , 0.        , 0.09019608, 0.25882354,\n",
       "        0.8352941 , 0.99215686, 0.99215686, 0.99215686, 0.99215686,\n",
       "        0.7764706 , 0.31764707, 0.00784314, 0.        , 0.        ,\n",
       "        0.        , 0.        , 0.        , 0.        , 0.        ,\n",
       "        0.        , 0.        , 0.        ],\n",
       "       [0.        , 0.        , 0.        , 0.        , 0.        ,\n",
       "        0.        , 0.07058824, 0.67058825, 0.85882354, 0.99215686,\n",
       "        0.99215686, 0.99215686, 0.99215686, 0.7647059 , 0.3137255 ,\n",
       "        0.03529412, 0.        , 0.        , 0.        , 0.        ,\n",
       "        0.        , 0.        , 0.        , 0.        , 0.        ,\n",
       "        0.        , 0.        , 0.        ],\n",
       "       [0.        , 0.        , 0.        , 0.        , 0.21568628,\n",
       "        0.6745098 , 0.8862745 , 0.99215686, 0.99215686, 0.99215686,\n",
       "        0.99215686, 0.95686275, 0.52156866, 0.04313726, 0.        ,\n",
       "        0.        , 0.        , 0.        , 0.        , 0.        ,\n",
       "        0.        , 0.        , 0.        , 0.        , 0.        ,\n",
       "        0.        , 0.        , 0.        ],\n",
       "       [0.        , 0.        , 0.        , 0.        , 0.53333336,\n",
       "        0.99215686, 0.99215686, 0.99215686, 0.83137256, 0.5294118 ,\n",
       "        0.5176471 , 0.0627451 , 0.        , 0.        , 0.        ,\n",
       "        0.        , 0.        , 0.        , 0.        , 0.        ,\n",
       "        0.        , 0.        , 0.        , 0.        , 0.        ,\n",
       "        0.        , 0.        , 0.        ],\n",
       "       [0.        , 0.        , 0.        , 0.        , 0.        ,\n",
       "        0.        , 0.        , 0.        , 0.        , 0.        ,\n",
       "        0.        , 0.        , 0.        , 0.        , 0.        ,\n",
       "        0.        , 0.        , 0.        , 0.        , 0.        ,\n",
       "        0.        , 0.        , 0.        , 0.        , 0.        ,\n",
       "        0.        , 0.        , 0.        ],\n",
       "       [0.        , 0.        , 0.        , 0.        , 0.        ,\n",
       "        0.        , 0.        , 0.        , 0.        , 0.        ,\n",
       "        0.        , 0.        , 0.        , 0.        , 0.        ,\n",
       "        0.        , 0.        , 0.        , 0.        , 0.        ,\n",
       "        0.        , 0.        , 0.        , 0.        , 0.        ,\n",
       "        0.        , 0.        , 0.        ],\n",
       "       [0.        , 0.        , 0.        , 0.        , 0.        ,\n",
       "        0.        , 0.        , 0.        , 0.        , 0.        ,\n",
       "        0.        , 0.        , 0.        , 0.        , 0.        ,\n",
       "        0.        , 0.        , 0.        , 0.        , 0.        ,\n",
       "        0.        , 0.        , 0.        , 0.        , 0.        ,\n",
       "        0.        , 0.        , 0.        ]], dtype=float32)"
      ]
     },
     "execution_count": 46,
     "metadata": {},
     "output_type": "execute_result"
    }
   ],
   "source": [
    "X_train[0]"
   ]
  },
  {
   "cell_type": "markdown",
   "id": "dressed-frederick",
   "metadata": {},
   "source": [
    "### 다층퍼셉트론으로 모델링"
   ]
  },
  {
   "cell_type": "code",
   "execution_count": 49,
   "id": "fluid-symbol",
   "metadata": {},
   "outputs": [],
   "source": [
    "model = Sequential([\n",
    "    Flatten(input_shape=(28,28)), # 데이터차원변경\n",
    "    Dense(256, activation='relu'), # 첫번째 히든레이어\n",
    "    Dense(128, activation='relu'), # 두번째 히든레이어\n",
    "    Dropout(0.1), # 두번째에 드롭아웃 (10%) 적용\n",
    "    Dense(10), # 세번재 히든레이어\n",
    "    Activation('softmax') # 소프트맥스함수사용(다층이기때문에)\n",
    "])"
   ]
  },
  {
   "cell_type": "code",
   "execution_count": 50,
   "id": "strong-portland",
   "metadata": {},
   "outputs": [
    {
     "name": "stdout",
     "output_type": "stream",
     "text": [
      "Model: \"sequential_1\"\n",
      "_________________________________________________________________\n",
      "Layer (type)                 Output Shape              Param #   \n",
      "=================================================================\n",
      "flatten (Flatten)            (None, 784)               0         \n",
      "_________________________________________________________________\n",
      "dense_15 (Dense)             (None, 256)               200960    \n",
      "_________________________________________________________________\n",
      "dense_16 (Dense)             (None, 128)               32896     \n",
      "_________________________________________________________________\n",
      "dropout (Dropout)            (None, 128)               0         \n",
      "_________________________________________________________________\n",
      "dense_17 (Dense)             (None, 10)                1290      \n",
      "_________________________________________________________________\n",
      "activation_4 (Activation)    (None, 10)                0         \n",
      "=================================================================\n",
      "Total params: 235,146\n",
      "Trainable params: 235,146\n",
      "Non-trainable params: 0\n",
      "_________________________________________________________________\n"
     ]
    }
   ],
   "source": [
    "# 모델 서머리\n",
    "model.summary()"
   ]
  },
  {
   "cell_type": "markdown",
   "id": "entitled-manor",
   "metadata": {},
   "source": [
    "# One-hot encoding"
   ]
  },
  {
   "cell_type": "code",
   "execution_count": 59,
   "id": "institutional-insulation",
   "metadata": {},
   "outputs": [],
   "source": [
    "model.compile(optimizer='adam', loss='sparse_categorical_crossentropy',\n",
    "             metrics='accuracy')"
   ]
  },
  {
   "cell_type": "markdown",
   "id": "flying-glucose",
   "metadata": {},
   "source": [
    "## 조기종료\n",
    "- 매주기마다 검증데이터로 검증정확도를 측정하여 검증정확도가 5번 연속으로 개선이 되지 않을 경우 더이상 검증에 의미가 없다고 판단하여 조기종료한다."
   ]
  },
  {
   "cell_type": "code",
   "execution_count": 60,
   "id": "temporal-jason",
   "metadata": {},
   "outputs": [],
   "source": [
    "callbacks = [EarlyStopping(monitor='val_accuracy',\n",
    "                         patience=5,\n",
    "                          restore_best_weights=False),\n",
    "            ModelCheckpoint(filepath='best_model.h5',\n",
    "                           monitor='val_accuracy',\n",
    "                           save_best_only=True)]"
   ]
  },
  {
   "cell_type": "markdown",
   "id": "dramatic-retro",
   "metadata": {},
   "source": [
    "## 모델학습"
   ]
  },
  {
   "cell_type": "code",
   "execution_count": 61,
   "id": "dedicated-jones",
   "metadata": {},
   "outputs": [
    {
     "name": "stdout",
     "output_type": "stream",
     "text": [
      "Epoch 1/300\n",
      "54/54 [==============================] - 2s 20ms/step - loss: 1.1647 - accuracy: 0.6588 - val_loss: 0.2124 - val_accuracy: 0.9403\n",
      "Epoch 2/300\n",
      "54/54 [==============================] - 1s 11ms/step - loss: 0.2579 - accuracy: 0.9242 - val_loss: 0.1506 - val_accuracy: 0.9590\n",
      "Epoch 3/300\n",
      "54/54 [==============================] - 1s 12ms/step - loss: 0.1808 - accuracy: 0.9466 - val_loss: 0.1229 - val_accuracy: 0.9648\n",
      "Epoch 4/300\n",
      "54/54 [==============================] - 1s 12ms/step - loss: 0.1422 - accuracy: 0.9587 - val_loss: 0.1012 - val_accuracy: 0.9713\n",
      "Epoch 5/300\n",
      "54/54 [==============================] - 1s 12ms/step - loss: 0.1122 - accuracy: 0.9674 - val_loss: 0.0944 - val_accuracy: 0.9742\n",
      "Epoch 6/300\n",
      "54/54 [==============================] - 1s 13ms/step - loss: 0.0942 - accuracy: 0.9719 - val_loss: 0.0836 - val_accuracy: 0.9735\n",
      "Epoch 7/300\n",
      "54/54 [==============================] - 1s 12ms/step - loss: 0.0751 - accuracy: 0.9786 - val_loss: 0.0796 - val_accuracy: 0.9760\n",
      "Epoch 8/300\n",
      "54/54 [==============================] - 1s 13ms/step - loss: 0.0668 - accuracy: 0.9811 - val_loss: 0.0745 - val_accuracy: 0.9788\n",
      "Epoch 9/300\n",
      "54/54 [==============================] - 1s 13ms/step - loss: 0.0575 - accuracy: 0.9836 - val_loss: 0.0728 - val_accuracy: 0.9782\n",
      "Epoch 10/300\n",
      "54/54 [==============================] - 1s 12ms/step - loss: 0.0476 - accuracy: 0.9870 - val_loss: 0.0715 - val_accuracy: 0.9782\n",
      "Epoch 11/300\n",
      "54/54 [==============================] - 1s 11ms/step - loss: 0.0413 - accuracy: 0.9887 - val_loss: 0.0691 - val_accuracy: 0.9793\n",
      "Epoch 12/300\n",
      "54/54 [==============================] - 1s 12ms/step - loss: 0.0375 - accuracy: 0.9891 - val_loss: 0.0696 - val_accuracy: 0.9802\n",
      "Epoch 13/300\n",
      "54/54 [==============================] - 1s 12ms/step - loss: 0.0315 - accuracy: 0.9916 - val_loss: 0.0698 - val_accuracy: 0.9787\n",
      "Epoch 14/300\n",
      "54/54 [==============================] - 1s 11ms/step - loss: 0.0306 - accuracy: 0.9914 - val_loss: 0.0709 - val_accuracy: 0.9800\n",
      "Epoch 15/300\n",
      "54/54 [==============================] - 1s 11ms/step - loss: 0.0261 - accuracy: 0.9929 - val_loss: 0.0698 - val_accuracy: 0.9797\n",
      "Epoch 16/300\n",
      "54/54 [==============================] - 1s 11ms/step - loss: 0.0218 - accuracy: 0.9944 - val_loss: 0.0707 - val_accuracy: 0.9792\n",
      "Epoch 17/300\n",
      "54/54 [==============================] - 1s 11ms/step - loss: 0.0189 - accuracy: 0.9956 - val_loss: 0.0687 - val_accuracy: 0.9802\n"
     ]
    },
    {
     "data": {
      "text/plain": [
       "<tensorflow.python.keras.callbacks.History at 0x2a3c594a160>"
      ]
     },
     "execution_count": 61,
     "metadata": {},
     "output_type": "execute_result"
    }
   ],
   "source": [
    "model.fit(X_train, y_train, epochs=300,\n",
    "         batch_size=1000,\n",
    "         validation_split=0.1,\n",
    "         callbacks=callbacks)"
   ]
  },
  {
   "cell_type": "markdown",
   "id": "advanced-carry",
   "metadata": {},
   "source": [
    "## 모델평가"
   ]
  },
  {
   "cell_type": "code",
   "execution_count": 62,
   "id": "boring-angle",
   "metadata": {},
   "outputs": [
    {
     "name": "stdout",
     "output_type": "stream",
     "text": [
      "313/313 [==============================] - 1s 1ms/step - loss: 0.0674 - accuracy: 0.9794\n"
     ]
    }
   ],
   "source": [
    "results = model.evaluate(X_test, y_test, verbose=1)"
   ]
  },
  {
   "cell_type": "code",
   "execution_count": 63,
   "id": "mental-nursing",
   "metadata": {},
   "outputs": [
    {
     "name": "stdout",
     "output_type": "stream",
     "text": [
      "['loss', 'accuracy']\n",
      "[0.06735158711671829, 0.9793999791145325]\n",
      "loss : 0.06735158711671829\n",
      "mse : 0.9793999791145325\n"
     ]
    }
   ],
   "source": [
    "print(model.metrics_names)\n",
    "print(results)\n",
    "print('loss :', results[0])\n",
    "print('mse :', results[1])"
   ]
  },
  {
   "cell_type": "markdown",
   "id": "institutional-cycle",
   "metadata": {},
   "source": [
    "테스트 결과 : 약 98%의 정확도를 확인할 수 있다."
   ]
  },
  {
   "cell_type": "markdown",
   "id": "tender-africa",
   "metadata": {},
   "source": [
    "# ----------------------------------------------------------------------------"
   ]
  },
  {
   "cell_type": "markdown",
   "id": "level-antique",
   "metadata": {},
   "source": [
    "# MNIST 또 다른 방법의 실습"
   ]
  },
  {
   "cell_type": "code",
   "execution_count": 86,
   "id": "unable-recorder",
   "metadata": {},
   "outputs": [],
   "source": [
    "import tensorflow as tf\n",
    "import matplotlib.pyplot as plt\n",
    "\n",
    "from tensorflow.keras.models import Sequential\n",
    "from tensorflow.keras.layers import Flatten\n",
    "from tensorflow.keras.layers import Dense\n",
    "from tensorflow.keras.layers import Dropout\n",
    "from tensorflow.keras.layers import Activation\n",
    "from tensorflow.keras.callbacks import EarlyStopping, ModelCheckpoint\n",
    "from sklearn.model_selection import train_test_split\n",
    "from tensorflow.keras.datasets import mnist\n",
    "from tensorflow.keras.utils import to_categorical\n",
    "\n",
    "from IPython.display import Image"
   ]
  },
  {
   "cell_type": "code",
   "execution_count": 87,
   "id": "multiple-address",
   "metadata": {},
   "outputs": [],
   "source": [
    "(X_train, y_train), (X_test, y_test) = mnist.load_data()"
   ]
  },
  {
   "cell_type": "code",
   "execution_count": 88,
   "id": "respiratory-material",
   "metadata": {},
   "outputs": [
    {
     "data": {
      "image/png": "[encoded data removed]",
      "text/plain": [
       "<Figure size 432x288 with 1 Axes>"
      ]
     },
     "metadata": {
      "needs_background": "light"
     },
     "output_type": "display_data"
    }
   ],
   "source": [
    "plt.imshow(X_train[0])\n",
    "plt.show()"
   ]
  },
  {
   "cell_type": "code",
   "execution_count": 89,
   "id": "everyday-holly",
   "metadata": {},
   "outputs": [
    {
     "data": {
      "image/png": "[encoded data removed]",
      "text/plain": [
       "<Figure size 432x288 with 1 Axes>"
      ]
     },
     "metadata": {
      "needs_background": "light"
     },
     "output_type": "display_data"
    }
   ],
   "source": [
    "plt.imshow(X_test[0],'gray')\n",
    "plt.show()"
   ]
  },
  {
   "cell_type": "markdown",
   "id": "annoying-horizon",
   "metadata": {},
   "source": [
    "# 행변환 : 1차원 배열을 2차원으로"
   ]
  },
  {
   "cell_type": "code",
   "execution_count": 90,
   "id": "abroad-nightmare",
   "metadata": {},
   "outputs": [],
   "source": [
    "X_train = X_train.reshape((X_train.shape[0], -1))\n",
    "X_test = X_test.reshape((X_test.shape[0], -1))"
   ]
  },
  {
   "cell_type": "code",
   "execution_count": 91,
   "id": "amino-legend",
   "metadata": {},
   "outputs": [],
   "source": [
    "# 학습용 데이터의 1/3만 테스트한다.\n",
    "\n",
    "X_train, _, y_train, _ = train_test_split(X_train, y_train,\n",
    "                                         test_size= 0.67,\n",
    "                                         random_state=7)"
   ]
  },
  {
   "cell_type": "code",
   "execution_count": 92,
   "id": "invalid-president",
   "metadata": {},
   "outputs": [],
   "source": [
    "# one-hot encoding\n",
    "y_train = to_categorical(y_train)\n",
    "y_test = to_categorical(y_test)"
   ]
  },
  {
   "cell_type": "code",
   "execution_count": 93,
   "id": "specific-inquiry",
   "metadata": {},
   "outputs": [
    {
     "name": "stdout",
     "output_type": "stream",
     "text": [
      "(19800, 784) (10000, 784) (19800, 10) (10000, 10)\n"
     ]
    }
   ],
   "source": [
    "print(X_train.shape, X_test.shape, y_train.shape, y_test.shape)"
   ]
  },
  {
   "cell_type": "code",
   "execution_count": 94,
   "id": "incredible-atlanta",
   "metadata": {},
   "outputs": [],
   "source": [
    "# 모델학습\n",
    "from keras.models import Sequential\n",
    "from keras.layers import Activation, Dense\n",
    "from keras import optimizers"
   ]
  },
  {
   "cell_type": "code",
   "execution_count": 95,
   "id": "stopped-afternoon",
   "metadata": {},
   "outputs": [],
   "source": [
    "model = Sequential()\n",
    "\n",
    "model.add(Dense(50, input_shape=(784,)))\n",
    "model.add(Activation('sigmoid'))\n",
    "model.add(Dense(50))\n",
    "model.add(Activation('sigmoid'))\n",
    "model.add(Dense(50))\n",
    "model.add(Activation('sigmoid'))\n",
    "model.add(Dense(50))\n",
    "model.add(Activation('sigmoid'))\n",
    "model.add(Dense(10))\n",
    "model.add(Activation('softmax'))"
   ]
  },
  {
   "cell_type": "code",
   "execution_count": 96,
   "id": "suited-bundle",
   "metadata": {},
   "outputs": [],
   "source": [
    "sgd = optimizers.SGD(lr=0.001)\n",
    "\n",
    "model.compile(optimizer=sgd,\n",
    "             loss = 'categorical_crossentropy',\n",
    "             metrics=['accuracy'])"
   ]
  },
  {
   "cell_type": "code",
   "execution_count": 98,
   "id": "sensitive-retirement",
   "metadata": {},
   "outputs": [],
   "source": [
    "history = model.fit(X_train, y_train, batch_size=256,\n",
    "                   validation_split=0.3,\n",
    "                   epochs=100, verbose=0)"
   ]
  },
  {
   "cell_type": "code",
   "execution_count": 102,
   "id": "velvet-robertson",
   "metadata": {},
   "outputs": [
    {
     "name": "stdout",
     "output_type": "stream",
     "text": [
      "dict_keys(['loss', 'accuracy', 'val_loss', 'val_accuracy'])\n",
      "[2.375948429107666, 2.363243818283081, 2.3528623580932617, 2.344355821609497, 2.337360143661499, 2.331460475921631, 2.326476812362671, 2.3222672939300537, 2.3187379837036133, 2.3158934116363525, 2.313420295715332, 2.3113415241241455, 2.3096160888671875, 2.30812406539917, 2.306865930557251, 2.305805206298828, 2.304863214492798, 2.3040599822998047, 2.3033969402313232, 2.302863359451294, 2.3023593425750732, 2.301945686340332, 2.3015918731689453, 2.3012914657592773, 2.301017999649048, 2.3007760047912598, 2.300581932067871, 2.3004143238067627, 2.3002755641937256, 2.3001468181610107, 2.3000175952911377, 2.299924850463867, 2.299823045730591, 2.299747943878174, 2.2996749877929688, 2.299607992172241, 2.299560070037842, 2.2995104789733887, 2.2994589805603027, 2.2994136810302734, 2.299370288848877, 2.299330949783325, 2.2992944717407227, 2.2992630004882812, 2.2992334365844727, 2.299199104309082, 2.2991676330566406, 2.2991347312927246, 2.2991085052490234, 2.2990808486938477, 2.2990529537200928, 2.29902982711792, 2.2990033626556396, 2.2989771366119385, 2.298956871032715, 2.2989273071289062, 2.2989063262939453, 2.298879861831665, 2.2988529205322266, 2.298833131790161, 2.298809766769409, 2.298783540725708, 2.2987635135650635, 2.2987356185913086, 2.298715353012085, 2.298691749572754, 2.2986676692962646, 2.2986488342285156, 2.2986209392547607, 2.298600435256958, 2.2985785007476807, 2.298555374145508, 2.2985358238220215, 2.2985126972198486, 2.2984910011291504, 2.2984673976898193, 2.2984440326690674, 2.298421621322632, 2.2984020709991455, 2.2983806133270264, 2.2983577251434326, 2.2983365058898926, 2.2983081340789795, 2.298292636871338, 2.2982678413391113, 2.298245429992676, 2.298222780227661, 2.298203468322754, 2.2981808185577393, 2.298156499862671, 2.298135757446289, 2.298116445541382, 2.2980895042419434, 2.29807186126709, 2.298048973083496, 2.2980217933654785, 2.298001527786255, 2.297982931137085, 2.2979588508605957, 2.297938823699951]\n"
     ]
    }
   ],
   "source": [
    "print(history.history.keys())\n",
    "print(history.history['loss'])"
   ]
  },
  {
   "cell_type": "code",
   "execution_count": 104,
   "id": "treated-concentration",
   "metadata": {},
   "outputs": [
    {
     "data": {
      "image/png": "[encoded data removed]",
      "text/plain": [
       "<Figure size 432x288 with 1 Axes>"
      ]
     },
     "metadata": {
      "needs_background": "light"
     },
     "output_type": "display_data"
    }
   ],
   "source": [
    "# 시각화\n",
    "\n",
    "plt.plot(history.history['loss'])\n",
    "plt.plot(history.history['accuracy'])\n",
    "plt.plot(history.history['val_loss'])\n",
    "plt.plot(history.history['val_accuracy'])\n",
    "\n",
    "plt.legend(['train acc', 'valid acc', 'train acc', 'valid acc'],\n",
    "          loc = 'upper left')\n",
    "\n",
    "plt.show()"
   ]
  },
  {
   "cell_type": "code",
   "execution_count": null,
   "id": "mighty-yacht",
   "metadata": {},
   "outputs": [],
   "source": []
  }
 ],
 "metadata": {
  "kernelspec": {
   "display_name": "Python 3",
   "language": "python",
   "name": "python3"
  },
  "language_info": {
   "codemirror_mode": {
    "name": "ipython",
    "version": 3
   },
   "file_extension": ".py",
   "mimetype": "text/x-python",
   "name": "python",
   "nbconvert_exporter": "python",
   "pygments_lexer": "ipython3",
   "version": "3.8.7"
  }
 },
 "nbformat": 4,
 "nbformat_minor": 5
}
