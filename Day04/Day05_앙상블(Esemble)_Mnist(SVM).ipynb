{
 "cells": [
  {
   "cell_type": "markdown",
   "id": "naked-ultimate",
   "metadata": {},
   "source": [
    "# 앙상블\n",
    "\n",
    "- 여러개의 분류 모델을 조합하여 더 나은 성능을 낼 수 있게 하는 방법"
   ]
  },
  {
   "cell_type": "markdown",
   "id": "joint-silly",
   "metadata": {},
   "source": [
    "#### 앙상블 - 백지장도 맞들면 낫다"
   ]
  },
  {
   "cell_type": "markdown",
   "id": "adaptive-foster",
   "metadata": {},
   "source": [
    "http://yann.lecun.com/exdb/mnist/"
   ]
  },
  {
   "cell_type": "markdown",
   "id": "sporting-sheffield",
   "metadata": {},
   "source": [
    "- train-images-idx3-ubyte.gz:  training set images (9912422 bytes)\n",
    "- train-labels-idx1-ubyte.gz:  training set labels (28881 bytes)\n",
    "- t10k-images-idx3-ubyte.gz:   test set images (1648877 bytes)\n",
    "- t10k-labels-idx1-ubyte.gz:   test set labels (4542 bytes)"
   ]
  },
  {
   "cell_type": "code",
   "execution_count": 2,
   "id": "universal-envelope",
   "metadata": {},
   "outputs": [],
   "source": [
    "from sklearn import datasets\n",
    "from sklearn import tree\n",
    "from sklearn.ensemble import RandomForestClassifier\n",
    "from sklearn.model_selection import cross_val_score # 교차검증 빠짐없이 검증을 함\n",
    "\n",
    "import matplotlib.pyplot as plt\n",
    "import pandas as pd\n",
    "import numpy as np\n",
    "\n",
    "np.random.seed(5)"
   ]
  },
  {
   "cell_type": "markdown",
   "id": "continued-copper",
   "metadata": {},
   "source": [
    "### 손글씨 데이터 호출"
   ]
  },
  {
   "cell_type": "code",
   "execution_count": 4,
   "id": "practical-sitting",
   "metadata": {},
   "outputs": [
    {
     "data": {
      "text/plain": [
       "(array([[ 0.,  0.,  5., ...,  0.,  0.,  0.],\n",
       "        [ 0.,  0.,  0., ..., 10.,  0.,  0.],\n",
       "        [ 0.,  0.,  0., ..., 16.,  9.,  0.],\n",
       "        ...,\n",
       "        [ 0.,  0.,  1., ...,  6.,  0.,  0.],\n",
       "        [ 0.,  0.,  2., ..., 12.,  0.,  0.],\n",
       "        [ 0.,  0., 10., ..., 12.,  1.,  0.]]),\n",
       " array([0, 1, 2, ..., 8, 9, 8]))"
      ]
     },
     "execution_count": 4,
     "metadata": {},
     "output_type": "execute_result"
    }
   ],
   "source": [
    "mnist = datasets.load_digits()\n",
    "\n",
    "features, labels = mnist.data, mnist.target\n",
    "\n",
    "features, labels"
   ]
  },
  {
   "cell_type": "code",
   "execution_count": 10,
   "id": "fifty-miller",
   "metadata": {},
   "outputs": [
    {
     "data": {
      "text/plain": [
       "(1797, 1797)"
      ]
     },
     "execution_count": 10,
     "metadata": {},
     "output_type": "execute_result"
    }
   ],
   "source": [
    "len(features), len(labels)"
   ]
  },
  {
   "cell_type": "markdown",
   "id": "functional-acting",
   "metadata": {},
   "source": [
    "# 교차 검증"
   ]
  },
  {
   "cell_type": "code",
   "execution_count": 11,
   "id": "later-citizen",
   "metadata": {},
   "outputs": [],
   "source": [
    "# %%writtefile cross_validation.py  저장 시\n",
    "# from cross_validation import cross_validation 호출시\n",
    "# C:/Users/로그온계정명/AppData/Local/Programs/Python/Python39/Lib/cross_validation 에 저장\n",
    "\n",
    "\n",
    "# 10번의 교차검증 수행\n",
    "\n",
    "def cross_validation(classifier, features, labels): # 분류기, 테스트데이터, 정답데이터\n",
    "    cv_scores = []\n",
    "    \n",
    "    for i in range(10):\n",
    "        scores = cross_val_score(classifier, features, labels,\n",
    "                                cv = 10, # 트리구조에서 10개로 분할 \n",
    "                                scoring = 'accuracy')\n",
    "        cv_scores.append(scores.mean())\n",
    "        \n",
    "    return cv_scores"
   ]
  },
  {
   "cell_type": "markdown",
   "id": "standing-visit",
   "metadata": {},
   "source": [
    "mnist 손글씨 검증 정확도"
   ]
  },
  {
   "cell_type": "code",
   "execution_count": 14,
   "id": "packed-kitty",
   "metadata": {},
   "outputs": [
    {
     "data": {
      "text/plain": [
       "[0.8296958410924891,\n",
       " 0.819137181874612,\n",
       " 0.8285878336436996,\n",
       " 0.8274736188702668,\n",
       " 0.8280446927374301,\n",
       " 0.8319304779639974,\n",
       " 0.8308162631905649,\n",
       " 0.8230446927374302,\n",
       " 0.8269056486654252,\n",
       " 0.8280229671011794]"
      ]
     },
     "execution_count": 14,
     "metadata": {},
     "output_type": "execute_result"
    }
   ],
   "source": [
    "# 의사결정나무로 작업\n",
    "dt_cv_scores = cross_validation(tree.DecisionTreeClassifier(), features, labels)\n",
    "dt_cv_scores"
   ]
  },
  {
   "cell_type": "code",
   "execution_count": 16,
   "id": "arabic-status",
   "metadata": {},
   "outputs": [
    {
     "data": {
      "text/plain": [
       "[0.9504655493482307,\n",
       " 0.9410117939168219,\n",
       " 0.9510211049037863,\n",
       " 0.9549162011173185,\n",
       " 0.9504469273743016,\n",
       " 0.9449130974549969,\n",
       " 0.9510117939168218,\n",
       " 0.9493513345747981,\n",
       " 0.9488081936685286,\n",
       " 0.9471198013656114]"
      ]
     },
     "execution_count": 16,
     "metadata": {},
     "output_type": "execute_result"
    }
   ],
   "source": [
    "# 랜덤포레스트로 작업\n",
    "rf_cv_scores = cross_validation(RandomForestClassifier(), features, labels)\n",
    "rf_cv_scores"
   ]
  },
  {
   "cell_type": "markdown",
   "id": "subjective-impression",
   "metadata": {},
   "source": [
    "# 검증결과 시각화 : dt & rf"
   ]
  },
  {
   "cell_type": "code",
   "execution_count": 21,
   "id": "extreme-advertising",
   "metadata": {},
   "outputs": [
    {
     "data": {
      "text/html": [
       "<div>\n",
       "<style scoped>\n",
       "    .dataframe tbody tr th:only-of-type {\n",
       "        vertical-align: middle;\n",
       "    }\n",
       "\n",
       "    .dataframe tbody tr th {\n",
       "        vertical-align: top;\n",
       "    }\n",
       "\n",
       "    .dataframe thead th {\n",
       "        text-align: right;\n",
       "    }\n",
       "</style>\n",
       "<table border=\"1\" class=\"dataframe\">\n",
       "  <thead>\n",
       "    <tr style=\"text-align: right;\">\n",
       "      <th></th>\n",
       "      <th>random_forest</th>\n",
       "      <th>decision_tree</th>\n",
       "    </tr>\n",
       "  </thead>\n",
       "  <tbody>\n",
       "    <tr>\n",
       "      <th>0</th>\n",
       "      <td>0.950466</td>\n",
       "      <td>0.829696</td>\n",
       "    </tr>\n",
       "    <tr>\n",
       "      <th>1</th>\n",
       "      <td>0.941012</td>\n",
       "      <td>0.819137</td>\n",
       "    </tr>\n",
       "    <tr>\n",
       "      <th>2</th>\n",
       "      <td>0.951021</td>\n",
       "      <td>0.828588</td>\n",
       "    </tr>\n",
       "    <tr>\n",
       "      <th>3</th>\n",
       "      <td>0.954916</td>\n",
       "      <td>0.827474</td>\n",
       "    </tr>\n",
       "    <tr>\n",
       "      <th>4</th>\n",
       "      <td>0.950447</td>\n",
       "      <td>0.828045</td>\n",
       "    </tr>\n",
       "    <tr>\n",
       "      <th>5</th>\n",
       "      <td>0.944913</td>\n",
       "      <td>0.831930</td>\n",
       "    </tr>\n",
       "    <tr>\n",
       "      <th>6</th>\n",
       "      <td>0.951012</td>\n",
       "      <td>0.830816</td>\n",
       "    </tr>\n",
       "    <tr>\n",
       "      <th>7</th>\n",
       "      <td>0.949351</td>\n",
       "      <td>0.823045</td>\n",
       "    </tr>\n",
       "    <tr>\n",
       "      <th>8</th>\n",
       "      <td>0.948808</td>\n",
       "      <td>0.826906</td>\n",
       "    </tr>\n",
       "    <tr>\n",
       "      <th>9</th>\n",
       "      <td>0.947120</td>\n",
       "      <td>0.828023</td>\n",
       "    </tr>\n",
       "  </tbody>\n",
       "</table>\n",
       "</div>"
      ],
      "text/plain": [
       "   random_forest  decision_tree\n",
       "0       0.950466       0.829696\n",
       "1       0.941012       0.819137\n",
       "2       0.951021       0.828588\n",
       "3       0.954916       0.827474\n",
       "4       0.950447       0.828045\n",
       "5       0.944913       0.831930\n",
       "6       0.951012       0.830816\n",
       "7       0.949351       0.823045\n",
       "8       0.948808       0.826906\n",
       "9       0.947120       0.828023"
      ]
     },
     "execution_count": 21,
     "metadata": {},
     "output_type": "execute_result"
    }
   ],
   "source": [
    "cv_list = [\n",
    "    ['random_forest', rf_cv_scores],\n",
    "    ['decision_tree', dt_cv_scores]\n",
    "]\n",
    "\n",
    "df = pd.DataFrame.from_dict(dict(cv_list))\n",
    "df"
   ]
  },
  {
   "cell_type": "code",
   "execution_count": 27,
   "id": "informational-clark",
   "metadata": {},
   "outputs": [
    {
     "data": {
      "text/plain": [
       "<AxesSubplot:>"
      ]
     },
     "execution_count": 27,
     "metadata": {},
     "output_type": "execute_result"
    },
    {
     "data": {
      "image/png": "[encoded data removed]",
      "text/plain": [
       "<Figure size 432x288 with 1 Axes>"
      ]
     },
     "metadata": {
      "needs_background": "light"
     },
     "output_type": "display_data"
    }
   ],
   "source": [
    "df.plot() # 정확도는 랜덤포레스트가 훨씬 높음"
   ]
  },
  {
   "cell_type": "code",
   "execution_count": 28,
   "id": "professional-emphasis",
   "metadata": {},
   "outputs": [
    {
     "data": {
      "text/plain": [
       "0.8273659217877096"
      ]
     },
     "execution_count": 28,
     "metadata": {},
     "output_type": "execute_result"
    }
   ],
   "source": [
    "# 의사결정나무 정확도\n",
    "np.mean(dt_cv_scores)"
   ]
  },
  {
   "cell_type": "code",
   "execution_count": 29,
   "id": "extended-intelligence",
   "metadata": {},
   "outputs": [
    {
     "data": {
      "text/plain": [
       "0.9489065797641215"
      ]
     },
     "execution_count": 29,
     "metadata": {},
     "output_type": "execute_result"
    }
   ],
   "source": [
    "# 랜덤포레스트 정확도\n",
    "np.mean(rf_cv_scores)"
   ]
  },
  {
   "cell_type": "markdown",
   "id": "photographic-robert",
   "metadata": {},
   "source": [
    "# ----------------------------------------------------------"
   ]
  },
  {
   "cell_type": "markdown",
   "id": "abandoned-purse",
   "metadata": {},
   "source": [
    "# SVM 으로 손글씨 데이터 분류"
   ]
  },
  {
   "cell_type": "markdown",
   "id": "driven-jumping",
   "metadata": {},
   "source": [
    "# mnist-download"
   ]
  },
  {
   "cell_type": "code",
   "execution_count": 1,
   "id": "adolescent-punch",
   "metadata": {},
   "outputs": [
    {
     "name": "stdout",
     "output_type": "stream",
     "text": [
      "download: http://yann.lecun.com/exdb/mnist/train-images-idx3-ubyte.gz\n",
      "download: http://yann.lecun.com/exdb/mnist/train-labels-idx1-ubyte.gz\n",
      "download: http://yann.lecun.com/exdb/mnist/t10k-images-idx3-ubyte.gz\n",
      "download: http://yann.lecun.com/exdb/mnist/t10k-labels-idx1-ubyte.gz\n",
      "gzip: train-images-idx3-ubyte.gz\n",
      "gzip: train-labels-idx1-ubyte.gz\n",
      "gzip: t10k-images-idx3-ubyte.gz\n",
      "gzip: t10k-labels-idx1-ubyte.gz\n",
      "ok\n"
     ]
    }
   ],
   "source": [
    "import urllib.request as req\n",
    "import gzip, os, os.path\n",
    "\n",
    "savepath = \"./mnist\"\n",
    "baseurl = \"http://yann.lecun.com/exdb/mnist\"\n",
    "files = [\n",
    "    \"train-images-idx3-ubyte.gz\",\n",
    "    \"train-labels-idx1-ubyte.gz\",\n",
    "    \"t10k-images-idx3-ubyte.gz\",\n",
    "    \"t10k-labels-idx1-ubyte.gz\"]\n",
    "\n",
    "# 다운로드\n",
    "if not os.path.exists(savepath): os.mkdir(savepath)\n",
    "for f in files:\n",
    "    url = baseurl + \"/\" + f\n",
    "    loc = savepath + \"/\" + f\n",
    "    print(\"download:\", url)\n",
    "    if not os.path.exists(loc):\n",
    "        req.urlretrieve(url, loc)\n",
    "\n",
    "# GZip 압축 해제\n",
    "for f in files:\n",
    "    gz_file = savepath + \"/\" + f\n",
    "    raw_file = savepath + \"/\" + f.replace(\".gz\", \"\")\n",
    "    print(\"gzip:\", f)\n",
    "    with gzip.open(gz_file, \"rb\") as fp:\n",
    "        body = fp.read()\n",
    "        with open(raw_file, \"wb\") as w:\n",
    "            w.write(body)\n",
    "print(\"ok\")\n"
   ]
  },
  {
   "cell_type": "markdown",
   "id": "clean-caribbean",
   "metadata": {},
   "source": [
    "## mnist-tocsv"
   ]
  },
  {
   "cell_type": "code",
   "execution_count": 3,
   "id": "caroline-consortium",
   "metadata": {},
   "outputs": [],
   "source": [
    "import struct\n",
    "def to_csv(name, maxdata):\n",
    "    # 레이블 파일과 이미지 파일 열기\n",
    "    lbl_f = open(\"./mnist/\"+name+\"-labels-idx1-ubyte\", \"rb\")\n",
    "    img_f = open(\"./mnist/\"+name+\"-images-idx3-ubyte\", \"rb\")\n",
    "    csv_f = open(\"./mnist/\"+name+\".csv\", \"w\", encoding=\"utf-8\")\n",
    "    # 헤더 정보 읽기 --- (※1)\n",
    "    mag, lbl_count = struct.unpack(\">II\", lbl_f.read(8))\n",
    "    mag, img_count = struct.unpack(\">II\", img_f.read(8))\n",
    "    rows, cols = struct.unpack(\">II\", img_f.read(8))\n",
    "    pixels = rows * cols\n",
    "    # 이미지 데이터를 읽고 CSV로 저장하기 --- (※2)\n",
    "    res = []\n",
    "    for idx in range(lbl_count):\n",
    "        if idx > maxdata: break\n",
    "        label = struct.unpack(\"B\", lbl_f.read(1))[0]\n",
    "        bdata = img_f.read(pixels)\n",
    "        sdata = list(map(lambda n: str(n), bdata))\n",
    "        csv_f.write(str(label)+\",\")\n",
    "        csv_f.write(\",\".join(sdata)+\"\\r\\n\")\n",
    "        # 잘 저장됐는지 이미지 파일로 저장해서 테스트하기 -- (※3)\n",
    "        if idx < 10:\n",
    "            s = \"P2 28 28 255\\n\"\n",
    "            s += \" \".join(sdata)\n",
    "            iname = \"./mnist/{0}-{1}-{2}.pgm\".format(name,idx,label)\n",
    "            with open(iname, \"w\", encoding=\"utf-8\") as f:\n",
    "                f.write(s)\n",
    "    csv_f.close()\n",
    "    lbl_f.close()\n",
    "    img_f.close()\n",
    "    \n",
    "# 결과를 파일로 출력하기 --- (※4)\n",
    "#to_csv(\"train\", 1000)\n",
    "to_csv(\"train\", 60000)\n",
    "to_csv(\"t10k\", 10000)\n"
   ]
  },
  {
   "cell_type": "markdown",
   "id": "distinct-horror",
   "metadata": {},
   "source": [
    "# mnist-train"
   ]
  },
  {
   "cell_type": "code",
   "execution_count": null,
   "id": "unlikely-purple",
   "metadata": {},
   "outputs": [],
   "source": [
    "from sklearn import model_selection, svm, metrics\n",
    "\n",
    "# CSV 파일을 읽어 들이고 가공하기 --- (※1)\n",
    "def load_csv(fname):\n",
    "    labels = []\n",
    "    images = []\n",
    "    with open(fname, \"r\") as f:\n",
    "        for line in f:\n",
    "            cols = line.split(\",\")\n",
    "            if len(cols) < 2: continue\n",
    "            labels.append(int(cols.pop(0)))\n",
    "            vals = list(map(lambda n: int(n) / 256, cols))\n",
    "            images.append(vals)\n",
    "    return {\"labels\":labels, \"images\":images}\n",
    "data = load_csv(\"./mnist/train.csv\")\n",
    "test = load_csv(\"./mnist/t10k.csv\")\n",
    "\n",
    "# 학습하기 --- (※2)\n",
    "clf = svm.SVC()\n",
    "clf.fit(data[\"images\"], data[\"labels\"])\n",
    "\n",
    "# 예측하기 --- (※3)\n",
    "predict = clf.predict(test[\"images\"])\n",
    "\n",
    "# 결과 확인하기 --- (※4)\n",
    "ac_score = metrics.accuracy_score(test[\"labels\"], predict)\n",
    "cl_report = metrics.classification_report(test[\"labels\"], predict)\n",
    "print(\"정답률 =\", ac_score)\n",
    "print(\"리포트 =\")\n",
    "print(cl_report)\n"
   ]
  },
  {
   "cell_type": "code",
   "execution_count": null,
   "id": "moral-thanksgiving",
   "metadata": {},
   "outputs": [],
   "source": []
  },
  {
   "cell_type": "code",
   "execution_count": null,
   "id": "following-presence",
   "metadata": {},
   "outputs": [],
   "source": []
  }
 ],
 "metadata": {
  "kernelspec": {
   "display_name": "Python 3",
   "language": "python",
   "name": "python3"
  },
  "language_info": {
   "codemirror_mode": {
    "name": "ipython",
    "version": 3
   },
   "file_extension": ".py",
   "mimetype": "text/x-python",
   "name": "python",
   "nbconvert_exporter": "python",
   "pygments_lexer": "ipython3",
   "version": "3.9.1"
  }
 },
 "nbformat": 4,
 "nbformat_minor": 5
}
